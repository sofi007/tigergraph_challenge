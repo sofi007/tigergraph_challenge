{
 "cells": [
  {
   "cell_type": "code",
   "execution_count": 3,
   "id": "72c9436e",
   "metadata": {},
   "outputs": [],
   "source": [
    "import pandas as pd"
   ]
  },
  {
   "cell_type": "code",
   "execution_count": 4,
   "id": "ed120e10",
   "metadata": {},
   "outputs": [
    {
     "data": {
      "text/html": [
       "<div>\n",
       "<style scoped>\n",
       "    .dataframe tbody tr th:only-of-type {\n",
       "        vertical-align: middle;\n",
       "    }\n",
       "\n",
       "    .dataframe tbody tr th {\n",
       "        vertical-align: top;\n",
       "    }\n",
       "\n",
       "    .dataframe thead th {\n",
       "        text-align: right;\n",
       "    }\n",
       "</style>\n",
       "<table border=\"1\" class=\"dataframe\">\n",
       "  <thead>\n",
       "    <tr style=\"text-align: right;\">\n",
       "      <th></th>\n",
       "      <th>Prscrbr_NPI</th>\n",
       "      <th>Prscrbr_Last_Org_Name</th>\n",
       "      <th>Prscrbr_First_Name</th>\n",
       "      <th>Prscrbr_City</th>\n",
       "      <th>Prscrbr_State_Abrvtn</th>\n",
       "      <th>Prscrbr_State_FIPS</th>\n",
       "      <th>Prscrbr_Type</th>\n",
       "      <th>Prscrbr_Type_Src</th>\n",
       "      <th>Brnd_Name</th>\n",
       "      <th>Gnrc_Name</th>\n",
       "      <th>...</th>\n",
       "      <th>Tot_Day_Suply</th>\n",
       "      <th>Tot_Drug_Cst</th>\n",
       "      <th>Tot_Benes</th>\n",
       "      <th>GE65_Sprsn_Flag</th>\n",
       "      <th>GE65_Tot_Clms</th>\n",
       "      <th>GE65_Tot_30day_Fills</th>\n",
       "      <th>GE65_Tot_Drug_Cst</th>\n",
       "      <th>GE65_Tot_Day_Suply</th>\n",
       "      <th>GE65_Bene_Sprsn_Flag</th>\n",
       "      <th>GE65_Tot_Benes</th>\n",
       "    </tr>\n",
       "  </thead>\n",
       "  <tbody>\n",
       "    <tr>\n",
       "      <th>0</th>\n",
       "      <td>1003000126</td>\n",
       "      <td>Enkeshafi</td>\n",
       "      <td>Ardalan</td>\n",
       "      <td>Cumberland</td>\n",
       "      <td>MD</td>\n",
       "      <td>24</td>\n",
       "      <td>Internal Medicine</td>\n",
       "      <td>S</td>\n",
       "      <td>Amiodarone Hcl</td>\n",
       "      <td>Amiodarone Hcl</td>\n",
       "      <td>...</td>\n",
       "      <td>360</td>\n",
       "      <td>150.76</td>\n",
       "      <td>NaN</td>\n",
       "      <td>NaN</td>\n",
       "      <td>13.0</td>\n",
       "      <td>13.0</td>\n",
       "      <td>150.76</td>\n",
       "      <td>360.0</td>\n",
       "      <td>*</td>\n",
       "      <td>NaN</td>\n",
       "    </tr>\n",
       "    <tr>\n",
       "      <th>1</th>\n",
       "      <td>1003000126</td>\n",
       "      <td>Enkeshafi</td>\n",
       "      <td>Ardalan</td>\n",
       "      <td>Cumberland</td>\n",
       "      <td>MD</td>\n",
       "      <td>24</td>\n",
       "      <td>Internal Medicine</td>\n",
       "      <td>S</td>\n",
       "      <td>Amlodipine Besylate</td>\n",
       "      <td>Amlodipine Besylate</td>\n",
       "      <td>...</td>\n",
       "      <td>780</td>\n",
       "      <td>92.81</td>\n",
       "      <td>12.0</td>\n",
       "      <td>NaN</td>\n",
       "      <td>22.0</td>\n",
       "      <td>26.0</td>\n",
       "      <td>92.81</td>\n",
       "      <td>780.0</td>\n",
       "      <td>NaN</td>\n",
       "      <td>12.0</td>\n",
       "    </tr>\n",
       "  </tbody>\n",
       "</table>\n",
       "<p>2 rows × 22 columns</p>\n",
       "</div>"
      ],
      "text/plain": [
       "   Prscrbr_NPI Prscrbr_Last_Org_Name Prscrbr_First_Name Prscrbr_City  \\\n",
       "0   1003000126             Enkeshafi            Ardalan   Cumberland   \n",
       "1   1003000126             Enkeshafi            Ardalan   Cumberland   \n",
       "\n",
       "  Prscrbr_State_Abrvtn  Prscrbr_State_FIPS       Prscrbr_Type  \\\n",
       "0                   MD                  24  Internal Medicine   \n",
       "1                   MD                  24  Internal Medicine   \n",
       "\n",
       "  Prscrbr_Type_Src            Brnd_Name            Gnrc_Name  ...  \\\n",
       "0                S       Amiodarone Hcl       Amiodarone Hcl  ...   \n",
       "1                S  Amlodipine Besylate  Amlodipine Besylate  ...   \n",
       "\n",
       "   Tot_Day_Suply  Tot_Drug_Cst  Tot_Benes  GE65_Sprsn_Flag  GE65_Tot_Clms  \\\n",
       "0            360        150.76        NaN              NaN           13.0   \n",
       "1            780         92.81       12.0              NaN           22.0   \n",
       "\n",
       "  GE65_Tot_30day_Fills  GE65_Tot_Drug_Cst  GE65_Tot_Day_Suply  \\\n",
       "0                 13.0             150.76               360.0   \n",
       "1                 26.0              92.81               780.0   \n",
       "\n",
       "   GE65_Bene_Sprsn_Flag  GE65_Tot_Benes  \n",
       "0                     *             NaN  \n",
       "1                   NaN            12.0  \n",
       "\n",
       "[2 rows x 22 columns]"
      ]
     },
     "execution_count": 4,
     "metadata": {},
     "output_type": "execute_result"
    }
   ],
   "source": [
    "df = pd.read_csv('data/MUP_DPR_RY21_P04_V10_DY19_NPIBN_1.csv', nrows=50)\n",
    "df.head(2)"
   ]
  },
  {
   "cell_type": "code",
   "execution_count": 5,
   "id": "bd96b0d8",
   "metadata": {},
   "outputs": [
    {
     "data": {
      "text/plain": [
       "Prscrbr_NPI                int64\n",
       "Prscrbr_Last_Org_Name     object\n",
       "Prscrbr_First_Name        object\n",
       "Prscrbr_City              object\n",
       "Prscrbr_State_Abrvtn      object\n",
       "Prscrbr_State_FIPS         int64\n",
       "Prscrbr_Type              object\n",
       "Prscrbr_Type_Src          object\n",
       "Brnd_Name                 object\n",
       "Gnrc_Name                 object\n",
       "Tot_Clms                   int64\n",
       "Tot_30day_Fills          float64\n",
       "Tot_Day_Suply              int64\n",
       "Tot_Drug_Cst             float64\n",
       "Tot_Benes                float64\n",
       "GE65_Sprsn_Flag           object\n",
       "GE65_Tot_Clms            float64\n",
       "GE65_Tot_30day_Fills     float64\n",
       "GE65_Tot_Drug_Cst        float64\n",
       "GE65_Tot_Day_Suply       float64\n",
       "GE65_Bene_Sprsn_Flag      object\n",
       "GE65_Tot_Benes           float64\n",
       "dtype: object"
      ]
     },
     "execution_count": 5,
     "metadata": {},
     "output_type": "execute_result"
    }
   ],
   "source": [
    "df.dtypes"
   ]
  },
  {
   "cell_type": "code",
   "execution_count": null,
   "id": "b46ac1e4",
   "metadata": {},
   "outputs": [],
   "source": [
    "df = df.drop(['Prscrbr_NPI', 'Tot_Clms', 'Tot_30day_Fills','Tot_Day_Suply', 'Tot_Drug_Cst', 'Tot_Benes', 'GE65_Tot_Clms', 'GE65_Tot_30day_Fills', 'GE65_Tot_Drug_Cst', 'GE65_Tot_Day_Suply', 'GE65_Tot_Benes'], axis=1)\n",
    "df.head(5)"
   ]
  },
  {
   "cell_type": "code",
   "execution_count": null,
   "id": "1ce6b2bd",
   "metadata": {},
   "outputs": [],
   "source": [
    "df.shape"
   ]
  },
  {
   "cell_type": "code",
   "execution_count": null,
   "id": "55957f33",
   "metadata": {},
   "outputs": [],
   "source": [
    "# Finding the null values.\n",
    "print(df.isnull().sum())"
   ]
  },
  {
   "cell_type": "code",
   "execution_count": null,
   "id": "31fe8f1c",
   "metadata": {},
   "outputs": [],
   "source": [
    "df.column_to_analyze.value_counts()"
   ]
  },
  {
   "cell_type": "code",
   "execution_count": null,
   "id": "ef18633d",
   "metadata": {},
   "outputs": [],
   "source": []
  }
 ],
 "metadata": {
  "kernelspec": {
   "display_name": "Python 3",
   "language": "python",
   "name": "python3"
  },
  "language_info": {
   "codemirror_mode": {
    "name": "ipython",
    "version": 3
   },
   "file_extension": ".py",
   "mimetype": "text/x-python",
   "name": "python",
   "nbconvert_exporter": "python",
   "pygments_lexer": "ipython3",
   "version": "3.8.10"
  }
 },
 "nbformat": 4,
 "nbformat_minor": 5
}
