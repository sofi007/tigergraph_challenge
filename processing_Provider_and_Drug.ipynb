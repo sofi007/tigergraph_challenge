{
 "cells": [
  {
   "cell_type": "code",
   "execution_count": 3,
   "id": "e086a8be",
   "metadata": {},
   "outputs": [],
   "source": [
    "import pandas as pd"
   ]
  },
  {
   "cell_type": "code",
   "execution_count": null,
   "id": "5e9e907b",
   "metadata": {},
   "outputs": [],
   "source": [
    "df = pd.read_csv('data/MUP_DPR_RY21_P04_V10_DY19_NPIBN_1.csv')\n",
    "df.head(2)"
   ]
  },
  {
   "cell_type": "code",
   "execution_count": null,
   "id": "fc455b0d",
   "metadata": {},
   "outputs": [],
   "source": [
    "df.dtypes"
   ]
  },
  {
   "cell_type": "code",
   "execution_count": 6,
   "id": "317dffa5",
   "metadata": {},
   "outputs": [
    {
     "data": {
      "text/html": [
       "<div>\n",
       "<style scoped>\n",
       "    .dataframe tbody tr th:only-of-type {\n",
       "        vertical-align: middle;\n",
       "    }\n",
       "\n",
       "    .dataframe tbody tr th {\n",
       "        vertical-align: top;\n",
       "    }\n",
       "\n",
       "    .dataframe thead th {\n",
       "        text-align: right;\n",
       "    }\n",
       "</style>\n",
       "<table border=\"1\" class=\"dataframe\">\n",
       "  <thead>\n",
       "    <tr style=\"text-align: right;\">\n",
       "      <th></th>\n",
       "      <th>Prscrbr_Last_Org_Name</th>\n",
       "      <th>Prscrbr_First_Name</th>\n",
       "      <th>Prscrbr_City</th>\n",
       "      <th>Prscrbr_State_Abrvtn</th>\n",
       "      <th>Prscrbr_State_FIPS</th>\n",
       "      <th>Prscrbr_Type</th>\n",
       "      <th>Prscrbr_Type_Src</th>\n",
       "      <th>Brnd_Name</th>\n",
       "      <th>Gnrc_Name</th>\n",
       "      <th>GE65_Sprsn_Flag</th>\n",
       "      <th>GE65_Bene_Sprsn_Flag</th>\n",
       "    </tr>\n",
       "  </thead>\n",
       "  <tbody>\n",
       "    <tr>\n",
       "      <th>0</th>\n",
       "      <td>Enkeshafi</td>\n",
       "      <td>Ardalan</td>\n",
       "      <td>Cumberland</td>\n",
       "      <td>MD</td>\n",
       "      <td>24</td>\n",
       "      <td>Internal Medicine</td>\n",
       "      <td>S</td>\n",
       "      <td>Amiodarone Hcl</td>\n",
       "      <td>Amiodarone Hcl</td>\n",
       "      <td>NaN</td>\n",
       "      <td>*</td>\n",
       "    </tr>\n",
       "    <tr>\n",
       "      <th>1</th>\n",
       "      <td>Enkeshafi</td>\n",
       "      <td>Ardalan</td>\n",
       "      <td>Cumberland</td>\n",
       "      <td>MD</td>\n",
       "      <td>24</td>\n",
       "      <td>Internal Medicine</td>\n",
       "      <td>S</td>\n",
       "      <td>Amlodipine Besylate</td>\n",
       "      <td>Amlodipine Besylate</td>\n",
       "      <td>NaN</td>\n",
       "      <td>NaN</td>\n",
       "    </tr>\n",
       "    <tr>\n",
       "      <th>2</th>\n",
       "      <td>Enkeshafi</td>\n",
       "      <td>Ardalan</td>\n",
       "      <td>Cumberland</td>\n",
       "      <td>MD</td>\n",
       "      <td>24</td>\n",
       "      <td>Internal Medicine</td>\n",
       "      <td>S</td>\n",
       "      <td>Atorvastatin Calcium</td>\n",
       "      <td>Atorvastatin Calcium</td>\n",
       "      <td>NaN</td>\n",
       "      <td>NaN</td>\n",
       "    </tr>\n",
       "    <tr>\n",
       "      <th>3</th>\n",
       "      <td>Enkeshafi</td>\n",
       "      <td>Ardalan</td>\n",
       "      <td>Cumberland</td>\n",
       "      <td>MD</td>\n",
       "      <td>24</td>\n",
       "      <td>Internal Medicine</td>\n",
       "      <td>S</td>\n",
       "      <td>Azithromycin</td>\n",
       "      <td>Azithromycin</td>\n",
       "      <td>#</td>\n",
       "      <td>#</td>\n",
       "    </tr>\n",
       "    <tr>\n",
       "      <th>4</th>\n",
       "      <td>Enkeshafi</td>\n",
       "      <td>Ardalan</td>\n",
       "      <td>Cumberland</td>\n",
       "      <td>MD</td>\n",
       "      <td>24</td>\n",
       "      <td>Internal Medicine</td>\n",
       "      <td>S</td>\n",
       "      <td>Carvedilol</td>\n",
       "      <td>Carvedilol</td>\n",
       "      <td>NaN</td>\n",
       "      <td>NaN</td>\n",
       "    </tr>\n",
       "  </tbody>\n",
       "</table>\n",
       "</div>"
      ],
      "text/plain": [
       "  Prscrbr_Last_Org_Name Prscrbr_First_Name Prscrbr_City Prscrbr_State_Abrvtn  \\\n",
       "0             Enkeshafi            Ardalan   Cumberland                   MD   \n",
       "1             Enkeshafi            Ardalan   Cumberland                   MD   \n",
       "2             Enkeshafi            Ardalan   Cumberland                   MD   \n",
       "3             Enkeshafi            Ardalan   Cumberland                   MD   \n",
       "4             Enkeshafi            Ardalan   Cumberland                   MD   \n",
       "\n",
       "   Prscrbr_State_FIPS       Prscrbr_Type Prscrbr_Type_Src  \\\n",
       "0                  24  Internal Medicine                S   \n",
       "1                  24  Internal Medicine                S   \n",
       "2                  24  Internal Medicine                S   \n",
       "3                  24  Internal Medicine                S   \n",
       "4                  24  Internal Medicine                S   \n",
       "\n",
       "              Brnd_Name             Gnrc_Name GE65_Sprsn_Flag  \\\n",
       "0        Amiodarone Hcl        Amiodarone Hcl             NaN   \n",
       "1   Amlodipine Besylate   Amlodipine Besylate             NaN   \n",
       "2  Atorvastatin Calcium  Atorvastatin Calcium             NaN   \n",
       "3          Azithromycin          Azithromycin               #   \n",
       "4            Carvedilol            Carvedilol             NaN   \n",
       "\n",
       "  GE65_Bene_Sprsn_Flag  \n",
       "0                    *  \n",
       "1                  NaN  \n",
       "2                  NaN  \n",
       "3                    #  \n",
       "4                  NaN  "
      ]
     },
     "execution_count": 6,
     "metadata": {},
     "output_type": "execute_result"
    }
   ],
   "source": [
    "df = df.drop(['Prscrbr_NPI', 'Tot_Clms', 'Tot_30day_Fills','Tot_Day_Suply', 'Tot_Drug_Cst', 'Tot_Benes', 'GE65_Tot_Clms', 'GE65_Tot_30day_Fills', 'GE65_Tot_Drug_Cst', 'GE65_Tot_Day_Suply', 'GE65_Tot_Benes'], axis=1)\n",
    "df.head(5)"
   ]
  },
  {
   "cell_type": "code",
   "execution_count": 7,
   "id": "16b75d8a",
   "metadata": {},
   "outputs": [
    {
     "data": {
      "text/plain": [
       "(50, 11)"
      ]
     },
     "execution_count": 7,
     "metadata": {},
     "output_type": "execute_result"
    }
   ],
   "source": [
    "df.shape"
   ]
  },
  {
   "cell_type": "code",
   "execution_count": null,
   "id": "1b37a354",
   "metadata": {},
   "outputs": [],
   "source": [
    "# Finding the null values.\n",
    "print(df.isnull().sum())"
   ]
  },
  {
   "cell_type": "code",
   "execution_count": 8,
   "id": "3e5ab2fa",
   "metadata": {},
   "outputs": [
    {
     "data": {
      "text/plain": [
       "Amiodarone Hcl                    2\n",
       "Allopurinol                       2\n",
       "Oxycodone-Acetaminophen           2\n",
       "Amlodipine Besylate               2\n",
       "Alendronate Sodium                1\n",
       "Premarin                          1\n",
       "Hydrocodone-Acetaminophen         1\n",
       "Lyrica                            1\n",
       "Meloxicam                         1\n",
       "Morphine Sulfate Er               1\n",
       "Oxycodone Hcl                     1\n",
       "Pregabalin                        1\n",
       "Tizanidine Hcl                    1\n",
       "Amoxicillin-Clavulanate Potass    1\n",
       "Tramadol Hcl                      1\n",
       "Amoxicillin                       1\n",
       "Gabapentin                        1\n",
       "Alprazolam                        1\n",
       "Clobetasol Propionate             1\n",
       "Clotrimazole-Betamethasone        1\n",
       "Estradiol                         1\n",
       "Femynor                           1\n",
       "Oxybutynin Chloride Er            1\n",
       "Cephalexin                        1\n",
       "Fentanyl                          1\n",
       "Duloxetine Hcl                    1\n",
       "Isosorbide Mononitrate Er         1\n",
       "Atorvastatin Calcium              1\n",
       "Azithromycin                      1\n",
       "Carvedilol                        1\n",
       "Cefdinir                          1\n",
       "Clopidogrel                       1\n",
       "Doxycycline Hyclate               1\n",
       "Eliquis                           1\n",
       "Furosemide                        1\n",
       "Lisinopril                        1\n",
       "Diclofenac Sodium                 1\n",
       "Losartan Potassium                1\n",
       "Metoprolol Succinate              1\n",
       "Metoprolol Tartrate               1\n",
       "Pantoprazole Sodium               1\n",
       "Prednisone                        1\n",
       "Acetaminophen-Codeine             1\n",
       "Baclofen                          1\n",
       "Cyclobenzaprine Hcl               1\n",
       "Atenolol                          1\n",
       "Name: Brnd_Name, dtype: int64"
      ]
     },
     "execution_count": 8,
     "metadata": {},
     "output_type": "execute_result"
    }
   ],
   "source": [
    "df.Brnd_Name.value_counts()"
   ]
  },
  {
   "cell_type": "code",
   "execution_count": null,
   "id": "463010e5",
   "metadata": {},
   "outputs": [],
   "source": []
  }
 ],
 "metadata": {
  "kernelspec": {
   "display_name": "Python 3",
   "language": "python",
   "name": "python3"
  },
  "language_info": {
   "codemirror_mode": {
    "name": "ipython",
    "version": 3
   },
   "file_extension": ".py",
   "mimetype": "text/x-python",
   "name": "python",
   "nbconvert_exporter": "python",
   "pygments_lexer": "ipython3",
   "version": "3.8.10"
  }
 },
 "nbformat": 4,
 "nbformat_minor": 5
}
