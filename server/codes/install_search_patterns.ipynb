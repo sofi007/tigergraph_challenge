{
 "cells": [
  {
   "cell_type": "code",
   "execution_count": 40,
   "metadata": {},
   "outputs": [],
   "source": [
    "import pandas as pd\n",
    "import requests\n",
    "import json\n",
    "import pyTigerGraph as tg\n",
    "import os.path\n",
    "from pathlib import Path"
   ]
  },
  {
   "cell_type": "code",
   "execution_count": 2,
   "metadata": {},
   "outputs": [],
   "source": [
    "conn = tg.TigerGraphConnection(host=\"http://127.0.0.1\",graphname=\"graph_drug_disease\", username=\"tigergraph\", password=\"tigergraph\", apiToken=\"2aa016d747ede9gg6da3drslm98srfoj\")"
   ]
  },
  {
   "cell_type": "code",
   "execution_count": null,
   "metadata": {},
   "outputs": [],
   "source": [
    "#ınstall queries "
   ]
  },
  {
   "cell_type": "code",
   "execution_count": 45,
   "metadata": {},
   "outputs": [
    {
     "data": {
      "text/plain": [
       "'Start installing queries, about 1 minute ...\\ngetDRUGS2 query: curl -X GET \\'http://127.0.0.1:9000/query/graph_drug_disease/getDRUGS2?filename=VALUE\\'. Add -H \"Authorization: Bearer TOKEN\" if authentication is enabled.\\nSelect \\'m1\\' as compile server, now connecting ...\\nNode \\'m1\\' is prepared as compile server.\\n\\nQuery installation finished.'"
      ]
     },
     "execution_count": 45,
     "metadata": {},
     "output_type": "execute_result"
    }
   ],
   "source": [
    "with open('queries/getDRUGS.gsql', 'r') as file:\n",
    "    gsql_file = file.read().rstrip()\n",
    "conn.gsql(gsql_file)\n",
    "conn.gsql('INSTALL QUERY getDRUGS2')"
   ]
  },
  {
   "cell_type": "code",
   "execution_count": 46,
   "metadata": {},
   "outputs": [
    {
     "data": {
      "text/plain": [
       "'Start installing queries, about 1 minute ...\\ngetDISEASES2 query: curl -X GET \\'http://127.0.0.1:9000/query/graph_drug_disease/getDISEASES2?filename=VALUE\\'. Add -H \"Authorization: Bearer TOKEN\" if authentication is enabled.\\nSelect \\'m1\\' as compile server, now connecting ...\\nNode \\'m1\\' is prepared as compile server.\\n\\nQuery installation finished.'"
      ]
     },
     "execution_count": 46,
     "metadata": {},
     "output_type": "execute_result"
    }
   ],
   "source": [
    "with open('queries/getDISEASES.gsql', 'r') as file:\n",
    "    gsql_file = file.read().rstrip()\n",
    "conn.gsql(gsql_file)\n",
    "conn.gsql('INSTALL QUERY getDISEASES2')"
   ]
  },
  {
   "cell_type": "code",
   "execution_count": 37,
   "metadata": {},
   "outputs": [
    {
     "data": {
      "text/plain": [
       "\"Successfully dropped queries on the graph 'graph_drug_disease': [getDISEASES_of_drug].\""
      ]
     },
     "execution_count": 37,
     "metadata": {},
     "output_type": "execute_result"
    }
   ],
   "source": [
    "#conn.gsql(\"drop query getDISEASES_of_drug\")"
   ]
  },
  {
   "cell_type": "code",
   "execution_count": 52,
   "metadata": {},
   "outputs": [
    {
     "data": {
      "text/plain": [
       "'Start installing queries, about 1 minute ...\\ngetGENES_for_drug query: curl -X GET \\'http://127.0.0.1:9000/query/graph_drug_disease/getGENES_for_drug?drug=VALUE&filemane=VALUE\\'. Add -H \"Authorization: Bearer TOKEN\" if authentication is enabled.\\nSelect \\'m1\\' as compile server, now connecting ...\\nNode \\'m1\\' is prepared as compile server.\\n\\nQuery installation finished.'"
      ]
     },
     "execution_count": 52,
     "metadata": {},
     "output_type": "execute_result"
    }
   ],
   "source": [
    "\n",
    "with open('queries/getGENES_for_drug.gsql', 'r') as file:\n",
    "    gsql_file = file.read().rstrip()\n",
    "conn.gsql(gsql_file)\n",
    "conn.gsql('INSTALL QUERY getGENES_for_drug')"
   ]
  },
  {
   "cell_type": "code",
   "execution_count": 38,
   "metadata": {},
   "outputs": [
    {
     "data": {
      "text/plain": [
       "'Start installing queries, about 1 minute ...\\ngetDISEASES_of_drug query: curl -X GET \\'http://127.0.0.1:9000/query/graph_drug_disease/getDISEASES_of_drug?drug=VALUE&filename=VALUE\\'. Add -H \"Authorization: Bearer TOKEN\" if authentication is enabled.\\nSelect \\'m1\\' as compile server, now connecting ...\\nNode \\'m1\\' is prepared as compile server.\\n\\nQuery installation finished.'"
      ]
     },
     "execution_count": 38,
     "metadata": {},
     "output_type": "execute_result"
    }
   ],
   "source": [
    "with open('queries/getDISEASES_of_drug.gsql', 'r') as file:\n",
    "    gsql_file = file.read().rstrip()\n",
    "conn.gsql(gsql_file)\n",
    "conn.gsql('INSTALL QUERY getDISEASES_of_drug')"
   ]
  },
  {
   "cell_type": "code",
   "execution_count": 53,
   "metadata": {},
   "outputs": [
    {
     "data": {
      "text/plain": [
       "'Start installing queries, about 1 minute ...\\ngetPRESCRIBER_for_drug query: curl -X GET \\'http://127.0.0.1:9000/query/graph_drug_disease/getPRESCRIBER_for_drug?drug=VALUE&filename=VALUE\\'. Add -H \"Authorization: Bearer TOKEN\" if authentication is enabled.\\nSelect \\'m1\\' as compile server, now connecting ...\\nNode \\'m1\\' is prepared as compile server.\\n\\nQuery installation finished.'"
      ]
     },
     "execution_count": 53,
     "metadata": {},
     "output_type": "execute_result"
    }
   ],
   "source": [
    "\n",
    "with open('queries/getPRESCRIBER_for_drug.gsql', 'r') as file:\n",
    "    gsql_file = file.read().rstrip()\n",
    "conn.gsql(gsql_file)\n",
    "conn.gsql('INSTALL QUERY getPRESCRIBER_for_drug')"
   ]
  },
  {
   "cell_type": "code",
   "execution_count": 54,
   "metadata": {},
   "outputs": [
    {
     "data": {
      "text/plain": [
       "'Start installing queries, about 1 minute ...\\nget_tested_DISEASES_for_drug query: curl -X GET \\'http://127.0.0.1:9000/query/graph_drug_disease/get_tested_DISEASES_for_drug?drug=VALUE&filename=VALUE\\'. Add -H \"Authorization: Bearer TOKEN\" if authentication is enabled.\\nSelect \\'m1\\' as compile server, now connecting ...\\nNode \\'m1\\' is prepared as compile server.\\n\\nQuery installation finished.'"
      ]
     },
     "execution_count": 54,
     "metadata": {},
     "output_type": "execute_result"
    }
   ],
   "source": [
    "\n",
    "with open('queries/get_tested_DISEASES_for_drug.gsql', 'r') as file:\n",
    "    gsql_file = file.read().rstrip()\n",
    "conn.gsql(gsql_file)\n",
    "\n",
    "conn.gsql('INSTALL QUERY get_tested_DISEASES_for_drug')"
   ]
  },
  {
   "cell_type": "code",
   "execution_count": 9,
   "metadata": {},
   "outputs": [
    {
     "data": {
      "text/plain": [
       "'Start installing queries, about 1 minute ...\\ngetDRUGS_for_PRESCRIBER query: curl -X GET \\'http://127.0.0.1:9000/query/graph_drug_disease/getDRUGS_for_PRESCRIBER?prescriber=VALUE\\'. Add -H \"Authorization: Bearer TOKEN\" if authentication is enabled.\\nSelect \\'m1\\' as compile server, now connecting ...\\nNode \\'m1\\' is prepared as compile server.\\n\\nQuery installation finished.'"
      ]
     },
     "execution_count": 9,
     "metadata": {},
     "output_type": "execute_result"
    }
   ],
   "source": [
    "with open('queries/getDRUGS_for_PRESCRIBER.gsql', 'r') as file:\n",
    "    gsql_file = file.read().rstrip()\n",
    "conn.gsql(gsql_file)\n",
    "conn.gsql('INSTALL QUERY getDRUGS_for_PRESCRIBER')"
   ]
  },
  {
   "cell_type": "code",
   "execution_count": 49,
   "metadata": {},
   "outputs": [
    {
     "data": {
      "text/plain": [
       "'Start installing queries, about 1 minute ...\\ngetDRUGS_for_disease query: curl -X GET \\'http://127.0.0.1:9000/query/graph_drug_disease/getDRUGS_for_disease?disease=VALUE&filename=VALUE\\'. Add -H \"Authorization: Bearer TOKEN\" if authentication is enabled.\\nSelect \\'m1\\' as compile server, now connecting ...\\nNode \\'m1\\' is prepared as compile server.\\n\\nQuery installation finished.'"
      ]
     },
     "execution_count": 49,
     "metadata": {},
     "output_type": "execute_result"
    }
   ],
   "source": [
    "\n",
    "with open('queries/getDRUGS_for_disease.gsql', 'r') as file:\n",
    "    gsql_file = file.read().rstrip()\n",
    "conn.gsql(gsql_file)\n",
    "conn.gsql('INSTALL QUERY getDRUGS_for_disease')"
   ]
  },
  {
   "cell_type": "code",
   "execution_count": null,
   "metadata": {},
   "outputs": [],
   "source": []
  },
  {
   "cell_type": "code",
   "execution_count": 55,
   "metadata": {},
   "outputs": [
    {
     "data": {
      "text/plain": [
       "'Start installing queries, about 1 minute ...\\nget_tested_DRUGS_for_disease query: curl -X GET \\'http://127.0.0.1:9000/query/graph_drug_disease/get_tested_DRUGS_for_disease?disease=VALUE&filename=VALUE\\'. Add -H \"Authorization: Bearer TOKEN\" if authentication is enabled.\\nSelect \\'m1\\' as compile server, now connecting ...\\nNode \\'m1\\' is prepared as compile server.\\n\\nQuery installation finished.'"
      ]
     },
     "execution_count": 55,
     "metadata": {},
     "output_type": "execute_result"
    }
   ],
   "source": [
    "\n",
    "with open('queries/get_tested_DRUGS_for_disease.gsql', 'r') as file:\n",
    "    gsql_file = file.read().rstrip()\n",
    "conn.gsql(gsql_file)\n",
    "conn.gsql('INSTALL QUERY get_tested_DRUGS_for_disease')"
   ]
  },
  {
   "cell_type": "code",
   "execution_count": 51,
   "metadata": {},
   "outputs": [
    {
     "data": {
      "text/plain": [
       "'Start installing queries, about 1 minute ...\\nget_GENES_for_disease query: curl -X GET \\'http://127.0.0.1:9000/query/graph_drug_disease/get_GENES_for_disease?disease=VALUE&filemane=VALUE\\'. Add -H \"Authorization: Bearer TOKEN\" if authentication is enabled.\\nSelect \\'m1\\' as compile server, now connecting ...\\nNode \\'m1\\' is prepared as compile server.\\n\\nQuery installation finished.'"
      ]
     },
     "execution_count": 51,
     "metadata": {},
     "output_type": "execute_result"
    }
   ],
   "source": [
    "\n",
    "with open('queries/get_GENES_for_disease.gsql', 'r') as file:\n",
    "    gsql_file = file.read().rstrip()\n",
    "conn.gsql(gsql_file)\n",
    "conn.gsql('INSTALL QUERY get_GENES_for_disease')"
   ]
  },
  {
   "cell_type": "code",
   "execution_count": null,
   "metadata": {},
   "outputs": [],
   "source": []
  },
  {
   "cell_type": "code",
   "execution_count": 75,
   "metadata": {},
   "outputs": [
    {
     "data": {
      "text/plain": [
       "'Start installing queries, about 1 minute ...\\nget_DISEASES_for_GENE query: curl -X GET \\'http://127.0.0.1:9000/query/graph_drug_disease/get_DISEASES_for_GENE?gene=VALUE&filename=VALUE\\'. Add -H \"Authorization: Bearer TOKEN\" if authentication is enabled.\\nSelect \\'m1\\' as compile server, now connecting ...\\nNode \\'m1\\' is prepared as compile server.\\n\\nQuery installation finished.'"
      ]
     },
     "execution_count": 75,
     "metadata": {},
     "output_type": "execute_result"
    }
   ],
   "source": [
    "with open('queries/get_DISEASES_for_GENE.gsql', 'r') as file:\n",
    "    gsql_file = file.read().rstrip()\n",
    "conn.gsql(gsql_file)\n",
    "conn.gsql('INSTALL QUERY get_DISEASES_for_GENE')"
   ]
  },
  {
   "cell_type": "code",
   "execution_count": 74,
   "metadata": {},
   "outputs": [
    {
     "data": {
      "text/plain": [
       "'Start installing queries, about 1 minute ...\\nget_DRUGS_for_GENE query: curl -X GET \\'http://127.0.0.1:9000/query/graph_drug_disease/get_DRUGS_for_GENE?gene=VALUE&filename=VALUE\\'. Add -H \"Authorization: Bearer TOKEN\" if authentication is enabled.\\nSelect \\'m1\\' as compile server, now connecting ...\\nNode \\'m1\\' is prepared as compile server.\\n\\nQuery installation finished.'"
      ]
     },
     "execution_count": 74,
     "metadata": {},
     "output_type": "execute_result"
    }
   ],
   "source": [
    "with open('queries/get_DRUGS_for_GENE.gsql', 'r') as file:\n",
    "    gsql_file = file.read().rstrip()\n",
    "conn.gsql(gsql_file)\n",
    "conn.gsql('INSTALL QUERY get_DRUGS_for_GENE')"
   ]
  },
  {
   "cell_type": "code",
   "execution_count": null,
   "metadata": {},
   "outputs": [],
   "source": []
  },
  {
   "cell_type": "markdown",
   "metadata": {},
   "source": [
    "## Testing the different queries"
   ]
  },
  {
   "cell_type": "markdown",
   "metadata": {},
   "source": [
    "### A function for testing all drugs"
   ]
  },
  {
   "cell_type": "code",
   "execution_count": 71,
   "metadata": {},
   "outputs": [],
   "source": [
    "def query_drug(drug):\n",
    "    folder = \"/home/tigergraph/drugs/\"+drug+\"/\"\n",
    "    Path(folder).mkdir(parents=True, exist_ok=True)\n",
    "    filename = folder+\"getDISEASES_of_drug.txt\"\n",
    "    filename2 = \"\\\"\"+filename+\"\\\"\"\n",
    "    drug2 = \"\\\"\"+drug+\"\\\"\"\n",
    "    query = \" RUN QUERY getDISEASES_of_drug (\"+drug2+ \",\"+ filename2+\")\"\n",
    "    conn.gsql(query)\n",
    "    \n",
    "    filename = folder+\"getGENES_for_drug.txt\"\n",
    "    filename2 = \"\\\"\"+filename+\"\\\"\"\n",
    "    query = \" RUN QUERY getGENES_for_drug (\"+drug2+ \",\"+ filename2+\")\"\n",
    "    conn.gsql(query)\n",
    "    \n",
    "    filename = folder+\"getPRESCRIBER_for_drug.txt\"\n",
    "    filename2 = \"\\\"\"+filename+\"\\\"\"\n",
    "    query = \" RUN QUERY getPRESCRIBER_for_drug (\"+drug2+ \",\"+ filename2+\")\"\n",
    "    conn.gsql(query)\n",
    "    \n",
    "    \n",
    "    filename = folder+\"get_tested_DISEASES_for_drug.txt\"\n",
    "    filename2 = \"\\\"\"+filename+\"\\\"\"\n",
    "    query = \" RUN QUERY get_tested_DISEASES_for_drug (\"+drug2+ \",\"+ filename2+\")\"\n",
    "    conn.gsql(query)"
   ]
  },
  {
   "cell_type": "markdown",
   "metadata": {},
   "source": [
    "### Testing individual drug"
   ]
  },
  {
   "cell_type": "code",
   "execution_count": null,
   "metadata": {},
   "outputs": [],
   "source": [
    "drug = \"TRAZODONE\"\n",
    "query_drug(drug)\n",
    "drug = \"VITAMIN_A\"\n",
    "query_drug(drug)\n",
    "drug = \"LIDOCAINE\"\n",
    "query_drug(drug)\n",
    "drug = \"CYTOFLAVIN\"\n",
    "query_drug(drug)"
   ]
  },
  {
   "cell_type": "markdown",
   "metadata": {},
   "source": [
    "### Testing all drugs"
   ]
  },
  {
   "cell_type": "code",
   "execution_count": 70,
   "metadata": {},
   "outputs": [],
   "source": [
    "folder = \"/home/tigergraph/drugs/\"\n",
    "Path(folder).mkdir(parents=True, exist_ok=True)\n",
    "filename = folder+\"getDRUGS.txt\"\n",
    "filename2 = \"\\\"\"+filename+\"\\\"\"\n",
    "query = \" RUN QUERY getDRUGS2 (\"+filename2+\")\"\n",
    "conn.gsql(query)\n",
    "\n",
    "getDRUGS = []\n",
    "with open(filename) as file:\n",
    "    for line in file: \n",
    "        line = line.strip() \n",
    "        getDRUGS.append(line) \n",
    "\n",
    "    getDRUGS = set(getDRUGS)\n",
    "getDRUGS = list(getDRUGS)\n",
    "getDRUGS.remove('')\n",
    "\n",
    "for drug in getDRUGS:\n",
    "    query_drug(drug)\n",
    "    \n"
   ]
  },
  {
   "cell_type": "markdown",
   "metadata": {},
   "source": [
    "### A function for testing all diseases"
   ]
  },
  {
   "cell_type": "code",
   "execution_count": 63,
   "metadata": {},
   "outputs": [],
   "source": [
    "def query_disease(disease):\n",
    "    folder = \"/home/tigergraph/diseases/\"+disease+\"/\"\n",
    "    Path(folder).mkdir(parents=True, exist_ok=True)\n",
    "    filename = folder+\"getDRUGS_for_disease.txt\"\n",
    "    filename2 = \"\\\"\"+filename+\"\\\"\"\n",
    "    disease2 = \"\\\"\"+disease+\"\\\"\"\n",
    "    query = \" RUN QUERY getDRUGS_for_disease (\"+disease2+ \",\"+ filename2+\")\"\n",
    "    conn.gsql(query)\n",
    "    \n",
    "    filename = folder+\"get_GENES_for_disease.txt\"\n",
    "    filename2 = \"\\\"\"+filename+\"\\\"\"\n",
    "    query = \" RUN QUERY get_GENES_for_disease (\"+disease2+ \",\"+ filename2+\")\"\n",
    "    conn.gsql(query)\n",
    "    \n",
    "    filename = folder+\"get_tested_DRUGS_for_disease.txt\"\n",
    "    filename2 = \"\\\"\"+filename+\"\\\"\"\n",
    "    query = \" RUN QUERY get_tested_DRUGS_for_disease (\"+disease2+ \",\"+ filename2+\")\"\n",
    "    conn.gsql(query)"
   ]
  },
  {
   "cell_type": "code",
   "execution_count": null,
   "metadata": {},
   "outputs": [],
   "source": [
    "### Testing individual disease"
   ]
  },
  {
   "cell_type": "code",
   "execution_count": null,
   "metadata": {},
   "outputs": [],
   "source": [
    "disease = \"BRAIN_ISCHEMIA\"\n",
    "query_disease(disease)\n",
    "disease = \"COVID-19\"\n",
    "query_disease(disease)\n",
    "disease = \"CROHN_DISEASE\"\n",
    "query_disease(disease)\n",
    "disease = \"DENTAL_CARIES\"\n",
    "query_disease(disease)"
   ]
  },
  {
   "cell_type": "code",
   "execution_count": null,
   "metadata": {},
   "outputs": [],
   "source": [
    "### Testing all diseases"
   ]
  },
  {
   "cell_type": "code",
   "execution_count": null,
   "metadata": {},
   "outputs": [],
   "source": [
    "  \n",
    "folder = \"/home/tigergraph/diseases/\"\n",
    "Path(folder).mkdir(parents=True, exist_ok=True)\n",
    "filename = folder+\"getDISEASES.txt\"\n",
    "filename2 = \"\\\"\"+filename+\"\\\"\"\n",
    "query = \" RUN QUERY getDISEASES2 (\"+filename2+\")\"\n",
    "conn.gsql(query)\n",
    "\n",
    "\n",
    "getDISEASES = []\n",
    "with open(filename) as file:\n",
    "    for line in file: \n",
    "        line = line.strip() \n",
    "        getDISEASES.append(line) \n",
    "\n",
    "    getDISEASES = set(getDISEASES)\n",
    "getDISEASES = list(getDISEASES)\n",
    "tmp = []\n",
    "for disease in getDISEASES:\n",
    "    if disease != '':\n",
    "        tmp.append(disease)\n",
    "getDISEASES = tmp\n",
    "    "
   ]
  },
  {
   "cell_type": "code",
   "execution_count": 72,
   "metadata": {},
   "outputs": [],
   "source": []
  },
  {
   "cell_type": "code",
   "execution_count": null,
   "metadata": {},
   "outputs": [],
   "source": []
  },
  {
   "cell_type": "markdown",
   "metadata": {},
   "source": [
    "### A function for testing all genes"
   ]
  },
  {
   "cell_type": "code",
   "execution_count": 90,
   "metadata": {},
   "outputs": [],
   "source": [
    "\n",
    "def query_gene(gene):\n",
    "    folder = \"/home/tigergraph/genes/\"+gene+\"/\"\n",
    "    Path(folder).mkdir(parents=True, exist_ok=True)\n",
    "    filename = folder+\"get_DRUGS_for_GENE.txt\"\n",
    "    filename2 = \"\\\"\"+filename+\"\\\"\"\n",
    "    \n",
    "    gene2 = \"\\\"\"+ gene +\"\\\"\"\n",
    "    query = \" RUN QUERY get_DRUGS_for_GENE (\"+gene2 + \",\"+filename2+ \")\"\n",
    "    conn.gsql(query)\n",
    "    \n",
    "    filename = folder+\"get_DISEASES_for_GENE.txt\"\n",
    "    filename2 = \"\\\"\"+filename+\"\\\"\"\n",
    "    \n",
    "    query = \" RUN QUERY get_DISEASES_for_GENE (\"+gene2 + \",\"+filename2+ \")\"\n",
    "    conn.gsql(query)\n",
    "    \n",
    "\n",
    "\n"
   ]
  },
  {
   "cell_type": "code",
   "execution_count": 91,
   "metadata": {},
   "outputs": [],
   "source": [
    "gene = \"200734\"\n",
    "query_gene(gene)\n",
    "\n",
    "gene = \"1052\"\n",
    "query_gene(gene)\n",
    "\n",
    "gene = \"11214\"\n",
    "query_gene(gene)\n",
    "\n",
    "gene = \"55137\"\n",
    "query_gene(gene)"
   ]
  },
  {
   "cell_type": "code",
   "execution_count": 65,
   "metadata": {},
   "outputs": [],
   "source": [
    "### Testing a prescriber"
   ]
  },
  {
   "cell_type": "code",
   "execution_count": 68,
   "metadata": {},
   "outputs": [],
   "source": [
    "priscriber = \"1003053950\"\n",
    "query = \" RUN QUERY getDRUGS_for_PRESCRIBER (\"+priscriber+\")\"\n",
    "conn.gsql(query)"
   ]
  },
  {
   "cell_type": "code",
   "execution_count": null,
   "metadata": {},
   "outputs": [],
   "source": []
  },
  {
   "cell_type": "markdown",
   "metadata": {},
   "source": [
    "# Install queries for counting relations between nodes"
   ]
  },
  {
   "cell_type": "code",
   "execution_count": 93,
   "metadata": {},
   "outputs": [
    {
     "data": {
      "text/plain": [
       "'Start installing queries, about 1 minute ...\\ngetNB_PRESCRIBER query: curl -X GET \\'http://127.0.0.1:9000/query/graph_drug_disease/getNB_PRESCRIBER\\'. Add -H \"Authorization: Bearer TOKEN\" if authentication is enabled.\\nSelect \\'m1\\' as compile server, now connecting ...\\nNode \\'m1\\' is prepared as compile server.\\n\\nQuery installation finished.'"
      ]
     },
     "execution_count": 93,
     "metadata": {},
     "output_type": "execute_result"
    }
   ],
   "source": [
    "with open('queries/count_relations/getNB_Prescriber.gsql', 'r') as file:\n",
    "    gsql_file = file.read().rstrip()\n",
    "conn.gsql(gsql_file)\n",
    "conn.gsql('INSTALL QUERY getNB_PRESCRIBER')\n"
   ]
  },
  {
   "cell_type": "code",
   "execution_count": null,
   "metadata": {},
   "outputs": [],
   "source": [
    "with open('queries/count_relations/getNB_DRUGS_DISEASES.gsql', 'r') as file:\n",
    "    gsql_file = file.read().rstrip()\n",
    "conn.gsql(gsql_file)\n",
    "conn.gsql('INSTALL QUERY getNB_DRUGS_DISEASES')\n"
   ]
  },
  {
   "cell_type": "code",
   "execution_count": null,
   "metadata": {},
   "outputs": [],
   "source": [
    "with open('queries/count_relations/getNB_DRUGS.gsql', 'r') as file:\n",
    "    gsql_file = file.read().rstrip()\n",
    "conn.gsql(gsql_file)\n",
    "conn.gsql('INSTALL QUERY getNB_DRUGS')"
   ]
  },
  {
   "cell_type": "code",
   "execution_count": null,
   "metadata": {},
   "outputs": [],
   "source": [
    "with open('queries/count_relations/getNB_DISEASES.gsql', 'r') as file:\n",
    "    gsql_file = file.read().rstrip()\n",
    "conn.gsql(gsql_file)\n",
    "conn.gsql('INSTALL QUERY getNB_DISEASES')"
   ]
  },
  {
   "cell_type": "code",
   "execution_count": null,
   "metadata": {},
   "outputs": [],
   "source": [
    "with open('queries/count_relations/getNB_DRUGS_PRESCRIBERS.gsql', 'r') as file:\n",
    "    gsql_file = file.read().rstrip()\n",
    "conn.gsql(gsql_file)\n",
    "conn.gsql('INSTALL QUERY getNB_DRUGS_PESCRIBERS')"
   ]
  },
  {
   "cell_type": "code",
   "execution_count": null,
   "metadata": {},
   "outputs": [],
   "source": [
    "with open('queries/count_relations/getNB_DRUGS_GENES.gsql', 'r') as file:\n",
    "    gsql_file = file.read().rstrip()\n",
    "conn.gsql(gsql_file)\n",
    "conn.gsql('INSTALL QUERY getNB_DRUGS_GENES')"
   ]
  },
  {
   "cell_type": "code",
   "execution_count": null,
   "metadata": {},
   "outputs": [],
   "source": [
    "with open('queries/count_relations/getNB_DRUGS_TestedDISEASES.gsql', 'r') as file:\n",
    "    gsql_file = file.read().rstrip()\n",
    "conn.gsql(gsql_file)\n",
    "conn.gsql('INSTALL QUERY getNB_DRUGS_TestedDISEASES')"
   ]
  },
  {
   "cell_type": "code",
   "execution_count": null,
   "metadata": {},
   "outputs": [],
   "source": [
    "with open('queries/count_relations/getNB_GENES_DISEASES.gsql', 'r') as file:\n",
    "    gsql_file = file.read().rstrip()\n",
    "conn.gsql(gsql_file)\n",
    "conn.gsql('INSTALL QUERY getNB_GENES_DISEASES')"
   ]
  },
  {
   "cell_type": "code",
   "execution_count": 88,
   "metadata": {},
   "outputs": [
    {
     "data": {
      "text/plain": [
       "'Start installing queries, about 1 minute ...\\ngetNB_GENES query: curl -X GET \\'http://127.0.0.1:9000/query/graph_drug_disease/getNB_GENES\\'. Add -H \"Authorization: Bearer TOKEN\" if authentication is enabled.\\nSelect \\'m1\\' as compile server, now connecting ...\\nNode \\'m1\\' is prepared as compile server.\\n\\nQuery installation finished.'"
      ]
     },
     "execution_count": 88,
     "metadata": {},
     "output_type": "execute_result"
    }
   ],
   "source": [
    "with open('queries/count_relations/getNB_GENES.gsql', 'r') as file:\n",
    "    gsql_file = file.read().rstrip()\n",
    "conn.gsql(gsql_file)\n",
    "conn.gsql('INSTALL QUERY getNB_GENES')"
   ]
  },
  {
   "cell_type": "code",
   "execution_count": null,
   "metadata": {},
   "outputs": [],
   "source": [
    "# A function to process the results from queries"
   ]
  },
  {
   "cell_type": "code",
   "execution_count": 80,
   "metadata": {},
   "outputs": [],
   "source": [
    "def results_from_json(json_size):\n",
    "    print(\"size\", json_size)\n",
    "    size_object = json.loads(json_size)\n",
    "    results = size_object['results'][0]\n",
    "    if(\"size\" in results):\n",
    "        size = results['size']\n",
    "    if(\"nb_relations\" in results):\n",
    "        size = results['nb_relations']\n",
    "    \n",
    "    return size"
   ]
  },
  {
   "cell_type": "code",
   "execution_count": 94,
   "metadata": {},
   "outputs": [
    {
     "name": "stdout",
     "output_type": "stream",
     "text": [
      "size {\n",
      "\"error\": false,\n",
      "\"message\": \"\",\n",
      "\"version\": {\n",
      "\"schema\": 0,\n",
      "\"edition\": \"enterprise\",\n",
      "\"api\": \"v2\"\n",
      "},\n",
      "\"results\": [{\"size\": 11325}]\n",
      "}\n",
      "size {\n",
      "\"error\": false,\n",
      "\"message\": \"\",\n",
      "\"version\": {\n",
      "\"schema\": 0,\n",
      "\"edition\": \"enterprise\",\n",
      "\"api\": \"v2\"\n",
      "},\n",
      "\"results\": [{\"nb_relations\": 2952977}]\n",
      "}\n",
      "size {\n",
      "\"error\": false,\n",
      "\"message\": \"\",\n",
      "\"version\": {\n",
      "\"schema\": 0,\n",
      "\"edition\": \"enterprise\",\n",
      "\"api\": \"v2\"\n",
      "},\n",
      "\"results\": [{\"nb_relations\": 41364014}]\n",
      "}\n",
      "size {\n",
      "\"error\": false,\n",
      "\"message\": \"\",\n",
      "\"version\": {\n",
      "\"schema\": 0,\n",
      "\"edition\": \"enterprise\",\n",
      "\"api\": \"v2\"\n",
      "},\n",
      "\"results\": [{\"nb_relations\": 1360481}]\n",
      "}\n",
      "size {\n",
      "\"error\": false,\n",
      "\"message\": \"\",\n",
      "\"version\": {\n",
      "\"schema\": 0,\n",
      "\"edition\": \"enterprise\",\n",
      "\"api\": \"v2\"\n",
      "},\n",
      "\"results\": [{\"nb_relations\": 365932}]\n",
      "}\n",
      "size {\n",
      "\"error\": false,\n",
      "\"message\": \"\",\n",
      "\"version\": {\n",
      "\"schema\": 0,\n",
      "\"edition\": \"enterprise\",\n",
      "\"api\": \"v2\"\n",
      "},\n",
      "\"results\": [{\"size\": 67933}]\n",
      "}\n",
      "size {\n",
      "\"error\": false,\n",
      "\"message\": \"\",\n",
      "\"version\": {\n",
      "\"schema\": 0,\n",
      "\"edition\": \"enterprise\",\n",
      "\"api\": \"v2\"\n",
      "},\n",
      "\"results\": [{\"nb_relations\": 30025917}]\n",
      "}\n",
      "size {\n",
      "\"error\": false,\n",
      "\"message\": \"\",\n",
      "\"version\": {\n",
      "\"schema\": 0,\n",
      "\"edition\": \"enterprise\",\n",
      "\"api\": \"v2\"\n",
      "},\n",
      "\"results\": [{\"size\": 537931}]\n",
      "}\n",
      "size {\n",
      "\"error\": false,\n",
      "\"message\": \"\",\n",
      "\"version\": {\n",
      "\"schema\": 0,\n",
      "\"edition\": \"enterprise\",\n",
      "\"api\": \"v2\"\n",
      "},\n",
      "\"results\": [{\"size\": 1577043}]\n",
      "}\n"
     ]
    }
   ],
   "source": [
    "f = open(\"../results/metrics.txt\", \"w\")\n",
    "\n",
    "\n",
    "\n",
    "json_size = conn.gsql(\"RUN QUERY getNB_DISEASES()\")\n",
    "getDISEASES_size = results_from_json(json_size)\n",
    "f.write(\"getDISEASES_size \"+str(getDISEASES_size)+\"\\n\")\n",
    "    \n",
    "json_size = conn.gsql(\"RUN QUERY getNB_DRUGS_DISEASES()\")\n",
    "getDRUGS_DISEASES_size = results_from_json(json_size)\n",
    "f.write(\"getDRUGS_DISEASES_size \"+str(getDRUGS_DISEASES_size)+\"\\n\")\n",
    "\n",
    "json_size = conn.gsql(\"RUN QUERY getNB_DRUGS_PESCRIBERS()\")\n",
    "getDRUGS_PESCRIBERS_size = results_from_json(json_size)\n",
    "f.write(\"getDRUGS_PESCRIBERS_size \"+str(getDRUGS_PESCRIBERS_size)+\"\\n\")\n",
    "\n",
    "json_size = conn.gsql(\"RUN QUERY getNB_DRUGS_GENES()\")\n",
    "getDRUGS_GENES_size = results_from_json(json_size)\n",
    "f.write(\"getDRUGS_GENES_size \"+str(getDRUGS_GENES_size)+\"\\n\")\n",
    "\n",
    "json_size = conn.gsql(\"RUN QUERY getNB_DRUGS_TestedDISEASES()\")\n",
    "getDRUGS_TestedDISEASES_size = results_from_json(json_size)\n",
    "f.write(\"getDRUGS_TestedDISEASES_size \"+str(getDRUGS_TestedDISEASES_size)+\"\\n\")\n",
    "\n",
    "json_size = conn.gsql(\"RUN QUERY getNB_DRUGS()\")\n",
    "getDRUGS_size = results_from_json(json_size)\n",
    "f.write(\"getDRUGS_size \"+str(getDRUGS_size)+\"\\n\")\n",
    "\n",
    "json_size = conn.gsql(\"RUN QUERY getNB_GENES_DISEASES()\")\n",
    "getGENES_DISEASES_size = results_from_json(json_size)\n",
    "f.write(\"getGENES_DISEASES_size \"+str(getGENES_DISEASES_size)+\"\\n\")\n",
    "\n",
    "json_size = conn.gsql(\"RUN QUERY getNB_GENES()\")\n",
    "getGENES_size = results_from_json(json_size)\n",
    "f.write(\"getGENES_size \"+str(getGENES_size)+\"\\n\")\n",
    "\n",
    "\n",
    "json_size = conn.gsql(\"RUN QUERY getNB_PRESCRIBER()\")\n",
    "getPRESCRIBER_size = results_from_json(json_size)\n",
    "f.write(\"getPRESCRIBER_size \"+str(getPRESCRIBER_size)+\"\\n\")\n",
    "\n",
    "f.close()"
   ]
  },
  {
   "cell_type": "code",
   "execution_count": null,
   "metadata": {},
   "outputs": [],
   "source": []
  },
  {
   "cell_type": "code",
   "execution_count": null,
   "metadata": {},
   "outputs": [],
   "source": []
  }
 ],
 "metadata": {
  "kernelspec": {
   "display_name": "Python 3",
   "language": "python",
   "name": "python3"
  },
  "language_info": {
   "codemirror_mode": {
    "name": "ipython",
    "version": 3
   },
   "file_extension": ".py",
   "mimetype": "text/x-python",
   "name": "python",
   "nbconvert_exporter": "python",
   "pygments_lexer": "ipython3",
   "version": "3.6.9"
  }
 },
 "nbformat": 4,
 "nbformat_minor": 5
}
