{
 "cells": [
  {
   "cell_type": "code",
   "execution_count": 1,
   "id": "878809f7",
   "metadata": {},
   "outputs": [],
   "source": [
    "import pandas as pd\n",
    "import networkx as nx\n",
    "from networkx.algorithms import bipartite\n",
    "import os\n",
    "\n",
    "from bs4 import BeautifulSoup\n",
    "import json"
   ]
  },
  {
   "cell_type": "code",
   "execution_count": 88,
   "id": "591a87d5",
   "metadata": {},
   "outputs": [],
   "source": [
    "list_files = [\"MUP_DPR_RY21_P04_V10_DY13_NPIBN_4.csv\",\"MUP_DPR_RY21_P04_V10_DY14_NPIBN_1.csv\",\"MUP_DPR_RY21_P04_V10_DY15_NPIBN_1.csv\",\"MUP_DPR_RY21_P04_V10_DY16_NPIBN_0.csv\",\"MUP_DPR_RY21_P04_V10_DY17_NPIBN_1.csv\",\"MUP_DPR_RY21_P04_V10_DY18_NPIBN_0.csv\",\"MUP_DPR_RY21_P04_V10_DY19_NPIBN_1.csv\"]"
   ]
  },
  {
   "cell_type": "code",
   "execution_count": null,
   "id": "d50e1f12",
   "metadata": {},
   "outputs": [
    {
     "name": "stdout",
     "output_type": "stream",
     "text": [
      "MUP_DPR_RY21_P04_V10_DY13_NPIBN_4.csv\n"
     ]
    }
   ],
   "source": [
    "li = []\n",
    "cols = [\"Prscrbr_NPI\",\"Brnd_Name\", \"Gnrc_Name\"]\n",
    "#cols = [\"Prscrbr_Last_Org_Name\", \"Prscrbr_First_Name\",\"Prscrbr_City\",\"Prscrbr_State_Abrvtn\",\"Prscrbr_State_FIPS\",\"Prscrbr_Type\",\"Prscrbr_Type_Src\",\"Brnd_Name\", \"Gnrc_Name\"]\n",
    "        \n",
    "\n",
    "\n",
    "for file in list_files:\n",
    "    print(file)\n",
    "    df_i = pd.read_csv('../data/'+file, usecols=cols)\n",
    "    li.append(df_i)\n",
    "\n",
    "df_pres_drug = pd.concat(li, axis=0, ignore_index=True)\n",
    "df_pres_drug.head(2)\n",
    "\n"
   ]
  },
  {
   "cell_type": "code",
   "execution_count": 91,
   "id": "35c0e2f1",
   "metadata": {},
   "outputs": [
    {
     "name": "stdout",
     "output_type": "stream",
     "text": [
      "Prscrbr_NPI                 0\n",
      "Prscrbr_Last_Org_Name       0\n",
      "Prscrbr_First_Name       1969\n",
      "Brnd_Name                   0\n",
      "Gnrc_Name                   0\n",
      "dtype: int64\n"
     ]
    }
   ],
   "source": [
    "# Finding the null values.\n",
    "print(df_pres_drug.isnull().sum())\n"
   ]
  },
  {
   "cell_type": "code",
   "execution_count": 92,
   "id": "b1641dce",
   "metadata": {},
   "outputs": [],
   "source": [
    "df_pres_drug['Prscrbr_First_Name'] = df['Prscrbr_First_Name'].fillna('')"
   ]
  },
  {
   "cell_type": "code",
   "execution_count": null,
   "id": "b80ed97d",
   "metadata": {},
   "outputs": [],
   "source": []
  },
  {
   "cell_type": "code",
   "execution_count": null,
   "id": "658d36aa",
   "metadata": {},
   "outputs": [],
   "source": []
  },
  {
   "cell_type": "code",
   "execution_count": null,
   "id": "198ac458",
   "metadata": {},
   "outputs": [],
   "source": []
  },
  {
   "cell_type": "code",
   "execution_count": 7,
   "id": "9f545ebe",
   "metadata": {},
   "outputs": [],
   "source": []
  },
  {
   "cell_type": "code",
   "execution_count": null,
   "id": "0c7aa22f",
   "metadata": {},
   "outputs": [],
   "source": []
  },
  {
   "cell_type": "code",
   "execution_count": null,
   "id": "d372318a",
   "metadata": {},
   "outputs": [],
   "source": [
    "\n"
   ]
  },
  {
   "cell_type": "code",
   "execution_count": null,
   "id": "b10de9cd",
   "metadata": {},
   "outputs": [],
   "source": []
  },
  {
   "cell_type": "code",
   "execution_count": 93,
   "id": "98ba2f76",
   "metadata": {},
   "outputs": [],
   "source": [
    "#df[\"Last_First_name\"] = df[\"Prscrbr_Last_Org_Name\"] + \"_\" + df [\"Prscrbr_First_Name\"]\n",
    "#df[\"Last_First_name\"]\n",
    "#df.drop('Prscrbr_Last_Org_Name', inplace=True, axis=1)\n",
    "#df.drop('Prscrbr_First_Name', inplace=True, axis=1)"
   ]
  },
  {
   "cell_type": "code",
   "execution_count": null,
   "id": "e3392d3e",
   "metadata": {},
   "outputs": [],
   "source": []
  },
  {
   "cell_type": "code",
   "execution_count": 10,
   "id": "fd8a1cf6",
   "metadata": {},
   "outputs": [],
   "source": []
  },
  {
   "cell_type": "code",
   "execution_count": null,
   "id": "2d20f198",
   "metadata": {},
   "outputs": [],
   "source": []
  },
  {
   "cell_type": "code",
   "execution_count": 11,
   "id": "ff1a2b3a",
   "metadata": {},
   "outputs": [
    {
     "data": {
      "text/plain": [
       "1108426"
      ]
     },
     "execution_count": 11,
     "metadata": {},
     "output_type": "execute_result"
    }
   ],
   "source": [
    "set_Last_First_name = set(df[\"Last_First_name\"])\n",
    "len(set_Last_First_name)"
   ]
  },
  {
   "cell_type": "code",
   "execution_count": 12,
   "id": "13f9cc23",
   "metadata": {},
   "outputs": [
    {
     "data": {
      "text/plain": [
       "3907"
      ]
     },
     "execution_count": 12,
     "metadata": {},
     "output_type": "execute_result"
    }
   ],
   "source": [
    "set_Brnd_Name = set(df[\"Brnd_Name\"])\n",
    "len(set_Brnd_Name)"
   ]
  },
  {
   "cell_type": "code",
   "execution_count": 13,
   "id": "4b1ff829",
   "metadata": {},
   "outputs": [],
   "source": [
    "list_Last_First_name = list(set_Last_First_name)\n",
    "list_Brnd_Name = list(set_Brnd_Name)"
   ]
  },
  {
   "cell_type": "code",
   "execution_count": null,
   "id": "dd7369e2",
   "metadata": {},
   "outputs": [],
   "source": []
  },
  {
   "cell_type": "code",
   "execution_count": 14,
   "id": "cb4785a9",
   "metadata": {},
   "outputs": [],
   "source": [
    "records = df[[\"Last_First_name\", \"Brnd_Name\"]].to_records(index=False)\n",
    "result = list(records)"
   ]
  },
  {
   "cell_type": "code",
   "execution_count": 15,
   "id": "63c4294c",
   "metadata": {},
   "outputs": [],
   "source": [
    "g = nx.Graph()\n",
    "\n",
    "\n",
    "g.add_nodes_from(list_Last_First_name, bipartite=0)\n",
    "\n",
    "g.add_nodes_from(list_Brnd_Name, bipartite=1)"
   ]
  },
  {
   "cell_type": "code",
   "execution_count": 16,
   "id": "3eb5f8b2",
   "metadata": {},
   "outputs": [
    {
     "data": {
      "text/plain": [
       "173178285"
      ]
     },
     "execution_count": 16,
     "metadata": {},
     "output_type": "execute_result"
    }
   ],
   "source": [
    "len(result)"
   ]
  },
  {
   "cell_type": "code",
   "execution_count": 18,
   "id": "8b074ff9",
   "metadata": {},
   "outputs": [],
   "source": [
    "\n",
    "\n",
    "# Add edges only between nodes of opposite node sets\n",
    "\n",
    "#g.add_edges_from(result)\n",
    "g.add_edges_from(result[:10000])"
   ]
  },
  {
   "cell_type": "code",
   "execution_count": 17,
   "id": "8bb542b5",
   "metadata": {},
   "outputs": [
    {
     "data": {
      "text/plain": [
       "False"
      ]
     },
     "execution_count": 17,
     "metadata": {},
     "output_type": "execute_result"
    }
   ],
   "source": [
    "nx.is_connected(g)"
   ]
  },
  {
   "cell_type": "code",
   "execution_count": null,
   "id": "93132184",
   "metadata": {},
   "outputs": [],
   "source": [
    "#fh = open(\"save-graph.adjlist\", \"wb\")\n",
    "#nx.write_adjlist(g, fh)"
   ]
  },
  {
   "cell_type": "code",
   "execution_count": null,
   "id": "3861bff1",
   "metadata": {},
   "outputs": [],
   "source": [
    "# Node properties for provider (doctor)"
   ]
  },
  {
   "cell_type": "code",
   "execution_count": 70,
   "id": "3ac975eb",
   "metadata": {},
   "outputs": [],
   "source": [
    "#list_files = [\"MUP_DPR_RY21_P04_V10_DY13_NPI.csv\",\"MUP_DPR_RY21_P04_V10_DY14_NPI.csv\",\"MUP_DPR_RY21_P04_V10_DY15_NPI.csv\", \"MUP_DPR_RY21_P04_V10_DY16_NPI.csv\", \"MUP_PTD_R19_P16_V10_D17_Prov.csv\", \"MUP_DPR_RY21_P04_V10_DY18_NPI.csv\", \"MUP_DPR_RY21_P04_V10_DY19_NPI.csv\"]\n",
    "list_files = [\"MUP_PTD_R19_P16_V10_D17_Prov.csv\"]"
   ]
  },
  {
   "cell_type": "code",
   "execution_count": 78,
   "id": "24f47e6d",
   "metadata": {},
   "outputs": [
    {
     "name": "stdout",
     "output_type": "stream",
     "text": [
      "MUP_PTD_R19_P16_V10_D17_Prov.csv\n"
     ]
    },
    {
     "data": {
      "text/html": [
       "<div>\n",
       "<style scoped>\n",
       "    .dataframe tbody tr th:only-of-type {\n",
       "        vertical-align: middle;\n",
       "    }\n",
       "\n",
       "    .dataframe tbody tr th {\n",
       "        vertical-align: top;\n",
       "    }\n",
       "\n",
       "    .dataframe thead th {\n",
       "        text-align: right;\n",
       "    }\n",
       "</style>\n",
       "<table border=\"1\" class=\"dataframe\">\n",
       "  <thead>\n",
       "    <tr style=\"text-align: right;\">\n",
       "      <th></th>\n",
       "      <th>Prscrbr_NPI</th>\n",
       "      <th>Prscrbr_Last_Org_Name</th>\n",
       "      <th>Prscrbr_First_Name</th>\n",
       "      <th>Prscrbr_MI</th>\n",
       "      <th>Prscrbr_Crdntls</th>\n",
       "      <th>Prscrbr_Gndr</th>\n",
       "      <th>Prscrbr_City</th>\n",
       "      <th>Prscrbr_State_Abrvtn</th>\n",
       "      <th>Prscrbr_State_FIPS</th>\n",
       "      <th>Prscrbr_Zip5</th>\n",
       "      <th>Prscrbr_RUCA</th>\n",
       "      <th>Prscrbr_RUCA_Desc</th>\n",
       "      <th>Prscrbr_Cntry</th>\n",
       "      <th>Prscrbr_Type</th>\n",
       "    </tr>\n",
       "  </thead>\n",
       "  <tbody>\n",
       "    <tr>\n",
       "      <th>0</th>\n",
       "      <td>1003000126</td>\n",
       "      <td>Enkeshafi</td>\n",
       "      <td>Ardalan</td>\n",
       "      <td>NaN</td>\n",
       "      <td>M.D.</td>\n",
       "      <td>M</td>\n",
       "      <td>Cumberland</td>\n",
       "      <td>MD</td>\n",
       "      <td>24</td>\n",
       "      <td>21502</td>\n",
       "      <td>1.0</td>\n",
       "      <td>Metropolitan area core: Primary flow within an...</td>\n",
       "      <td>US</td>\n",
       "      <td>Internal Medicine</td>\n",
       "    </tr>\n",
       "    <tr>\n",
       "      <th>1</th>\n",
       "      <td>1003000142</td>\n",
       "      <td>Khalil</td>\n",
       "      <td>Rashid</td>\n",
       "      <td>NaN</td>\n",
       "      <td>M.D.</td>\n",
       "      <td>M</td>\n",
       "      <td>Toledo</td>\n",
       "      <td>OH</td>\n",
       "      <td>39</td>\n",
       "      <td>43623</td>\n",
       "      <td>1.0</td>\n",
       "      <td>Metropolitan area core: Primary flow within an...</td>\n",
       "      <td>US</td>\n",
       "      <td>Anesthesiology</td>\n",
       "    </tr>\n",
       "  </tbody>\n",
       "</table>\n",
       "</div>"
      ],
      "text/plain": [
       "   Prscrbr_NPI Prscrbr_Last_Org_Name Prscrbr_First_Name Prscrbr_MI  \\\n",
       "0   1003000126             Enkeshafi            Ardalan        NaN   \n",
       "1   1003000142                Khalil             Rashid        NaN   \n",
       "\n",
       "  Prscrbr_Crdntls Prscrbr_Gndr Prscrbr_City Prscrbr_State_Abrvtn  \\\n",
       "0            M.D.            M   Cumberland                   MD   \n",
       "1            M.D.            M       Toledo                   OH   \n",
       "\n",
       "   Prscrbr_State_FIPS  Prscrbr_Zip5  Prscrbr_RUCA  \\\n",
       "0                  24         21502           1.0   \n",
       "1                  39         43623           1.0   \n",
       "\n",
       "                                   Prscrbr_RUCA_Desc Prscrbr_Cntry  \\\n",
       "0  Metropolitan area core: Primary flow within an...            US   \n",
       "1  Metropolitan area core: Primary flow within an...            US   \n",
       "\n",
       "        Prscrbr_Type  \n",
       "0  Internal Medicine  \n",
       "1     Anesthesiology  "
      ]
     },
     "execution_count": 78,
     "metadata": {},
     "output_type": "execute_result"
    }
   ],
   "source": [
    "li = []\n",
    "\n",
    "#cols = [\"Prscrbr_Last_Org_Name\", \"Prscrbr_First_Name\",\"Prscrbr_City\",\"Prscrbr_State_Abrvtn\",\"Prscrbr_State_FIPS\",\"Prscrbr_Type\",\"Prscrbr_Type_Src\",\"Brnd_Name\", \"Gnrc_Name\"]\n",
    "cols = ['Prscrbr_NPI', 'Prscrbr_Last_Org_Name', 'Prscrbr_First_Name', 'Prscrbr_MI', 'Prscrbr_Crdntls', 'Prscrbr_Gndr', 'Prscrbr_City', 'Prscrbr_State_Abrvtn', 'Prscrbr_State_FIPS', 'Prscrbr_Zip5', 'Prscrbr_RUCA', 'Prscrbr_RUCA_Desc', 'Prscrbr_Cntry', 'Prscrbr_Type']\n",
    "        \n",
    "\n",
    "\n",
    "for file in list_files:\n",
    "    print(file)\n",
    "    df_i = pd.read_csv('../data/provider/'+file,usecols=cols, encoding='latin-1', nrows=50)\n",
    "    li.append(df_i)\n",
    "\n",
    "df = pd.concat(li, axis=0, ignore_index=True)\n",
    "df.head(2)\n",
    "\n"
   ]
  },
  {
   "cell_type": "code",
   "execution_count": 76,
   "id": "c0504732",
   "metadata": {},
   "outputs": [],
   "source": [
    "#df.columns"
   ]
  },
  {
   "cell_type": "code",
   "execution_count": 79,
   "id": "89891263",
   "metadata": {},
   "outputs": [
    {
     "data": {
      "text/plain": [
       "Prscrbr_NPI                int64\n",
       "Prscrbr_Last_Org_Name     object\n",
       "Prscrbr_First_Name        object\n",
       "Prscrbr_MI                object\n",
       "Prscrbr_Crdntls           object\n",
       "Prscrbr_Gndr              object\n",
       "Prscrbr_City              object\n",
       "Prscrbr_State_Abrvtn      object\n",
       "Prscrbr_State_FIPS         int64\n",
       "Prscrbr_Zip5               int64\n",
       "Prscrbr_RUCA             float64\n",
       "Prscrbr_RUCA_Desc         object\n",
       "Prscrbr_Cntry             object\n",
       "Prscrbr_Type              object\n",
       "dtype: object"
      ]
     },
     "execution_count": 79,
     "metadata": {},
     "output_type": "execute_result"
    }
   ],
   "source": [
    "df.dtypes"
   ]
  },
  {
   "cell_type": "code",
   "execution_count": 87,
   "id": "4525c17f",
   "metadata": {},
   "outputs": [
    {
     "data": {
      "text/plain": [
       "Metropolitan area core: Primary flow within an Urbanized Area                                  40\n",
       "Metropolitan area core: Secondary flow 30% through 49% to a larger Urbanized Area               7\n",
       "Micropolitan area core: Primary flow within an Urban Cluster of 10,000 through 49,999           1\n",
       "Metropolitan area high commuting: Secondary flow 30% through 49% to a larger Urbanized Area     1\n",
       "Small town high commuting: Primary flow 30% or more to a small Urban Cluster                    1\n",
       "Name: Prscrbr_RUCA_Desc, dtype: int64"
      ]
     },
     "execution_count": 87,
     "metadata": {},
     "output_type": "execute_result"
    }
   ],
   "source": [
    "df['Prscrbr_RUCA_Desc'].value_counts()\n"
   ]
  },
  {
   "cell_type": "code",
   "execution_count": null,
   "id": "f49eba94",
   "metadata": {},
   "outputs": [],
   "source": [
    "# Clinical trial results\n",
    "\n",
    "<Struct Name=\"ConditionsModule\">\n",
    "        <List Name=\"ConditionList\">\n",
    "          <Field Name=\"Condition\">\n",
    "\n",
    "\n",
    " <List Name=\"ArmGroupInterventionList\">\n",
    "              <Field Name=\"ArmGroupInterventionName\">Device: FFC-MRI scan</Field>\n",
    "            </List>\n",
    "\n",
    "\n",
    "\n",
    "pour plus de détails de diseaeses prendreles MeSH terms: \n",
    "\n",
    "<List Name=\"InterventionAncestorList\">\n",
    "          <Struct Name=\"InterventionAncestor\">\n",
    "            <Field Name=\"InterventionAncestorId\">D000003278</Field>\n",
    "            <Field Name=\"InterventionAncestorTerm\">"
   ]
  },
  {
   "cell_type": "code",
   "execution_count": null,
   "id": "f37aff7f",
   "metadata": {},
   "outputs": [],
   "source": []
  },
  {
   "cell_type": "code",
   "execution_count": 136,
   "id": "52426920",
   "metadata": {},
   "outputs": [],
   "source": [
    "#folder = \"../data/clinical_results/AllAPIXML/NCT0000xxxx/\"\n",
    "folder = \"../data/clinical_results/AllAPIXML/NCT0517xxxx/\"\n",
    "\n",
    "#filename = \"NCT00000102.xml\"\n",
    "filename = \"NCT05174195.xml\"\n",
    "\n",
    "with open(folder+filename, 'r') as f:\n",
    "    data = f.read()\n",
    "Bs_data = BeautifulSoup(data, \"xml\")\n"
   ]
  },
  {
   "cell_type": "code",
   "execution_count": null,
   "id": "3253ec90",
   "metadata": {},
   "outputs": [],
   "source": []
  },
  {
   "cell_type": "code",
   "execution_count": 2,
   "id": "6afe5b71",
   "metadata": {},
   "outputs": [
    {
     "data": {
      "text/plain": [
       "404694"
      ]
     },
     "execution_count": 2,
     "metadata": {},
     "output_type": "execute_result"
    }
   ],
   "source": [
    "folder = \"../data/clinical_results/AllAPIXML/\"\n",
    "list_files = []\n",
    "\n",
    "for path, subdirs, files in os.walk(folder):\n",
    "    for name in files:\n",
    "        file = os.path.join(path, name)\n",
    "        if \".xml\" in file:\n",
    "            list_files.append(file)\n",
    "            #print(file)\n",
    "len(list_files)       "
   ]
  },
  {
   "cell_type": "code",
   "execution_count": 3,
   "id": "ea63827e",
   "metadata": {},
   "outputs": [
    {
     "data": {
      "text/plain": [
       "404694"
      ]
     },
     "execution_count": 3,
     "metadata": {},
     "output_type": "execute_result"
    }
   ],
   "source": [
    "len(list_files)"
   ]
  },
  {
   "cell_type": "code",
   "execution_count": 4,
   "id": "ee3df4c2",
   "metadata": {},
   "outputs": [],
   "source": [
    "folder = \"../data/clinical_results/\""
   ]
  },
  {
   "cell_type": "code",
   "execution_count": null,
   "id": "353d3c49",
   "metadata": {},
   "outputs": [],
   "source": [
    "folder = \"../data/clinical_results/\"\n",
    "file1 = open(folder+'drug_disease_clinical_trial.csv', 'w')\n",
    "file1.write(\"type_drug;drug;disease;filename\\n\")\n",
    "list_drugs_diseases = []\n",
    "i=0\n",
    "for file in list_files:\n",
    "    i=i+1\n",
    "    if(i%100000 == 0):\n",
    "        print(i)\n",
    "    with open(file, 'r') as f:\n",
    "        #print(file)\n",
    "        data = f.read()\n",
    "    Bs_data = BeautifulSoup(data, \"xml\")\n",
    "    \n",
    "    list_drugs = []\n",
    "    list_diseases = []\n",
    "    status = \"\"\n",
    "    \n",
    "    \n",
    "    b_unique = Bs_data.find_all(\"Field\", {\"Name\": \"OverallStatus\"})\n",
    "    for elem in b_unique:\n",
    "        status = elem.string\n",
    "    \n",
    "    if(status == \"Completed\"):\n",
    "    #if(status == \"Terminated\" or status == \"Completed\"):\n",
    "    # drug\n",
    "        b_unique = Bs_data.find_all(\"Field\", {\"Name\": \"ArmGroupInterventionName\"})\n",
    "\n",
    "        for elem in b_unique:\n",
    "            string = elem.string\n",
    "            \n",
    "            #if (\"Drug: \" in string):\n",
    "            #    drug = string.split(\"Drug: \")[1]\n",
    "            #else:\n",
    "            #    drug = string\n",
    "            drug = string\n",
    "            if (\",\" in drug):\n",
    "                #drug = drug.replace(\", \", \" \")\n",
    "                drug = drug.split(\",\")\n",
    "                for drug_i in drug:\n",
    "                    drug_i = drug_i.replace(\"  \", \" \")\n",
    "                    if(\":\" in drug_i):\n",
    "                        drug_i_list = drug_i.split(\": \", 1)\n",
    "                        if (type(drug_i_list) is list):\n",
    "                            if(len(drug_i_list)>2):\n",
    "                                type_drug= drug_i_list[0]\n",
    "\n",
    "                                op_drug = \" \".join(str(x) for x in drug_i_list[1:])\n",
    "                                type_and_drug_i = type_drug+\",\"+op_drug\n",
    "                                list_drugs.append(type_and_drug_i)\n",
    "                            else:\n",
    "                                type_and_drug_i = \",\".join(str(x) for x in drug_i_list)\n",
    "                                list_drugs.append(type_and_drug_i)\n",
    "                            \n",
    "                    #list_drugs.append(drug_i)\n",
    "            else:          \n",
    "                if(\":\" in drug):\n",
    "                    drug_list = drug.split(\": \", 1)\n",
    "                if (type(drug_list) is list):\n",
    "                    if(len(drug_list)>2):\n",
    "                        type_drug= drug_list[0]\n",
    "\n",
    "                        op_drug = \" \".join(str(x) for x in drug_list[1:])\n",
    "                        type_and_drug = type_drug+\",\"+op_drug\n",
    "                        list_drugs.append(type_and_drug)\n",
    "                        #print(drug)\n",
    "                    else:\n",
    "                        type_and_drug = \",\".join(str(x) for x in drug_list)\n",
    "                        list_drugs.append(type_and_drug)\n",
    "                    \n",
    "                #list_drugs.append(drug)\n",
    "            \n",
    "            \n",
    "            \n",
    "            #list_drugs.append(drug)\n",
    "            #print(drug)\n",
    "        #list_drugs\n",
    "        # disease = Mesh terms\n",
    "\n",
    "        #b_unique = Bs_data.find_all(\"Field\", {\"Name\": \"Condition\"})\n",
    "        #b_unique = Bs_data.find_all(\"Field\", {\"Name\": \"InterventionMeshTerm\"})\n",
    "        b_unique = Bs_data.find_all(\"Field\", {\"Name\": \"ConditionAncestorTerm\"})\n",
    "        \n",
    "        for elem in b_unique:\n",
    "            disease  = elem.string\n",
    "            if (\",\" in disease):\n",
    "                #disease = disease.replace(\", \", \" \")\n",
    "                disease = disease.split(\",\")\n",
    "                for disease_i in disease:\n",
    "                    #print(disease_i)\n",
    "                    disease_i = disease_i.replace(\"  \", \" \")\n",
    "                    if (\"Diseases\" in disease_i):\n",
    "                        disease_i = disease_i.replace(' Diseases','')\n",
    "                    list_diseases.append(disease_i)\n",
    "            else:            \n",
    "                if (\"Diseases\" in disease):\n",
    "                    disease = disease.replace(' Diseases','')\n",
    "                list_diseases.append(disease)\n",
    "            #print(disease)\n",
    "        #list_diseases\n",
    "        if((len(list_drugs)!=0) & (len(list_diseases)!=0)):\n",
    "            #print(list_drugs)\n",
    "            #print(list_diseases)\n",
    "            splited_file = file.split(\"/\")\n",
    "            size = len(splited_file)\n",
    "            filename = splited_file[size-1]\n",
    "            for drug in list_drugs:\n",
    "                for disease in list_diseases:\n",
    "                    #list_drugs_diseases.append((drug,disease, filename))\n",
    "                    string_drug_disease_filename = drug + \",\" + disease + \",\"+ filename +\"\\n\"\n",
    "                    #drug_and_type = \",\".join(str(x) for x in drug)\n",
    "                    #string_drug_disease_filename = drug_and_type + \",\" + disease + \",\"+ filename +\"\\n\"\n",
    "                    file1.write(string_drug_disease_filename)\n",
    "                    \n",
    "file1.close()\n",
    "                    \n",
    "            \n",
    "            #list_drugs_diseases.append((list_drugs,list_diseases, filename))\n"
   ]
  },
  {
   "cell_type": "code",
   "execution_count": 66,
   "id": "75c50239",
   "metadata": {},
   "outputs": [
    {
     "name": "stdout",
     "output_type": "stream",
     "text": [
      "100000\n",
      "200000\n",
      "300000\n",
      "400000\n"
     ]
    }
   ],
   "source": [
    "folder = \"../data/clinical_results/\"\n",
    "file1 = open(folder+'drug_disease_clinical_trial.csv', 'w')\n",
    "sep = \";;\"\n",
    "file1.write(\"type_drug\"+sep+\"drug\"+sep+\"disease\"+sep + \"filename\\n\")\n",
    "\n",
    "list_drugs_diseases = []\n",
    "i=0\n",
    "for file in list_files:\n",
    "    i=i+1\n",
    "    if(i%100000 == 0):\n",
    "        print(i)\n",
    "    with open(file, 'r') as f:\n",
    "        #print(file)\n",
    "        data = f.read()\n",
    "    Bs_data = BeautifulSoup(data, \"xml\")\n",
    "    \n",
    "    list_drugs = []\n",
    "    list_diseases = []\n",
    "    status = \"\"\n",
    "    \n",
    "    \n",
    "    b_unique = Bs_data.find_all(\"Field\", {\"Name\": \"OverallStatus\"})\n",
    "    for elem in b_unique:\n",
    "        status = elem.string\n",
    "    \n",
    "    if(status == \"Completed\"):\n",
    "    #if(status == \"Terminated\" or status == \"Completed\"):\n",
    "    # drug\n",
    "        b_unique = Bs_data.find_all(\"Field\", {\"Name\": \"ArmGroupInterventionName\"})\n",
    "\n",
    "        for elem in b_unique:\n",
    "            string = elem.string\n",
    "            \n",
    "            #if (\"Drug: \" in string):\n",
    "            #    drug = string.split(\"Drug: \")[1]\n",
    "            #else:\n",
    "            #    drug = string\n",
    "            drug = string\n",
    "             \n",
    "\n",
    "            drug_i_list = drug.split(\": \", 1)\n",
    "            type_drug = drug_i_list[0]\n",
    "            op_drug = drug_i_list[1]\n",
    "            type_and_drug_i = type_drug+sep+op_drug\n",
    "            list_drugs.append(type_and_drug_i)\n",
    "\n",
    "            \n",
    "           \n",
    "        \n",
    "        # disease = Mesh terms\n",
    "\n",
    "        #b_unique = Bs_data.find_all(\"Field\", {\"Name\": \"Condition\"})\n",
    "        #b_unique = Bs_data.find_all(\"Field\", {\"Name\": \"InterventionMeshTerm\"})\n",
    "        b_unique = Bs_data.find_all(\"Field\", {\"Name\": \"ConditionAncestorTerm\"})\n",
    "        \n",
    "        for elem in b_unique:\n",
    "            disease  = elem.string\n",
    "            if (\",\" in disease):\n",
    "                #disease = disease.replace(\", \", \" \")\n",
    "                disease = disease.split(\",\")\n",
    "                for disease_i in disease:\n",
    "                    #print(disease_i)\n",
    "                    disease_i = disease_i.replace(\"  \", \" \")\n",
    "                    if (\"Diseases\" in disease_i):\n",
    "                        disease_i = disease_i.replace(' Diseases','')\n",
    "                    list_diseases.append(disease_i)\n",
    "            else:            \n",
    "                if (\"Diseases\" in disease):\n",
    "                    disease = disease.replace(' Diseases','')\n",
    "                list_diseases.append(disease)\n",
    "            #print(disease)\n",
    "        #list_diseases\n",
    "        if((len(list_drugs)!=0) & (len(list_diseases)!=0)):\n",
    "            #print(list_drugs)\n",
    "            #print(list_diseases)\n",
    "            splited_file = file.split(\"/\")\n",
    "            size = len(splited_file)\n",
    "            filename = splited_file[size-1]\n",
    "            for drug in list_drugs:\n",
    "                for disease in list_diseases:\n",
    "                    #list_drugs_diseases.append((drug,disease, filename))\n",
    "                    string_drug_disease_filename = drug + sep + disease + sep + filename +\"\\n\"\n",
    "                    #drug_and_type = \",\".join(str(x) for x in drug)\n",
    "                    #string_drug_disease_filename = drug_and_type + \",\" + disease + \",\"+ filename +\"\\n\"\n",
    "                    file1.write(string_drug_disease_filename)\n",
    "                    \n",
    "file1.close()\n",
    "                    \n",
    "            \n",
    "            #list_drugs_diseases.append((list_drugs,list_diseases, filename))\n"
   ]
  },
  {
   "cell_type": "code",
   "execution_count": null,
   "id": "41f03d3e",
   "metadata": {},
   "outputs": [],
   "source": []
  },
  {
   "cell_type": "code",
   "execution_count": 67,
   "id": "6353b5aa",
   "metadata": {},
   "outputs": [
    {
     "name": "stderr",
     "output_type": "stream",
     "text": [
      "/home/sofiane/.virtualenvs/tigergraph_drug/lib/python3.6/site-packages/ipykernel_launcher.py:2: ParserWarning: Falling back to the 'python' engine because the 'c' engine does not support regex separators (separators > 1 char and different from '\\s+' are interpreted as regex); you can avoid this warning by specifying engine='python'.\n",
      "  \n"
     ]
    },
    {
     "data": {
      "text/html": [
       "<div>\n",
       "<style scoped>\n",
       "    .dataframe tbody tr th:only-of-type {\n",
       "        vertical-align: middle;\n",
       "    }\n",
       "\n",
       "    .dataframe tbody tr th {\n",
       "        vertical-align: top;\n",
       "    }\n",
       "\n",
       "    .dataframe thead th {\n",
       "        text-align: right;\n",
       "    }\n",
       "</style>\n",
       "<table border=\"1\" class=\"dataframe\">\n",
       "  <thead>\n",
       "    <tr style=\"text-align: right;\">\n",
       "      <th></th>\n",
       "      <th>type_drug</th>\n",
       "      <th>drug</th>\n",
       "      <th>disease</th>\n",
       "      <th>filename</th>\n",
       "    </tr>\n",
       "  </thead>\n",
       "  <tbody>\n",
       "    <tr>\n",
       "      <th>0</th>\n",
       "      <td>Drug</td>\n",
       "      <td>Tolterodine</td>\n",
       "      <td>Urinary Bladder</td>\n",
       "      <td>NCT00481728.xml</td>\n",
       "    </tr>\n",
       "    <tr>\n",
       "      <th>1</th>\n",
       "      <td>Drug</td>\n",
       "      <td>Tolterodine</td>\n",
       "      <td>Urologic</td>\n",
       "      <td>NCT00481728.xml</td>\n",
       "    </tr>\n",
       "  </tbody>\n",
       "</table>\n",
       "</div>"
      ],
      "text/plain": [
       "  type_drug         drug          disease         filename\n",
       "0      Drug  Tolterodine  Urinary Bladder  NCT00481728.xml\n",
       "1      Drug  Tolterodine         Urologic  NCT00481728.xml"
      ]
     },
     "execution_count": 67,
     "metadata": {},
     "output_type": "execute_result"
    }
   ],
   "source": [
    "file = 'drug_disease_clinical_trial.csv'\n",
    "df_drug_disease_clinical_trial = pd.read_csv(folder+file, sep=\";;\")\n",
    "df_drug_disease_clinical_trial.head(2)\n",
    "\n"
   ]
  },
  {
   "cell_type": "code",
   "execution_count": 69,
   "id": "5f2ff46a",
   "metadata": {},
   "outputs": [
    {
     "data": {
      "text/plain": [
       "Drug                   1176087\n",
       "Other                   309706\n",
       "Biological              199451\n",
       "Device                  152614\n",
       "Procedure               147906\n",
       "Behavioral              145420\n",
       "Dietary Supplement       50589\n",
       "Diagnostic Test          33025\n",
       "Radiation                28315\n",
       "Genetic                   8958\n",
       "Combination Product       4182\n",
       "Name: type_drug, dtype: int64"
      ]
     },
     "execution_count": 69,
     "metadata": {},
     "output_type": "execute_result"
    }
   ],
   "source": [
    "df_drug_disease_clinical_trial['type_drug'].value_counts()"
   ]
  },
  {
   "cell_type": "code",
   "execution_count": 42,
   "id": "b22fd755",
   "metadata": {},
   "outputs": [],
   "source": [
    "#df_drug_disease_clinical_trial[~df_drug_disease_clinical_trial['disease'].str.contains('DISEASES')]"
   ]
  },
  {
   "cell_type": "code",
   "execution_count": 9,
   "id": "91745a2a",
   "metadata": {},
   "outputs": [
    {
     "data": {
      "text/plain": [
       "0.38048272390856946"
      ]
     },
     "execution_count": 9,
     "metadata": {},
     "output_type": "execute_result"
    }
   ],
   "source": [
    "892762/len(df_drug_disease_clinical_trial)"
   ]
  },
  {
   "cell_type": "code",
   "execution_count": 43,
   "id": "fbea136e",
   "metadata": {},
   "outputs": [],
   "source": [
    "df_drug_disease_clinical_trial['drug'] = df_drug_disease_clinical_trial['drug'].str.upper()\n",
    "df_drug_disease_clinical_trial['disease'] = df_drug_disease_clinical_trial['disease'].str.upper()\n",
    "df_drug_disease_clinical_trial['type_drug'] = df_drug_disease_clinical_trial['type_drug'].str.upper()"
   ]
  },
  {
   "cell_type": "code",
   "execution_count": 44,
   "id": "45e3c97e",
   "metadata": {},
   "outputs": [
    {
     "data": {
      "text/html": [
       "<div>\n",
       "<style scoped>\n",
       "    .dataframe tbody tr th:only-of-type {\n",
       "        vertical-align: middle;\n",
       "    }\n",
       "\n",
       "    .dataframe tbody tr th {\n",
       "        vertical-align: top;\n",
       "    }\n",
       "\n",
       "    .dataframe thead th {\n",
       "        text-align: right;\n",
       "    }\n",
       "</style>\n",
       "<table border=\"1\" class=\"dataframe\">\n",
       "  <thead>\n",
       "    <tr style=\"text-align: right;\">\n",
       "      <th></th>\n",
       "      <th>type_drug</th>\n",
       "      <th>drug</th>\n",
       "      <th>disease</th>\n",
       "      <th>filename</th>\n",
       "    </tr>\n",
       "  </thead>\n",
       "  <tbody>\n",
       "    <tr>\n",
       "      <th>0</th>\n",
       "      <td>DRUG</td>\n",
       "      <td>TOLTERODINE</td>\n",
       "      <td>URINARY BLADDER</td>\n",
       "      <td>NCT00481728.xml</td>\n",
       "    </tr>\n",
       "    <tr>\n",
       "      <th>1</th>\n",
       "      <td>DRUG</td>\n",
       "      <td>TOLTERODINE</td>\n",
       "      <td>UROLOGIC</td>\n",
       "      <td>NCT00481728.xml</td>\n",
       "    </tr>\n",
       "  </tbody>\n",
       "</table>\n",
       "</div>"
      ],
      "text/plain": [
       "  type_drug         drug          disease         filename\n",
       "0      DRUG  TOLTERODINE  URINARY BLADDER  NCT00481728.xml\n",
       "1      DRUG  TOLTERODINE         UROLOGIC  NCT00481728.xml"
      ]
     },
     "execution_count": 44,
     "metadata": {},
     "output_type": "execute_result"
    }
   ],
   "source": [
    "df_drug_disease_clinical_trial.head(2)"
   ]
  },
  {
   "cell_type": "code",
   "execution_count": 47,
   "id": "2ae87cb6",
   "metadata": {},
   "outputs": [
    {
     "data": {
      "text/plain": [
       "DRUG                         1169172\n",
       "OTHER                         307860\n",
       "BIOLOGICAL                    198616\n",
       "DEVICE                        151572\n",
       "PROCEDURE                     146881\n",
       "                              ...   \n",
       " HEALTHY COMMUNITIES               1\n",
       " SHARP RIGHT                       1\n",
       " EXPECTANCIES                      1\n",
       " 2.8MG                             1\n",
       " COUNSELING AND EDUCATION          1\n",
       "Name: type_drug, Length: 6423, dtype: int64"
      ]
     },
     "execution_count": 47,
     "metadata": {},
     "output_type": "execute_result"
    }
   ],
   "source": [
    "df_drug_disease_clinical_trial['type_drug'].value_counts()"
   ]
  },
  {
   "cell_type": "code",
   "execution_count": null,
   "id": "b5ab1250",
   "metadata": {},
   "outputs": [],
   "source": [
    "lire le fichier drug_disease_clinical_trial.csv\n",
    "ecrire les mots en upper\n",
    "split and count in drug column Drug: ... mots et Diseases dans la colum Diseases\n",
    "pour chaque disease croiser avec les drug cliniques et l'existant"
   ]
  },
  {
   "cell_type": "code",
   "execution_count": 14,
   "id": "1d848d13",
   "metadata": {},
   "outputs": [
    {
     "data": {
      "text/plain": [
       "12"
      ]
     },
     "execution_count": 14,
     "metadata": {},
     "output_type": "execute_result"
    }
   ],
   "source": [
    "len(list_drugs_diseases)"
   ]
  },
  {
   "cell_type": "code",
   "execution_count": 5,
   "id": "33adea22",
   "metadata": {},
   "outputs": [
    {
     "data": {
      "text/plain": [
       "113"
      ]
     },
     "execution_count": 5,
     "metadata": {},
     "output_type": "execute_result"
    }
   ],
   "source": [
    "len(list_drugs_diseases)"
   ]
  },
  {
   "cell_type": "code",
   "execution_count": 138,
   "id": "aced806e",
   "metadata": {},
   "outputs": [
    {
     "data": {
      "text/plain": [
       "['Implanon NXT® subdermal implant',\n",
       " 'Desogestrel 0.075 milligram',\n",
       " 'Implanon NXT® subdermal implant']"
      ]
     },
     "execution_count": 138,
     "metadata": {},
     "output_type": "execute_result"
    }
   ],
   "source": [
    "\n",
    "list_drugs = []\n",
    " \n",
    "# Finding all instances of tag\n",
    "# `unique`\n",
    "b_unique = Bs_data.find_all(\"Field\", {\"Name\": \"ArmGroupInterventionName\"})\n",
    "\n",
    "\n",
    "\n",
    "for elem in b_unique:\n",
    "    string = elem.string\n",
    "    drug = string.split(\"Drug: \")[1]\n",
    "    list_drugs.append(drug)\n",
    "    #print(drug)\n",
    "list_drugs\n"
   ]
  },
  {
   "cell_type": "code",
   "execution_count": 137,
   "id": "66c246bb",
   "metadata": {},
   "outputs": [
    {
     "data": {
      "text/plain": [
       "[<Field Name=\"InterventionMeshTerm\">Desogestrel</Field>,\n",
       " <Field Name=\"InterventionMeshTerm\">Etonogestrel</Field>]"
      ]
     },
     "execution_count": 137,
     "metadata": {},
     "output_type": "execute_result"
    }
   ],
   "source": [
    "b_unique = Bs_data.find_all(\"Field\", {\"Name\": \"InterventionMeshTerm\"})\n",
    "b_unique"
   ]
  },
  {
   "cell_type": "code",
   "execution_count": 128,
   "id": "a2b4eeb8",
   "metadata": {},
   "outputs": [
    {
     "name": "stdout",
     "output_type": "stream",
     "text": [
      "Terminated\n"
     ]
    }
   ],
   "source": [
    "b_unique = Bs_data.find_all(\"Field\", {\"Name\": \"OverallStatus\"})\n",
    "for elem in b_unique:\n",
    "    string = elem.string\n",
    "    print(string)"
   ]
  },
  {
   "cell_type": "code",
   "execution_count": 141,
   "id": "990f87eb",
   "metadata": {},
   "outputs": [
    {
     "name": "stdout",
     "output_type": "stream",
     "text": [
      "Contraception\n",
      "Progestogen Adverse Reaction\n"
     ]
    }
   ],
   "source": [
    "list_diseases = []\n",
    "b_unique = Bs_data.find_all(\"Field\", {\"Name\": \"Condition\"})\n",
    "for elem in b_unique:\n",
    "    disease  = elem.string\n",
    "    list_diseases.append(disease)\n",
    "    print(disease)\n",
    "list_diseases\n",
    "\n",
    "list_drugs_diseases.append((list_drugs,list_diseases))"
   ]
  },
  {
   "cell_type": "code",
   "execution_count": 110,
   "id": "a4125d81",
   "metadata": {},
   "outputs": [
    {
     "data": {
      "text/plain": [
       "[(['Implanon NXT® subdermal implant',\n",
       "   'Desogestrel 0.075 milligram',\n",
       "   'Implanon NXT® subdermal implant'],\n",
       "  ['Contraception', 'Progestogen Adverse Reaction'])]"
      ]
     },
     "execution_count": 110,
     "metadata": {},
     "output_type": "execute_result"
    }
   ],
   "source": [
    "\n",
    "\n",
    "list_drugs_diseases"
   ]
  },
  {
   "cell_type": "code",
   "execution_count": null,
   "id": "83ed1bd4",
   "metadata": {},
   "outputs": [],
   "source": []
  },
  {
   "cell_type": "code",
   "execution_count": null,
   "id": "3fc12869",
   "metadata": {},
   "outputs": [],
   "source": []
  },
  {
   "cell_type": "code",
   "execution_count": null,
   "id": "8e1ae439",
   "metadata": {},
   "outputs": [],
   "source": []
  },
  {
   "cell_type": "code",
   "execution_count": null,
   "id": "d0155920",
   "metadata": {},
   "outputs": [],
   "source": []
  }
 ],
 "metadata": {
  "kernelspec": {
   "display_name": "Python 3",
   "language": "python",
   "name": "python3"
  },
  "language_info": {
   "codemirror_mode": {
    "name": "ipython",
    "version": 3
   },
   "file_extension": ".py",
   "mimetype": "text/x-python",
   "name": "python",
   "nbconvert_exporter": "python",
   "pygments_lexer": "ipython3",
   "version": "3.6.9"
  }
 },
 "nbformat": 4,
 "nbformat_minor": 5
}
