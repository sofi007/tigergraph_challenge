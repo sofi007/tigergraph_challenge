{
 "cells": [
  {
   "cell_type": "code",
   "execution_count": 27,
   "metadata": {},
   "outputs": [],
   "source": [
    "import pyTigerGraph as tg\n",
    "import requests\n",
    "import json\n",
    "from pathlib import Path"
   ]
  },
  {
   "cell_type": "code",
   "execution_count": 2,
   "metadata": {},
   "outputs": [],
   "source": [
    "conn = tg.TigerGraphConnection(host=\"http://127.0.0.1\",graphname=\"graph_drug_disease\", username=\"tigergraph\", password=\"tigergraph\", apiToken=\"2aa016d747ede9gg6da3drslm98srfoj\")"
   ]
  },
  {
   "cell_type": "code",
   "execution_count": null,
   "metadata": {},
   "outputs": [],
   "source": [
    "# Installing the following queries if not installed yet."
   ]
  },
  {
   "cell_type": "code",
   "execution_count": 17,
   "metadata": {},
   "outputs": [
    {
     "data": {
      "text/plain": [
       "'Start installing queries, about 1 minute ...\\ngetDRUGS query: curl -X GET \\'http://127.0.0.1:9000/query/graph_drug_disease/getDRUGS\\'. Add -H \"Authorization: Bearer TOKEN\" if authentication is enabled.\\nSelect \\'m1\\' as compile server, now connecting ...\\nNode \\'m1\\' is prepared as compile server.\\n\\nQuery installation finished.'"
      ]
     },
     "execution_count": 17,
     "metadata": {},
     "output_type": "execute_result"
    }
   ],
   "source": [
    "with open('queries/getDRUGS.gsql', 'r') as file:\n",
    "    gsql_file = file.read().rstrip()\n",
    "conn.gsql(gsql_file)\n",
    "conn.gsql('INSTALL QUERY getDRUGS')"
   ]
  },
  {
   "cell_type": "code",
   "execution_count": null,
   "metadata": {},
   "outputs": [],
   "source": []
  },
  {
   "cell_type": "code",
   "execution_count": 18,
   "metadata": {},
   "outputs": [
    {
     "data": {
      "text/plain": [
       "'Start installing queries, about 1 minute ...\\ngetDISEASES query: curl -X GET \\'http://127.0.0.1:9000/query/graph_drug_disease/getDISEASES\\'. Add -H \"Authorization: Bearer TOKEN\" if authentication is enabled.\\nSelect \\'m1\\' as compile server, now connecting ...\\nNode \\'m1\\' is prepared as compile server.\\n\\nQuery installation finished.'"
      ]
     },
     "execution_count": 18,
     "metadata": {},
     "output_type": "execute_result"
    }
   ],
   "source": [
    "with open('queries/getDISEASES.gsql', 'r') as file:\n",
    "    gsql_file = file.read().rstrip()\n",
    "conn.gsql(gsql_file)\n",
    "conn.gsql('INSTALL QUERY getDISEASES')"
   ]
  },
  {
   "cell_type": "code",
   "execution_count": 21,
   "metadata": {},
   "outputs": [
    {
     "data": {
      "text/plain": [
       "'Start installing queries, about 1 minute ...\\ntg_common_neighbors query: curl -X GET \\'http://127.0.0.1:9000/query/graph_drug_disease/tg_common_neighbors?a=VALUE&a.type=VERTEX_TYPE&b=VALUE&b.type=VERTEX_TYPE&e_type=VALUE&[print_res=VALUE]\\'. Add -H \"Authorization: Bearer TOKEN\" if authentication is enabled.\\nSelect \\'m1\\' as compile server, now connecting ...\\nNode \\'m1\\' is prepared as compile server.\\n\\nQuery installation finished.'"
      ]
     },
     "execution_count": 21,
     "metadata": {},
     "output_type": "execute_result"
    }
   ],
   "source": [
    "with open('queries/tg_common_neighbors.gsql', 'r') as file:\n",
    "    gsql_file = file.read().rstrip()\n",
    "conn.gsql(gsql_file)\n",
    "conn.gsql('INSTALL QUERY tg_common_neighbors')"
   ]
  },
  {
   "cell_type": "code",
   "execution_count": 39,
   "metadata": {},
   "outputs": [
    {
     "data": {
      "text/plain": [
       "'Start installing queries, about 1 minute ...\\npattern_for_drugs query: curl -X GET \\'http://127.0.0.1:9000/query/graph_drug_disease/pattern_for_drugs?drug=VALUE\\'. Add -H \"Authorization: Bearer TOKEN\" if authentication is enabled.\\nSelect \\'m1\\' as compile server, now connecting ...\\nNode \\'m1\\' is prepared as compile server.\\n\\nQuery installation finished.'"
      ]
     },
     "execution_count": 39,
     "metadata": {},
     "output_type": "execute_result"
    }
   ],
   "source": [
    "with open('queries/pattern_for_drugs.gsql', 'r') as file:\n",
    "    gsql_file = file.read().rstrip()\n",
    "conn.gsql(gsql_file)\n",
    "conn.gsql('INSTALL QUERY pattern_for_drugs')"
   ]
  },
  {
   "cell_type": "code",
   "execution_count": null,
   "metadata": {},
   "outputs": [],
   "source": []
  },
  {
   "cell_type": "code",
   "execution_count": 40,
   "metadata": {},
   "outputs": [
    {
     "data": {
      "text/plain": [
       "'Start installing queries, about 1 minute ...\\npattern_for_disease query: curl -X GET \\'http://127.0.0.1:9000/query/graph_drug_disease/pattern_for_disease?disease=VALUE\\'. Add -H \"Authorization: Bearer TOKEN\" if authentication is enabled.\\nSelect \\'m1\\' as compile server, now connecting ...\\nNode \\'m1\\' is prepared as compile server.\\n\\nQuery installation finished.'"
      ]
     },
     "execution_count": 40,
     "metadata": {},
     "output_type": "execute_result"
    }
   ],
   "source": [
    "with open('queries/pattern_for_disease.gsql', 'r') as file:\n",
    "    gsql_file = file.read().rstrip()\n",
    "conn.gsql(gsql_file)\n",
    "conn.gsql('INSTALL QUERY pattern_for_disease')"
   ]
  },
  {
   "cell_type": "code",
   "execution_count": null,
   "metadata": {},
   "outputs": [],
   "source": [
    "# A function to process query results in JSON"
   ]
  },
  {
   "cell_type": "code",
   "execution_count": 50,
   "metadata": {},
   "outputs": [],
   "source": [
    "def json_results_processing(get_patterns, type_node):\n",
    "    if(type_node == \"drug\"):\n",
    "        Vertex_type = 'VertexSet_2'\n",
    "        \n",
    "    if(type_node == \"disease\"):\n",
    "        Vertex_type = 'VertexSet_1'\n",
    "        \n",
    "    \n",
    "    VertexList = []\n",
    "    json_object = json.loads(get_patterns)\n",
    "    #json_object\n",
    "    results = json_object['results']\n",
    "    for elem in results:\n",
    "        for key, value in elem.items():\n",
    "            #print(key)\n",
    "            if(key == Vertex_type):\n",
    "                #print(value)\n",
    "                for i in value:\n",
    "                    VertexList.append(i['v_id'])\n",
    "\n",
    "\n",
    "            #if(key == '@@FinalEdgeSet_3' or key == '@@FinalEdgeSet_4'):\n",
    "            #    for i in value:\n",
    "            #        print(i['to_id'])\n",
    "    VertexSet = set(VertexList)\n",
    "    return VertexSet\n",
    "\n",
    "def getNeighborsVertexSet(drug_or_disease, type_node):\n",
    "    drug_or_disease = \"\\\"\"  + drug_or_disease + \"\\\"\" \n",
    "    if(type_node == \"drug\"):\n",
    "        query = 'RUN QUERY pattern_for_drugs('+drug_or_disease+')'\n",
    "    if(type_node == \"disease\"):\n",
    "        query = 'RUN QUERY pattern_for_disease('+drug_or_disease+')'\n",
    "    get_neighbors = conn.gsql(query)\n",
    "    #print(get_neighbors)\n",
    "    VertexSet = json_results_processing(get_neighbors, type_node)\n",
    "    return VertexSet\n",
    "\n",
    "def getNodes(type_node):\n",
    "    if(type_node == \"drug\"):\n",
    "        query = 'RUN QUERY getDISEASES()'\n",
    "        filename = \"/home/tigergraph/getDISEASES.txt\"\n",
    "    if(type_node == \"disease\"):\n",
    "        query = 'RUN QUERY getDRUGS()'\n",
    "        filename = \"/home/tigergraph/getDRUGS.txt\"\n",
    "        \n",
    "    #if(os.path.exists(filename)==False):\n",
    "    conn.gsql(query)\n",
    "        \n",
    "    getNodes = []\n",
    "    with open(filename) as file:\n",
    "        for line in file: \n",
    "            line = line.strip() \n",
    "            getNodes.append(line) \n",
    "\n",
    "        getNodes = set(getNodes)\n",
    "    return getNodes\n",
    "\n",
    "def diff_Vertex(set1, set2):\n",
    "    diff_set = set1 - set2\n",
    "    if '' in diff_set:\n",
    "        diff_set.remove('')\n",
    "    \n",
    "    return diff_set\n",
    "\n",
    "def run_common_neighbors_algo(query):\n",
    "    \n",
    "    \n",
    "    try:\n",
    "        get_common_neighbors = conn.gsql(query)\n",
    "        json_object = json.loads(get_common_neighbors)\n",
    "        results = json_object['results']\n",
    "        closeness = results[0]['closeness']\n",
    "    except ValueError:\n",
    "        print(ValueError, query)\n",
    "        closeness = 0\n",
    "\n",
    "    \n",
    "    return closeness\n",
    "    \n",
    "def predictions(drug_or_disease, type_node, diff_set, top_k):\n",
    "    if \"\\\"\" in drug_or_disease:\n",
    "        drug_or_disease = drug_or_disease.replace(\"\\\"\", \"'\")\n",
    "        print(drug_or_disease)\n",
    "        drug_or_disease = drug_or_disease.replace(\"'\", \"\\\\'\")\n",
    "    drug_or_disease = \"\\\"\"+ drug_or_disease +\"\\\"\"\n",
    "    list_pred_drug_disease = []\n",
    "    \n",
    "    if (type_node == \"drug\"): # predict disease for a drug\n",
    "        \n",
    "        for disease in diff_set:\n",
    "            disease = \"\\\"\"+ disease +\"\\\"\"\n",
    "\n",
    "            query = 'RUN QUERY tg_common_neighbors (('+drug_or_disease+', \"DRUG\") , ('+disease+', \"DISEASES\"),[\"is_prescripted_for\", \"gene_disease_association\", \"drug_gene_association\", \"is_tested_for\"], _)'\n",
    "            \n",
    "            results = run_common_neighbors_algo(query)\n",
    "            list_pred_drug_disease.append((drug_or_disease, disease, results))\n",
    "        list_pred_drug_disease = sorted(list_pred_drug_disease, key=lambda tup: tup[2], reverse=True)\n",
    "            \n",
    "    if (type_node == \"disease\"): # predict drug for a disease\n",
    "        \n",
    "        for drug in diff_set:\n",
    "                \n",
    "            drug = \"\\\"\"+ drug +\"\\\"\"\n",
    "            query = 'RUN QUERY tg_common_neighbors (('+drug+', \"DRUG\") , ('+drug_or_disease+', \"DISEASES\"),[\"is_prescripted_for\", \"gene_disease_association\", \"drug_gene_association\", \"is_tested_for\"], _)'\n",
    "            results = run_common_neighbors_algo(query)\n",
    "            list_pred_drug_disease.append((drug, drug_or_disease, results))\n",
    "        list_pred_drug_disease = sorted(list_pred_drug_disease, key=lambda tup: tup[2], reverse=True)\n",
    "\n",
    "\n",
    "    \n",
    "    return list_pred_drug_disease[:top_k]\n",
    "\n"
   ]
  },
  {
   "cell_type": "code",
   "execution_count": null,
   "metadata": {},
   "outputs": [],
   "source": []
  },
  {
   "cell_type": "code",
   "execution_count": 53,
   "metadata": {},
   "outputs": [
    {
     "name": "stdout",
     "output_type": "stream",
     "text": [
      "BRAIN_ISCHEMIA\n",
      "{'EDARAVONE', 'TRIFLUSAL', 'DABIGATRAN', 'AMLODIPINE', 'DEFEROXAMINE', 'EPTIFIBATIDE', 'FLUOXETINE', 'NERVE_GROWTH_FACTORS', 'SIROLIMUS', 'VERAPAMIL', 'TRAZODONE', 'ASPIRIN', 'CEREBROLYSIN', 'CANNABIDIOL', 'NIMODIPINE', 'PIOGLITAZONE', 'CLOPIDOGREL', 'LOSARTAN', 'URIC_ACID', 'ANGIOTENSIN-CONVERTING_ENZYME_INHIBITORS', 'CILOSTAZOL', 'RIVAROXABAN', 'WARFARIN'}\n",
      "59671\n",
      "59647\n"
     ]
    }
   ],
   "source": [
    "# List of diseases used to predict drugs\n",
    "\n",
    "\n",
    "list_diseases = [\"PITUITARY_APOPLEXY\", \"POLAND_SYNDROME\",\\\n",
    "                 \"KEPPEN-LUBINSKY_SYNDROME\", \"ACUTE_PAIN\",\\\n",
    "                 \"FETAL_DISTRESS\", \"GONADAL_DISORDERS\",\\\n",
    "                 \"ANGIOMATOSIS\",  \"OBESITY\", \"COLORECTAL_NEOPLASMS\"]\n",
    "list_diseases = [\"BRAIN_ISCHEMIA\"]\n",
    "\n",
    "folder = \"../results/diseases/\"\n",
    "Path(folder).mkdir(parents=True, exist_ok=True)\n",
    "\n",
    "for disease_name in list_diseases:\n",
    "    print(disease_name)\n",
    "    neighbors_drugs = getNeighborsVertexSet(disease_name, \"disease\")\n",
    "    print(neighbors_drugs)\n",
    "    set_drugs = getNodes(\"disease\")\n",
    "    print(len(set_drugs))\n",
    "    diff_drugs = diff_Vertex(set_drugs, neighbors_drugs)\n",
    "    print(len(diff_drugs))\n",
    "\n",
    "    results = predictions(disease_name, \"disease\", diff_drugs, 20)\n",
    "    folder_disease_name = folder+\"/\"+disease_name+\"/\"\n",
    "    Path(folder_disease_name).mkdir(parents=True, exist_ok=True)\n",
    "    f = open(folder_disease_name+\"predictions\"+\".txt\", \"w\")\n",
    "    for res in results:\n",
    "        #print(res)\n",
    "        f.write(res[0]+\",\"+str(res[2])+\"\\n\")\n",
    "    f.close()"
   ]
  },
  {
   "cell_type": "code",
   "execution_count": 62,
   "metadata": {},
   "outputs": [],
   "source": [
    "# List of drugs for predicting their use in a disease\n",
    "list_drugs = [\"TRAZODONE\", \"VITAMIN_A\", \"LIDOCAINE\", \"CYTOFLAVIN\"]\n",
    "\n",
    "folder = \"../results/drugs/\"\n",
    "Path(folder).mkdir(parents=True, exist_ok=True)\n",
    "\n",
    "for drug_name in list_drugs:\n",
    "\n",
    "    neighbors_diseases = getNeighborsVertexSet(drug_name, \"drug\")\n",
    "    #print(neighbors_drugs)\n",
    "    set_diseases = getNodes(\"drug\")\n",
    "    #print(len(set_drugs))\n",
    "    diff = diff_Vertex(set_diseases, neighbors_diseases)\n",
    "    #print(len(diff_drugs))\n",
    "\n",
    "    results = predictions(drug_name, \"drug\", diff, 20)\n",
    "    folder_drug_name = folder+\"/\"+drug_name+\"/\"\n",
    "    Path(folder_drug_name).mkdir(parents=True, exist_ok=True)\n",
    "    f = open(folder_drug_name+\"predictions\"+\".txt\", \"w\")\n",
    "    for res in results:\n",
    "        #print(res)\n",
    "        f.write(res[1]+\",\"+str(res[2])+\"\\n\")\n",
    "    f.close()"
   ]
  },
  {
   "cell_type": "markdown",
   "metadata": {},
   "source": [
    "# Parallel version"
   ]
  },
  {
   "cell_type": "code",
   "execution_count": 55,
   "metadata": {},
   "outputs": [
    {
     "data": {
      "text/plain": [
       "['ORAL_ULCER',\n",
       " 'MINICORE_MYOPATHY_WITH_EXTERNAL_OPHTHALMOPLEGIA',\n",
       " 'HYPERTHYROXINEMIA',\n",
       " 'SQUAMOUS_CELL_CARCINOMA_OF_HEAD_AND_NECK',\n",
       " 'HYPERPITUITARISM',\n",
       " 'ATHEROSCLEROSIS',\n",
       " 'SLEEP_WAKE_DISORDERS',\n",
       " 'TRIGEMINAL_NEURALGIA',\n",
       " 'HOLT-ORAM_SYNDROME',\n",
       " 'MATURITY-ONSET_DIABETES_OF_THE_YOUNG']"
      ]
     },
     "execution_count": 55,
     "metadata": {},
     "output_type": "execute_result"
    }
   ],
   "source": [
    "# get all diseases for computing their predictions\n",
    "#query = 'RUN QUERY getDISEASES()'\n",
    "getDISEASES = []\n",
    "filename = \"/home/tigergraph/getDISEASES.txt\"\n",
    "#if(os.path.exists(filename)==False):\n",
    "#conn.gsql(query)\n",
    "with open(filename) as file:\n",
    "    for line in file: \n",
    "        line = line.strip() \n",
    "        getDISEASES.append(line) \n",
    "\n",
    "    getDISEASES = set(getDISEASES)\n",
    "getDISEASES = list(getDISEASES)\n",
    "getDISEASES.remove('')\n",
    "getDISEASES[:10]"
   ]
  },
  {
   "cell_type": "markdown",
   "metadata": {},
   "source": [
    "# Prediction for all diseases"
   ]
  },
  {
   "cell_type": "code",
   "execution_count": null,
   "metadata": {},
   "outputs": [],
   "source": [
    "import time\n",
    "import math\n",
    "from multiprocessing import Pool\n",
    "from multiprocessing import freeze_support\n",
    "from pathlib import Path\n",
    "\n",
    "folder = \"../results/diseases/\"\n",
    "Path(folder).mkdir(parents=True, exist_ok=True)\n",
    "\n",
    "getDISEASES = [\"BRAIN_ISCHEMIA\", \"COVID-19\", \"CROHN_DISEASE\", \"DENTAL_CARIES\"]\n",
    "\n",
    "'''Define function to run mutiple processors and pool the results together'''\n",
    "def run_multiprocessing(func, i, n_processors):\n",
    "    with Pool(processes=n_processors) as pool:\n",
    "        return pool.map(func, i)\n",
    "\n",
    "def sequential_prediction_algo(disease_name):\n",
    "    #print(disease_name)\n",
    "    neighbors_drugs = getNeighborsVertexSet(disease_name, \"disease\")\n",
    "    #print(neighbors_drugs)\n",
    "    set_drugs = getNodes(\"disease\")\n",
    "    #print(len(set_drugs))\n",
    "    diff_drugs = diff_Vertex(set_drugs, neighbors_drugs)\n",
    "    #print(len(diff_drugs))\n",
    "\n",
    "    results = predictions(disease_name, \"disease\", diff_drugs, 20)\n",
    "    folder_disease_name = folder+\"/\"+disease_name+\"/\"\n",
    "    Path(folder_disease_name).mkdir(parents=True, exist_ok=True)\n",
    "    f = open(folder_disease_name+\"predictions\"+\".txt\", \"w\")\n",
    "    for res in results:\n",
    "        #print(res)\n",
    "        f.write(res[0]+\",\"+str(res[2])+\"\\n\")\n",
    "    f.close()\n",
    "    \n",
    "start = time.clock()\n",
    "\n",
    "'''\n",
    "set up parameters required by the task\n",
    "'''\n",
    "\n",
    "\n",
    "n_processors = 5\n",
    "list_disease = getDISEASES\n",
    "\n",
    "'''\n",
    "pass the task function, followed by the parameters to processors\n",
    "'''\n",
    "out = run_multiprocessing(sequential_prediction_algo, list_disease, n_processors)\n",
    "\n",
    "print(\"Input length: {}\".format(len(list_disease)))\n",
    "print(\"Output length: {}\".format(len(out)))\n",
    "print(\"Mutiprocessing time: {}mins\\n\".format((time.clock()-start)/60))\n",
    "print(\"Mutiprocessing time: {}secs\\n\".format((time.clock()-start)))"
   ]
  },
  {
   "cell_type": "code",
   "execution_count": null,
   "metadata": {},
   "outputs": [],
   "source": []
  }
 ],
 "metadata": {
  "kernelspec": {
   "display_name": "Python 3",
   "language": "python",
   "name": "python3"
  },
  "language_info": {
   "codemirror_mode": {
    "name": "ipython",
    "version": 3
   },
   "file_extension": ".py",
   "mimetype": "text/x-python",
   "name": "python",
   "nbconvert_exporter": "python",
   "pygments_lexer": "ipython3",
   "version": "3.6.9"
  }
 },
 "nbformat": 4,
 "nbformat_minor": 5
}
