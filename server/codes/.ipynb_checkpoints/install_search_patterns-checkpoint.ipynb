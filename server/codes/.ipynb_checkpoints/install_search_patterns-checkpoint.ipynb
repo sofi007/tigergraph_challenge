{
 "cells": [
  {
   "cell_type": "code",
   "execution_count": 1,
   "metadata": {},
   "outputs": [],
   "source": [
    "import pandas as pd\n",
    "import requests\n",
    "import json\n",
    "import pyTigerGraph as tg\n",
    "import os.path"
   ]
  },
  {
   "cell_type": "code",
   "execution_count": 2,
   "metadata": {},
   "outputs": [],
   "source": [
    "conn = tg.TigerGraphConnection(host=\"http://127.0.0.1\",graphname=\"graph_drug_disease\", username=\"tigergraph\", password=\"tigergraph\", apiToken=\"2aa016d747ede9gg6da3drslm98srfoj\")"
   ]
  },
  {
   "cell_type": "code",
   "execution_count": null,
   "metadata": {},
   "outputs": [],
   "source": [
    "#ınstall queries "
   ]
  },
  {
   "cell_type": "code",
   "execution_count": 4,
   "metadata": {},
   "outputs": [
    {
     "data": {
      "text/plain": [
       "\"Successfully dropped queries on the graph 'graph_drug_disease': [get_DISEASES_for_GENE, getNB_DRUGS, get_DRUGS_for_GENE, getNB_DRUGS_PESCRIBERS, getNB_DISEASES, getNB_DRUGS_GENES, getNB_DRUGS_TestedDISEASES, getNB_GENES_DISEASES, getPRESCRIBER_for_drug, get_tested_DISEASES_for_drug, getDRUGS_for_PRESCRIBER, getDRUGS_for_disease, getNB_DRUGS_DISEASES, get_tested_DRUGS_for_disease, get_GENES_for_disease, getNB_GENES, getNB_PRESCRIBER, getDISEASES_of_drug].\\nAll queries on the graph 'graph_drug_disease' are dropped.\""
      ]
     },
     "execution_count": 4,
     "metadata": {},
     "output_type": "execute_result"
    }
   ],
   "source": [
    "conn.gsql(\"drop query *\")"
   ]
  },
  {
   "cell_type": "code",
   "execution_count": 5,
   "metadata": {},
   "outputs": [
    {
     "data": {
      "text/plain": [
       "'Start installing queries, about 1 minute ...\\ngetGENES_for_drug query: curl -X GET \\'http://127.0.0.1:9000/query/graph_drug_disease/getGENES_for_drug?drug=VALUE\\'. Add -H \"Authorization: Bearer TOKEN\" if authentication is enabled.\\nSelect \\'m1\\' as compile server, now connecting ...\\nNode \\'m1\\' is prepared as compile server.\\n\\nQuery installation finished.'"
      ]
     },
     "execution_count": 5,
     "metadata": {},
     "output_type": "execute_result"
    }
   ],
   "source": [
    "with open('queries/getGENES_for_drug.gsql', 'r') as file:\n",
    "    gsql_file = file.read().rstrip()\n",
    "conn.gsql(gsql_file)\n",
    "conn.gsql('INSTALL QUERY getGENES_for_drug')"
   ]
  },
  {
   "cell_type": "code",
   "execution_count": 6,
   "metadata": {},
   "outputs": [
    {
     "data": {
      "text/plain": [
       "'Start installing queries, about 1 minute ...\\ngetDISEASES_of_drug query: curl -X GET \\'http://127.0.0.1:9000/query/graph_drug_disease/getDISEASES_of_drug?drug=VALUE\\'. Add -H \"Authorization: Bearer TOKEN\" if authentication is enabled.\\nSelect \\'m1\\' as compile server, now connecting ...\\nNode \\'m1\\' is prepared as compile server.\\n\\nQuery installation finished.'"
      ]
     },
     "execution_count": 6,
     "metadata": {},
     "output_type": "execute_result"
    }
   ],
   "source": [
    "with open('queries/getDISEASES_of_drug.gsql', 'r') as file:\n",
    "    gsql_file = file.read().rstrip()\n",
    "conn.gsql(gsql_file)\n",
    "conn.gsql('INSTALL QUERY getDISEASES_of_drug')"
   ]
  },
  {
   "cell_type": "code",
   "execution_count": 7,
   "metadata": {},
   "outputs": [
    {
     "data": {
      "text/plain": [
       "'Start installing queries, about 1 minute ...\\ngetPRESCRIBER_for_drug query: curl -X GET \\'http://127.0.0.1:9000/query/graph_drug_disease/getPRESCRIBER_for_drug?drug=VALUE\\'. Add -H \"Authorization: Bearer TOKEN\" if authentication is enabled.\\nSelect \\'m1\\' as compile server, now connecting ...\\nNode \\'m1\\' is prepared as compile server.\\n\\nQuery installation finished.'"
      ]
     },
     "execution_count": 7,
     "metadata": {},
     "output_type": "execute_result"
    }
   ],
   "source": [
    "with open('queries/getPRESCRIBER_for_drug.gsql', 'r') as file:\n",
    "    gsql_file = file.read().rstrip()\n",
    "conn.gsql(gsql_file)\n",
    "conn.gsql('INSTALL QUERY getPRESCRIBER_for_drug')"
   ]
  },
  {
   "cell_type": "code",
   "execution_count": 8,
   "metadata": {},
   "outputs": [
    {
     "data": {
      "text/plain": [
       "'Start installing queries, about 1 minute ...\\nget_tested_DISEASES_for_drug query: curl -X GET \\'http://127.0.0.1:9000/query/graph_drug_disease/get_tested_DISEASES_for_drug?drug=VALUE\\'. Add -H \"Authorization: Bearer TOKEN\" if authentication is enabled.\\nSelect \\'m1\\' as compile server, now connecting ...\\nNode \\'m1\\' is prepared as compile server.\\n\\nQuery installation finished.'"
      ]
     },
     "execution_count": 8,
     "metadata": {},
     "output_type": "execute_result"
    }
   ],
   "source": [
    "with open('queries/get_tested_DISEASES_for_drug.gsql', 'r') as file:\n",
    "    gsql_file = file.read().rstrip()\n",
    "conn.gsql(gsql_file)\n",
    "\n",
    "conn.gsql('INSTALL QUERY get_tested_DISEASES_for_drug')"
   ]
  },
  {
   "cell_type": "code",
   "execution_count": 9,
   "metadata": {},
   "outputs": [
    {
     "data": {
      "text/plain": [
       "'Start installing queries, about 1 minute ...\\ngetDRUGS_for_PRESCRIBER query: curl -X GET \\'http://127.0.0.1:9000/query/graph_drug_disease/getDRUGS_for_PRESCRIBER?prescriber=VALUE\\'. Add -H \"Authorization: Bearer TOKEN\" if authentication is enabled.\\nSelect \\'m1\\' as compile server, now connecting ...\\nNode \\'m1\\' is prepared as compile server.\\n\\nQuery installation finished.'"
      ]
     },
     "execution_count": 9,
     "metadata": {},
     "output_type": "execute_result"
    }
   ],
   "source": [
    "with open('queries/getDRUGS_for_PRESCRIBER.gsql', 'r') as file:\n",
    "    gsql_file = file.read().rstrip()\n",
    "conn.gsql(gsql_file)\n",
    "conn.gsql('INSTALL QUERY getDRUGS_for_PRESCRIBER')"
   ]
  },
  {
   "cell_type": "code",
   "execution_count": 10,
   "metadata": {},
   "outputs": [
    {
     "data": {
      "text/plain": [
       "'Start installing queries, about 1 minute ...\\ngetDRUGS_for_disease query: curl -X GET \\'http://127.0.0.1:9000/query/graph_drug_disease/getDRUGS_for_disease?disease=VALUE\\'. Add -H \"Authorization: Bearer TOKEN\" if authentication is enabled.\\nSelect \\'m1\\' as compile server, now connecting ...\\nNode \\'m1\\' is prepared as compile server.\\n\\nQuery installation finished.'"
      ]
     },
     "execution_count": 10,
     "metadata": {},
     "output_type": "execute_result"
    }
   ],
   "source": [
    "with open('queries/getDRUGS_for_disease.gsql', 'r') as file:\n",
    "    gsql_file = file.read().rstrip()\n",
    "conn.gsql(gsql_file)\n",
    "conn.gsql('INSTALL QUERY getDRUGS_for_disease')"
   ]
  },
  {
   "cell_type": "code",
   "execution_count": null,
   "metadata": {},
   "outputs": [],
   "source": []
  },
  {
   "cell_type": "code",
   "execution_count": 11,
   "metadata": {},
   "outputs": [
    {
     "data": {
      "text/plain": [
       "'Start installing queries, about 1 minute ...\\nget_tested_DRUGS_for_disease query: curl -X GET \\'http://127.0.0.1:9000/query/graph_drug_disease/get_tested_DRUGS_for_disease?disease=VALUE\\'. Add -H \"Authorization: Bearer TOKEN\" if authentication is enabled.\\nSelect \\'m1\\' as compile server, now connecting ...\\nNode \\'m1\\' is prepared as compile server.\\n\\nQuery installation finished.'"
      ]
     },
     "execution_count": 11,
     "metadata": {},
     "output_type": "execute_result"
    }
   ],
   "source": [
    "with open('queries/get_tested_DRUGS_for_disease.gsql', 'r') as file:\n",
    "    gsql_file = file.read().rstrip()\n",
    "conn.gsql(gsql_file)\n",
    "conn.gsql('INSTALL QUERY get_tested_DRUGS_for_disease')"
   ]
  },
  {
   "cell_type": "code",
   "execution_count": 12,
   "metadata": {},
   "outputs": [
    {
     "data": {
      "text/plain": [
       "'Start installing queries, about 1 minute ...\\nget_GENES_for_disease query: curl -X GET \\'http://127.0.0.1:9000/query/graph_drug_disease/get_GENES_for_disease?disease=VALUE\\'. Add -H \"Authorization: Bearer TOKEN\" if authentication is enabled.\\nSelect \\'m1\\' as compile server, now connecting ...\\nNode \\'m1\\' is prepared as compile server.\\n\\nQuery installation finished.'"
      ]
     },
     "execution_count": 12,
     "metadata": {},
     "output_type": "execute_result"
    }
   ],
   "source": [
    "with open('queries/get_GENES_for_disease.gsql', 'r') as file:\n",
    "    gsql_file = file.read().rstrip()\n",
    "conn.gsql(gsql_file)\n",
    "conn.gsql('INSTALL QUERY get_GENES_for_disease')"
   ]
  },
  {
   "cell_type": "code",
   "execution_count": null,
   "metadata": {},
   "outputs": [],
   "source": []
  },
  {
   "cell_type": "code",
   "execution_count": null,
   "metadata": {},
   "outputs": [
    {
     "data": {
      "text/plain": [
       "'Start installing queries, about 1 minute ...\\nget_DISEASES_for_GENE query: curl -X GET \\'http://127.0.0.1:9000/query/graph_drug_disease/get_DISEASES_for_GENE?gene=VALUE\\'. Add -H \"Authorization: Bearer TOKEN\" if authentication is enabled.\\nSelect \\'m1\\' as compile server, now connecting ...\\nNode \\'m1\\' is prepared as compile server.\\n\\nQuery installation finished.'"
      ]
     },
     "execution_count": 13,
     "metadata": {},
     "output_type": "execute_result"
    }
   ],
   "source": [
    "with open('queries/get_DISEASES_for_GENE.gsql', 'r') as file:\n",
    "    gsql_file = file.read().rstrip()\n",
    "conn.gsql(gsql_file)\n",
    "conn.gsql('INSTALL QUERY get_DISEASES_for_GENE')"
   ]
  },
  {
   "cell_type": "code",
   "execution_count": null,
   "metadata": {},
   "outputs": [],
   "source": [
    "with open('queries/get_DRUGS_for_GENE.gsql', 'r') as file:\n",
    "    gsql_file = file.read().rstrip()\n",
    "conn.gsql(gsql_file)\n",
    "conn.gsql('INSTALL QUERY get_DRUGS_for_GENE')"
   ]
  },
  {
   "cell_type": "code",
   "execution_count": null,
   "metadata": {},
   "outputs": [],
   "source": []
  },
  {
   "cell_type": "code",
   "execution_count": null,
   "metadata": {},
   "outputs": [],
   "source": [
    "#testing queries "
   ]
  },
  {
   "cell_type": "code",
   "execution_count": null,
   "metadata": {},
   "outputs": [],
   "source": [
    "drug = \"\\\"TRAZODONE\\\"\"\n",
    "query = \" RUN QUERY getGENES_for_drug (\"+drug+\")\"\n",
    "#print(query)\n",
    "conn.gsql(query)"
   ]
  },
  {
   "cell_type": "code",
   "execution_count": null,
   "metadata": {},
   "outputs": [],
   "source": [
    "drug = \"\\\"TRAZODONE\\\"\"\n",
    "query = \" RUN QUERY getDISEASES_of_drug (\"+drug+\")\"\n",
    "conn.gsql(query)\n",
    "#print(query)\n",
    "#json_results = conn.gsql(query)\n",
    "#json_results"
   ]
  },
  {
   "cell_type": "code",
   "execution_count": null,
   "metadata": {},
   "outputs": [],
   "source": []
  },
  {
   "cell_type": "code",
   "execution_count": null,
   "metadata": {},
   "outputs": [],
   "source": [
    "drug = \"\\\"TRAZODONE\\\"\"\n",
    "query = \" RUN QUERY getPRESCRIBER_for_drug (\"+drug+\")\"\n",
    "\n",
    "conn.gsql(query)"
   ]
  },
  {
   "cell_type": "code",
   "execution_count": null,
   "metadata": {},
   "outputs": [],
   "source": [
    "drug = \"\\\"TRAZODONE\\\"\"\n",
    "query = \" RUN QUERY get_tested_DISEASES_for_drug (\"+drug+\")\"\n",
    "\n",
    "conn.gsql(query)"
   ]
  },
  {
   "cell_type": "code",
   "execution_count": null,
   "metadata": {},
   "outputs": [],
   "source": []
  },
  {
   "cell_type": "code",
   "execution_count": null,
   "metadata": {},
   "outputs": [],
   "source": []
  },
  {
   "cell_type": "code",
   "execution_count": null,
   "metadata": {},
   "outputs": [],
   "source": [
    "priscriber = \"1003053950\"\n",
    "query = \" RUN QUERY getDRUGS_for_PRESCRIBER (\"+priscriber+\")\"\n",
    "conn.gsql(query)"
   ]
  },
  {
   "cell_type": "code",
   "execution_count": null,
   "metadata": {},
   "outputs": [],
   "source": [
    "gene = \"\\\"XXXX\\\"\"\n",
    "query = \" RUN QUERY get_DRUGS_for_GENE (\"+gene+\")\"\n",
    "conn.gsql(query)\n",
    "query = \" RUN QUERY get_DISEASES_for_GENE (\"+gene+\")\"\n",
    "conn.gsql(query)"
   ]
  },
  {
   "cell_type": "code",
   "execution_count": null,
   "metadata": {},
   "outputs": [],
   "source": [
    "disease = \"\\\"XXXX\\\"\"\n",
    "query = \" RUN QUERY getDRUGS_for_disease (\"+gene+\")\"\n",
    "conn.gsql(query)\n",
    "query = \" RUN QUERY get_tested_DRUGS_for_disease (\"+gene+\")\"\n",
    "conn.gsql(query)\n",
    "query = \" RUN QUERY get_GENES_for_disease (\"+gene+\")\"\n",
    "conn.gsql(query)\n"
   ]
  },
  {
   "cell_type": "code",
   "execution_count": null,
   "metadata": {},
   "outputs": [],
   "source": []
  },
  {
   "cell_type": "code",
   "execution_count": null,
   "metadata": {},
   "outputs": [],
   "source": []
  },
  {
   "cell_type": "code",
   "execution_count": null,
   "metadata": {},
   "outputs": [],
   "source": []
  },
  {
   "cell_type": "code",
   "execution_count": null,
   "metadata": {},
   "outputs": [],
   "source": []
  },
  {
   "cell_type": "code",
   "execution_count": null,
   "metadata": {},
   "outputs": [],
   "source": []
  },
  {
   "cell_type": "code",
   "execution_count": 93,
   "metadata": {},
   "outputs": [
    {
     "data": {
      "text/plain": [
       "'Start installing queries, about 1 minute ...\\ngetNB_PRESCRIBER query: curl -X GET \\'http://127.0.0.1:9000/query/graph_drug_disease/getNB_PRESCRIBER\\'. Add -H \"Authorization: Bearer TOKEN\" if authentication is enabled.\\nSelect \\'m1\\' as compile server, now connecting ...\\nNode \\'m1\\' is prepared as compile server.\\n\\nQuery installation finished.'"
      ]
     },
     "execution_count": 93,
     "metadata": {},
     "output_type": "execute_result"
    }
   ],
   "source": [
    "with open('queries/count_relations/getNB_Prescriber.gsql', 'r') as file:\n",
    "    gsql_file = file.read().rstrip()\n",
    "conn.gsql(gsql_file)\n",
    "conn.gsql('INSTALL QUERY getNB_PRESCRIBER')\n"
   ]
  },
  {
   "cell_type": "code",
   "execution_count": 59,
   "metadata": {},
   "outputs": [
    {
     "data": {
      "text/plain": [
       "'Semantic Check Fails: The query name getNB_DRUGS_DISEASES is used by another object! Please use a different name.\\nFailed to create queries: [getNB_DRUGS_DISEASES].'"
      ]
     },
     "execution_count": 59,
     "metadata": {},
     "output_type": "execute_result"
    }
   ],
   "source": [
    "with open('queries/count_relations/getNB_DRUGS_DISEASES.gsql', 'r') as file:\n",
    "    gsql_file = file.read().rstrip()\n",
    "conn.gsql(gsql_file)\n",
    "conn.gsql('INSTALL QUERY getNB_DRUGS_DISEASES')\n"
   ]
  },
  {
   "cell_type": "code",
   "execution_count": 61,
   "metadata": {},
   "outputs": [
    {
     "data": {
      "text/plain": [
       "'Semantic Check Fails: The query name getNB_DRUGS is used by another object! Please use a different name.\\nFailed to create queries: [getNB_DRUGS].'"
      ]
     },
     "execution_count": 61,
     "metadata": {},
     "output_type": "execute_result"
    }
   ],
   "source": [
    "with open('queries/count_relations/getNB_DRUGS.gsql', 'r') as file:\n",
    "    gsql_file = file.read().rstrip()\n",
    "conn.gsql(gsql_file)\n",
    "conn.gsql('INSTALL QUERY getNB_DRUGS')"
   ]
  },
  {
   "cell_type": "code",
   "execution_count": 68,
   "metadata": {},
   "outputs": [
    {
     "data": {
      "text/plain": [
       "'Semantic Check Fails: Graph graph_drug_disease: all queries in this catalog have been installed already.\\nQuery installation finished.'"
      ]
     },
     "execution_count": 68,
     "metadata": {},
     "output_type": "execute_result"
    }
   ],
   "source": [
    "with open('queries/count_relations/getNB_DISEASES.gsql', 'r') as file:\n",
    "    gsql_file = file.read().rstrip()\n",
    "conn.gsql(gsql_file)\n",
    "conn.gsql('INSTALL QUERY getNB_DISEASES')"
   ]
  },
  {
   "cell_type": "code",
   "execution_count": null,
   "metadata": {},
   "outputs": [],
   "source": []
  },
  {
   "cell_type": "code",
   "execution_count": null,
   "metadata": {},
   "outputs": [],
   "source": []
  },
  {
   "cell_type": "code",
   "execution_count": null,
   "metadata": {},
   "outputs": [],
   "source": []
  },
  {
   "cell_type": "code",
   "execution_count": null,
   "metadata": {},
   "outputs": [],
   "source": []
  },
  {
   "cell_type": "code",
   "execution_count": null,
   "metadata": {},
   "outputs": [],
   "source": []
  },
  {
   "cell_type": "code",
   "execution_count": null,
   "metadata": {},
   "outputs": [],
   "source": []
  },
  {
   "cell_type": "code",
   "execution_count": 65,
   "metadata": {},
   "outputs": [
    {
     "data": {
      "text/plain": [
       "'Semantic Check Fails: The query name getNB_DRUGS_PESCRIBERS is used by another object! Please use a different name.\\nFailed to create queries: [getNB_DRUGS_PESCRIBERS].'"
      ]
     },
     "execution_count": 65,
     "metadata": {},
     "output_type": "execute_result"
    }
   ],
   "source": [
    "with open('queries/count_relations/getNB_DRUGS_PRESCRIBERS.gsql', 'r') as file:\n",
    "    gsql_file = file.read().rstrip()\n",
    "conn.gsql(gsql_file)\n",
    "conn.gsql('INSTALL QUERY getNB_DRUGS_PESCRIBERS')"
   ]
  },
  {
   "cell_type": "code",
   "execution_count": null,
   "metadata": {},
   "outputs": [],
   "source": []
  },
  {
   "cell_type": "code",
   "execution_count": 69,
   "metadata": {},
   "outputs": [
    {
     "data": {
      "text/plain": [
       "'Semantic Check Fails: Graph graph_drug_disease: all queries in this catalog have been installed already.\\nQuery installation finished.'"
      ]
     },
     "execution_count": 69,
     "metadata": {},
     "output_type": "execute_result"
    }
   ],
   "source": [
    "with open('queries/count_relations/getNB_DRUGS_GENES.gsql', 'r') as file:\n",
    "    gsql_file = file.read().rstrip()\n",
    "conn.gsql(gsql_file)\n",
    "conn.gsql('INSTALL QUERY getNB_DRUGS_GENES')"
   ]
  },
  {
   "cell_type": "code",
   "execution_count": null,
   "metadata": {},
   "outputs": [],
   "source": []
  },
  {
   "cell_type": "code",
   "execution_count": 71,
   "metadata": {},
   "outputs": [
    {
     "data": {
      "text/plain": [
       "'Semantic Check Fails: Graph graph_drug_disease: all queries in this catalog have been installed already.\\nQuery installation finished.'"
      ]
     },
     "execution_count": 71,
     "metadata": {},
     "output_type": "execute_result"
    }
   ],
   "source": [
    "with open('queries/count_relations/getNB_DRUGS_TestedDISEASES.gsql', 'r') as file:\n",
    "    gsql_file = file.read().rstrip()\n",
    "conn.gsql(gsql_file)\n",
    "conn.gsql('INSTALL QUERY getNB_DRUGS_TestedDISEASES')"
   ]
  },
  {
   "cell_type": "code",
   "execution_count": null,
   "metadata": {},
   "outputs": [],
   "source": []
  },
  {
   "cell_type": "code",
   "execution_count": 72,
   "metadata": {},
   "outputs": [
    {
     "data": {
      "text/plain": [
       "'Semantic Check Fails: Graph graph_drug_disease: all queries in this catalog have been installed already.\\nQuery installation finished.'"
      ]
     },
     "execution_count": 72,
     "metadata": {},
     "output_type": "execute_result"
    }
   ],
   "source": [
    "with open('queries/count_relations/getNB_GENES_DISEASES.gsql', 'r') as file:\n",
    "    gsql_file = file.read().rstrip()\n",
    "conn.gsql(gsql_file)\n",
    "conn.gsql('INSTALL QUERY getNB_GENES_DISEASES')"
   ]
  },
  {
   "cell_type": "code",
   "execution_count": 88,
   "metadata": {},
   "outputs": [
    {
     "data": {
      "text/plain": [
       "'Start installing queries, about 1 minute ...\\ngetNB_GENES query: curl -X GET \\'http://127.0.0.1:9000/query/graph_drug_disease/getNB_GENES\\'. Add -H \"Authorization: Bearer TOKEN\" if authentication is enabled.\\nSelect \\'m1\\' as compile server, now connecting ...\\nNode \\'m1\\' is prepared as compile server.\\n\\nQuery installation finished.'"
      ]
     },
     "execution_count": 88,
     "metadata": {},
     "output_type": "execute_result"
    }
   ],
   "source": [
    "with open('queries/count_relations/getNB_GENES.gsql', 'r') as file:\n",
    "    gsql_file = file.read().rstrip()\n",
    "conn.gsql(gsql_file)\n",
    "conn.gsql('INSTALL QUERY getNB_GENES')"
   ]
  },
  {
   "cell_type": "code",
   "execution_count": 80,
   "metadata": {},
   "outputs": [],
   "source": [
    "def results_from_json(json_size):\n",
    "    print(\"size\", json_size)\n",
    "    size_object = json.loads(json_size)\n",
    "    results = size_object['results'][0]\n",
    "    if(\"size\" in results):\n",
    "        size = results['size']\n",
    "    if(\"nb_relations\" in results):\n",
    "        size = results['nb_relations']\n",
    "    \n",
    "    return size"
   ]
  },
  {
   "cell_type": "code",
   "execution_count": 94,
   "metadata": {},
   "outputs": [
    {
     "name": "stdout",
     "output_type": "stream",
     "text": [
      "size {\n",
      "\"error\": false,\n",
      "\"message\": \"\",\n",
      "\"version\": {\n",
      "\"schema\": 0,\n",
      "\"edition\": \"enterprise\",\n",
      "\"api\": \"v2\"\n",
      "},\n",
      "\"results\": [{\"size\": 11325}]\n",
      "}\n",
      "size {\n",
      "\"error\": false,\n",
      "\"message\": \"\",\n",
      "\"version\": {\n",
      "\"schema\": 0,\n",
      "\"edition\": \"enterprise\",\n",
      "\"api\": \"v2\"\n",
      "},\n",
      "\"results\": [{\"nb_relations\": 2952977}]\n",
      "}\n",
      "size {\n",
      "\"error\": false,\n",
      "\"message\": \"\",\n",
      "\"version\": {\n",
      "\"schema\": 0,\n",
      "\"edition\": \"enterprise\",\n",
      "\"api\": \"v2\"\n",
      "},\n",
      "\"results\": [{\"nb_relations\": 41364014}]\n",
      "}\n",
      "size {\n",
      "\"error\": false,\n",
      "\"message\": \"\",\n",
      "\"version\": {\n",
      "\"schema\": 0,\n",
      "\"edition\": \"enterprise\",\n",
      "\"api\": \"v2\"\n",
      "},\n",
      "\"results\": [{\"nb_relations\": 1360481}]\n",
      "}\n",
      "size {\n",
      "\"error\": false,\n",
      "\"message\": \"\",\n",
      "\"version\": {\n",
      "\"schema\": 0,\n",
      "\"edition\": \"enterprise\",\n",
      "\"api\": \"v2\"\n",
      "},\n",
      "\"results\": [{\"nb_relations\": 365932}]\n",
      "}\n",
      "size {\n",
      "\"error\": false,\n",
      "\"message\": \"\",\n",
      "\"version\": {\n",
      "\"schema\": 0,\n",
      "\"edition\": \"enterprise\",\n",
      "\"api\": \"v2\"\n",
      "},\n",
      "\"results\": [{\"size\": 67933}]\n",
      "}\n",
      "size {\n",
      "\"error\": false,\n",
      "\"message\": \"\",\n",
      "\"version\": {\n",
      "\"schema\": 0,\n",
      "\"edition\": \"enterprise\",\n",
      "\"api\": \"v2\"\n",
      "},\n",
      "\"results\": [{\"nb_relations\": 30025917}]\n",
      "}\n",
      "size {\n",
      "\"error\": false,\n",
      "\"message\": \"\",\n",
      "\"version\": {\n",
      "\"schema\": 0,\n",
      "\"edition\": \"enterprise\",\n",
      "\"api\": \"v2\"\n",
      "},\n",
      "\"results\": [{\"size\": 537931}]\n",
      "}\n",
      "size {\n",
      "\"error\": false,\n",
      "\"message\": \"\",\n",
      "\"version\": {\n",
      "\"schema\": 0,\n",
      "\"edition\": \"enterprise\",\n",
      "\"api\": \"v2\"\n",
      "},\n",
      "\"results\": [{\"size\": 1577043}]\n",
      "}\n"
     ]
    }
   ],
   "source": [
    "f = open(\"../results/metrics.txt\", \"w\")\n",
    "\n",
    "\n",
    "\n",
    "json_size = conn.gsql(\"RUN QUERY getNB_DISEASES()\")\n",
    "getDISEASES_size = results_from_json(json_size)\n",
    "f.write(\"getDISEASES_size \"+str(getDISEASES_size)+\"\\n\")\n",
    "    \n",
    "json_size = conn.gsql(\"RUN QUERY getNB_DRUGS_DISEASES()\")\n",
    "getDRUGS_DISEASES_size = results_from_json(json_size)\n",
    "f.write(\"getDRUGS_DISEASES_size \"+str(getDRUGS_DISEASES_size)+\"\\n\")\n",
    "\n",
    "json_size = conn.gsql(\"RUN QUERY getNB_DRUGS_PESCRIBERS()\")\n",
    "getDRUGS_PESCRIBERS_size = results_from_json(json_size)\n",
    "f.write(\"getDRUGS_PESCRIBERS_size \"+str(getDRUGS_PESCRIBERS_size)+\"\\n\")\n",
    "\n",
    "json_size = conn.gsql(\"RUN QUERY getNB_DRUGS_GENES()\")\n",
    "getDRUGS_GENES_size = results_from_json(json_size)\n",
    "f.write(\"getDRUGS_GENES_size \"+str(getDRUGS_GENES_size)+\"\\n\")\n",
    "\n",
    "json_size = conn.gsql(\"RUN QUERY getNB_DRUGS_TestedDISEASES()\")\n",
    "getDRUGS_TestedDISEASES_size = results_from_json(json_size)\n",
    "f.write(\"getDRUGS_TestedDISEASES_size \"+str(getDRUGS_TestedDISEASES_size)+\"\\n\")\n",
    "\n",
    "json_size = conn.gsql(\"RUN QUERY getNB_DRUGS()\")\n",
    "getDRUGS_size = results_from_json(json_size)\n",
    "f.write(\"getDRUGS_size \"+str(getDRUGS_size)+\"\\n\")\n",
    "\n",
    "json_size = conn.gsql(\"RUN QUERY getNB_GENES_DISEASES()\")\n",
    "getGENES_DISEASES_size = results_from_json(json_size)\n",
    "f.write(\"getGENES_DISEASES_size \"+str(getGENES_DISEASES_size)+\"\\n\")\n",
    "\n",
    "json_size = conn.gsql(\"RUN QUERY getNB_GENES()\")\n",
    "getGENES_size = results_from_json(json_size)\n",
    "f.write(\"getGENES_size \"+str(getGENES_size)+\"\\n\")\n",
    "\n",
    "\n",
    "json_size = conn.gsql(\"RUN QUERY getNB_PRESCRIBER()\")\n",
    "getPRESCRIBER_size = results_from_json(json_size)\n",
    "f.write(\"getPRESCRIBER_size \"+str(getPRESCRIBER_size)+\"\\n\")\n",
    "\n",
    "f.close()"
   ]
  },
  {
   "cell_type": "code",
   "execution_count": null,
   "metadata": {},
   "outputs": [],
   "source": []
  },
  {
   "cell_type": "code",
   "execution_count": null,
   "metadata": {},
   "outputs": [],
   "source": []
  }
 ],
 "metadata": {
  "kernelspec": {
   "display_name": "Python 3",
   "language": "python",
   "name": "python3"
  },
  "language_info": {
   "codemirror_mode": {
    "name": "ipython",
    "version": 3
   },
   "file_extension": ".py",
   "mimetype": "text/x-python",
   "name": "python",
   "nbconvert_exporter": "python",
   "pygments_lexer": "ipython3",
   "version": "3.6.9"
  }
 },
 "nbformat": 4,
 "nbformat_minor": 5
}
