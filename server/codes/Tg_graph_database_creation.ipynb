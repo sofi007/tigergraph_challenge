{
 "cells": [
  {
   "cell_type": "code",
   "execution_count": 1,
   "id": "0d3a1a7b",
   "metadata": {},
   "outputs": [],
   "source": [
    "import pyTigerGraph as tg"
   ]
  },
  {
   "cell_type": "code",
   "execution_count": null,
   "id": "0b655173",
   "metadata": {},
   "outputs": [],
   "source": [
    "# You have to choose your tigergraph version (On-premise or cloud)"
   ]
  },
  {
   "cell_type": "code",
   "execution_count": 38,
   "id": "d55e3a89",
   "metadata": {},
   "outputs": [],
   "source": [
    "# On-premise\n",
    "conn = tg.TigerGraphConnection(host=\"http://127.0.0.1\",graphname=\"graph_drug_disease\", username=\"tigergraph\", password=\"tigergraph\", apiToken=\"2aa016d747ede9gg6da3drslm98srfoj\")"
   ]
  },
  {
   "cell_type": "code",
   "execution_count": 2,
   "id": "c01931df",
   "metadata": {},
   "outputs": [
    {
     "ename": "ConnectionError",
     "evalue": "HTTPSConnectionPool(host='ddmp.i.tgcloud.io', port=9000): Max retries exceeded with url: /requesttoken (Caused by NewConnectionError('<urllib3.connection.HTTPSConnection object at 0x7f6f0d6197b8>: Failed to establish a new connection: [Errno 110] Connection timed out',))",
     "output_type": "error",
     "traceback": [
      "\u001b[0;31m---------------------------------------------------------------------------\u001b[0m",
      "\u001b[0;31mTimeoutError\u001b[0m                              Traceback (most recent call last)",
      "\u001b[0;32m~/.virtualenvs/tigergraph_drug/lib/python3.6/site-packages/urllib3/connection.py\u001b[0m in \u001b[0;36m_new_conn\u001b[0;34m(self)\u001b[0m\n\u001b[1;32m    174\u001b[0m             conn = connection.create_connection(\n\u001b[0;32m--> 175\u001b[0;31m                 \u001b[0;34m(\u001b[0m\u001b[0mself\u001b[0m\u001b[0;34m.\u001b[0m\u001b[0m_dns_host\u001b[0m\u001b[0;34m,\u001b[0m \u001b[0mself\u001b[0m\u001b[0;34m.\u001b[0m\u001b[0mport\u001b[0m\u001b[0;34m)\u001b[0m\u001b[0;34m,\u001b[0m \u001b[0mself\u001b[0m\u001b[0;34m.\u001b[0m\u001b[0mtimeout\u001b[0m\u001b[0;34m,\u001b[0m \u001b[0;34m**\u001b[0m\u001b[0mextra_kw\u001b[0m\u001b[0;34m\u001b[0m\u001b[0;34m\u001b[0m\u001b[0m\n\u001b[0m\u001b[1;32m    176\u001b[0m             )\n",
      "\u001b[0;32m~/.virtualenvs/tigergraph_drug/lib/python3.6/site-packages/urllib3/util/connection.py\u001b[0m in \u001b[0;36mcreate_connection\u001b[0;34m(address, timeout, source_address, socket_options)\u001b[0m\n\u001b[1;32m     94\u001b[0m     \u001b[0;32mif\u001b[0m \u001b[0merr\u001b[0m \u001b[0;32mis\u001b[0m \u001b[0;32mnot\u001b[0m \u001b[0;32mNone\u001b[0m\u001b[0;34m:\u001b[0m\u001b[0;34m\u001b[0m\u001b[0;34m\u001b[0m\u001b[0m\n\u001b[0;32m---> 95\u001b[0;31m         \u001b[0;32mraise\u001b[0m \u001b[0merr\u001b[0m\u001b[0;34m\u001b[0m\u001b[0;34m\u001b[0m\u001b[0m\n\u001b[0m\u001b[1;32m     96\u001b[0m \u001b[0;34m\u001b[0m\u001b[0m\n",
      "\u001b[0;32m~/.virtualenvs/tigergraph_drug/lib/python3.6/site-packages/urllib3/util/connection.py\u001b[0m in \u001b[0;36mcreate_connection\u001b[0;34m(address, timeout, source_address, socket_options)\u001b[0m\n\u001b[1;32m     84\u001b[0m                 \u001b[0msock\u001b[0m\u001b[0;34m.\u001b[0m\u001b[0mbind\u001b[0m\u001b[0;34m(\u001b[0m\u001b[0msource_address\u001b[0m\u001b[0;34m)\u001b[0m\u001b[0;34m\u001b[0m\u001b[0;34m\u001b[0m\u001b[0m\n\u001b[0;32m---> 85\u001b[0;31m             \u001b[0msock\u001b[0m\u001b[0;34m.\u001b[0m\u001b[0mconnect\u001b[0m\u001b[0;34m(\u001b[0m\u001b[0msa\u001b[0m\u001b[0;34m)\u001b[0m\u001b[0;34m\u001b[0m\u001b[0;34m\u001b[0m\u001b[0m\n\u001b[0m\u001b[1;32m     86\u001b[0m             \u001b[0;32mreturn\u001b[0m \u001b[0msock\u001b[0m\u001b[0;34m\u001b[0m\u001b[0;34m\u001b[0m\u001b[0m\n",
      "\u001b[0;31mTimeoutError\u001b[0m: [Errno 110] Connection timed out",
      "\nDuring handling of the above exception, another exception occurred:\n",
      "\u001b[0;31mNewConnectionError\u001b[0m                        Traceback (most recent call last)",
      "\u001b[0;32m~/.virtualenvs/tigergraph_drug/lib/python3.6/site-packages/urllib3/connectionpool.py\u001b[0m in \u001b[0;36murlopen\u001b[0;34m(self, method, url, body, headers, retries, redirect, assert_same_host, timeout, pool_timeout, release_conn, chunked, body_pos, **response_kw)\u001b[0m\n\u001b[1;32m    709\u001b[0m                 \u001b[0mheaders\u001b[0m\u001b[0;34m=\u001b[0m\u001b[0mheaders\u001b[0m\u001b[0;34m,\u001b[0m\u001b[0;34m\u001b[0m\u001b[0;34m\u001b[0m\u001b[0m\n\u001b[0;32m--> 710\u001b[0;31m                 \u001b[0mchunked\u001b[0m\u001b[0;34m=\u001b[0m\u001b[0mchunked\u001b[0m\u001b[0;34m,\u001b[0m\u001b[0;34m\u001b[0m\u001b[0;34m\u001b[0m\u001b[0m\n\u001b[0m\u001b[1;32m    711\u001b[0m             )\n",
      "\u001b[0;32m~/.virtualenvs/tigergraph_drug/lib/python3.6/site-packages/urllib3/connectionpool.py\u001b[0m in \u001b[0;36m_make_request\u001b[0;34m(self, conn, method, url, timeout, chunked, **httplib_request_kw)\u001b[0m\n\u001b[1;32m    385\u001b[0m         \u001b[0;32mtry\u001b[0m\u001b[0;34m:\u001b[0m\u001b[0;34m\u001b[0m\u001b[0;34m\u001b[0m\u001b[0m\n\u001b[0;32m--> 386\u001b[0;31m             \u001b[0mself\u001b[0m\u001b[0;34m.\u001b[0m\u001b[0m_validate_conn\u001b[0m\u001b[0;34m(\u001b[0m\u001b[0mconn\u001b[0m\u001b[0;34m)\u001b[0m\u001b[0;34m\u001b[0m\u001b[0;34m\u001b[0m\u001b[0m\n\u001b[0m\u001b[1;32m    387\u001b[0m         \u001b[0;32mexcept\u001b[0m \u001b[0;34m(\u001b[0m\u001b[0mSocketTimeout\u001b[0m\u001b[0;34m,\u001b[0m \u001b[0mBaseSSLError\u001b[0m\u001b[0;34m)\u001b[0m \u001b[0;32mas\u001b[0m \u001b[0me\u001b[0m\u001b[0;34m:\u001b[0m\u001b[0;34m\u001b[0m\u001b[0;34m\u001b[0m\u001b[0m\n",
      "\u001b[0;32m~/.virtualenvs/tigergraph_drug/lib/python3.6/site-packages/urllib3/connectionpool.py\u001b[0m in \u001b[0;36m_validate_conn\u001b[0;34m(self, conn)\u001b[0m\n\u001b[1;32m   1039\u001b[0m         \u001b[0;32mif\u001b[0m \u001b[0;32mnot\u001b[0m \u001b[0mgetattr\u001b[0m\u001b[0;34m(\u001b[0m\u001b[0mconn\u001b[0m\u001b[0;34m,\u001b[0m \u001b[0;34m\"sock\"\u001b[0m\u001b[0;34m,\u001b[0m \u001b[0;32mNone\u001b[0m\u001b[0;34m)\u001b[0m\u001b[0;34m:\u001b[0m  \u001b[0;31m# AppEngine might not have  `.sock`\u001b[0m\u001b[0;34m\u001b[0m\u001b[0;34m\u001b[0m\u001b[0m\n\u001b[0;32m-> 1040\u001b[0;31m             \u001b[0mconn\u001b[0m\u001b[0;34m.\u001b[0m\u001b[0mconnect\u001b[0m\u001b[0;34m(\u001b[0m\u001b[0;34m)\u001b[0m\u001b[0;34m\u001b[0m\u001b[0;34m\u001b[0m\u001b[0m\n\u001b[0m\u001b[1;32m   1041\u001b[0m \u001b[0;34m\u001b[0m\u001b[0m\n",
      "\u001b[0;32m~/.virtualenvs/tigergraph_drug/lib/python3.6/site-packages/urllib3/connection.py\u001b[0m in \u001b[0;36mconnect\u001b[0;34m(self)\u001b[0m\n\u001b[1;32m    357\u001b[0m         \u001b[0;31m# Add certificate verification\u001b[0m\u001b[0;34m\u001b[0m\u001b[0;34m\u001b[0m\u001b[0;34m\u001b[0m\u001b[0m\n\u001b[0;32m--> 358\u001b[0;31m         \u001b[0mconn\u001b[0m \u001b[0;34m=\u001b[0m \u001b[0mself\u001b[0m\u001b[0;34m.\u001b[0m\u001b[0m_new_conn\u001b[0m\u001b[0;34m(\u001b[0m\u001b[0;34m)\u001b[0m\u001b[0;34m\u001b[0m\u001b[0;34m\u001b[0m\u001b[0m\n\u001b[0m\u001b[1;32m    359\u001b[0m         \u001b[0mhostname\u001b[0m \u001b[0;34m=\u001b[0m \u001b[0mself\u001b[0m\u001b[0;34m.\u001b[0m\u001b[0mhost\u001b[0m\u001b[0;34m\u001b[0m\u001b[0;34m\u001b[0m\u001b[0m\n",
      "\u001b[0;32m~/.virtualenvs/tigergraph_drug/lib/python3.6/site-packages/urllib3/connection.py\u001b[0m in \u001b[0;36m_new_conn\u001b[0;34m(self)\u001b[0m\n\u001b[1;32m    186\u001b[0m             raise NewConnectionError(\n\u001b[0;32m--> 187\u001b[0;31m                 \u001b[0mself\u001b[0m\u001b[0;34m,\u001b[0m \u001b[0;34m\"Failed to establish a new connection: %s\"\u001b[0m \u001b[0;34m%\u001b[0m \u001b[0me\u001b[0m\u001b[0;34m\u001b[0m\u001b[0;34m\u001b[0m\u001b[0m\n\u001b[0m\u001b[1;32m    188\u001b[0m             )\n",
      "\u001b[0;31mNewConnectionError\u001b[0m: <urllib3.connection.HTTPSConnection object at 0x7f6f0d6197b8>: Failed to establish a new connection: [Errno 110] Connection timed out",
      "\nDuring handling of the above exception, another exception occurred:\n",
      "\u001b[0;31mMaxRetryError\u001b[0m                             Traceback (most recent call last)",
      "\u001b[0;32m~/.virtualenvs/tigergraph_drug/lib/python3.6/site-packages/requests/adapters.py\u001b[0m in \u001b[0;36msend\u001b[0;34m(self, request, stream, timeout, verify, cert, proxies)\u001b[0m\n\u001b[1;32m    449\u001b[0m                     \u001b[0mretries\u001b[0m\u001b[0;34m=\u001b[0m\u001b[0mself\u001b[0m\u001b[0;34m.\u001b[0m\u001b[0mmax_retries\u001b[0m\u001b[0;34m,\u001b[0m\u001b[0;34m\u001b[0m\u001b[0;34m\u001b[0m\u001b[0m\n\u001b[0;32m--> 450\u001b[0;31m                     \u001b[0mtimeout\u001b[0m\u001b[0;34m=\u001b[0m\u001b[0mtimeout\u001b[0m\u001b[0;34m\u001b[0m\u001b[0;34m\u001b[0m\u001b[0m\n\u001b[0m\u001b[1;32m    451\u001b[0m                 )\n",
      "\u001b[0;32m~/.virtualenvs/tigergraph_drug/lib/python3.6/site-packages/urllib3/connectionpool.py\u001b[0m in \u001b[0;36murlopen\u001b[0;34m(self, method, url, body, headers, retries, redirect, assert_same_host, timeout, pool_timeout, release_conn, chunked, body_pos, **response_kw)\u001b[0m\n\u001b[1;32m    785\u001b[0m             retries = retries.increment(\n\u001b[0;32m--> 786\u001b[0;31m                 \u001b[0mmethod\u001b[0m\u001b[0;34m,\u001b[0m \u001b[0murl\u001b[0m\u001b[0;34m,\u001b[0m \u001b[0merror\u001b[0m\u001b[0;34m=\u001b[0m\u001b[0me\u001b[0m\u001b[0;34m,\u001b[0m \u001b[0m_pool\u001b[0m\u001b[0;34m=\u001b[0m\u001b[0mself\u001b[0m\u001b[0;34m,\u001b[0m \u001b[0m_stacktrace\u001b[0m\u001b[0;34m=\u001b[0m\u001b[0msys\u001b[0m\u001b[0;34m.\u001b[0m\u001b[0mexc_info\u001b[0m\u001b[0;34m(\u001b[0m\u001b[0;34m)\u001b[0m\u001b[0;34m[\u001b[0m\u001b[0;36m2\u001b[0m\u001b[0;34m]\u001b[0m\u001b[0;34m\u001b[0m\u001b[0;34m\u001b[0m\u001b[0m\n\u001b[0m\u001b[1;32m    787\u001b[0m             )\n",
      "\u001b[0;32m~/.virtualenvs/tigergraph_drug/lib/python3.6/site-packages/urllib3/util/retry.py\u001b[0m in \u001b[0;36mincrement\u001b[0;34m(self, method, url, response, error, _pool, _stacktrace)\u001b[0m\n\u001b[1;32m    591\u001b[0m         \u001b[0;32mif\u001b[0m \u001b[0mnew_retry\u001b[0m\u001b[0;34m.\u001b[0m\u001b[0mis_exhausted\u001b[0m\u001b[0;34m(\u001b[0m\u001b[0;34m)\u001b[0m\u001b[0;34m:\u001b[0m\u001b[0;34m\u001b[0m\u001b[0;34m\u001b[0m\u001b[0m\n\u001b[0;32m--> 592\u001b[0;31m             \u001b[0;32mraise\u001b[0m \u001b[0mMaxRetryError\u001b[0m\u001b[0;34m(\u001b[0m\u001b[0m_pool\u001b[0m\u001b[0;34m,\u001b[0m \u001b[0murl\u001b[0m\u001b[0;34m,\u001b[0m \u001b[0merror\u001b[0m \u001b[0;32mor\u001b[0m \u001b[0mResponseError\u001b[0m\u001b[0;34m(\u001b[0m\u001b[0mcause\u001b[0m\u001b[0;34m)\u001b[0m\u001b[0;34m)\u001b[0m\u001b[0;34m\u001b[0m\u001b[0;34m\u001b[0m\u001b[0m\n\u001b[0m\u001b[1;32m    593\u001b[0m \u001b[0;34m\u001b[0m\u001b[0m\n",
      "\u001b[0;31mMaxRetryError\u001b[0m: HTTPSConnectionPool(host='ddmp.i.tgcloud.io', port=9000): Max retries exceeded with url: /requesttoken (Caused by NewConnectionError('<urllib3.connection.HTTPSConnection object at 0x7f6f0d6197b8>: Failed to establish a new connection: [Errno 110] Connection timed out',))",
      "\nDuring handling of the above exception, another exception occurred:\n",
      "\u001b[0;31mConnectionError\u001b[0m                           Traceback (most recent call last)",
      "\u001b[0;32m<ipython-input-2-3469b92f1e7f>\u001b[0m in \u001b[0;36m<module>\u001b[0;34m\u001b[0m\n\u001b[1;32m      1\u001b[0m \u001b[0;31m# Cloud\u001b[0m\u001b[0;34m\u001b[0m\u001b[0;34m\u001b[0m\u001b[0;34m\u001b[0m\u001b[0m\n\u001b[1;32m      2\u001b[0m \u001b[0mconn\u001b[0m \u001b[0;34m=\u001b[0m \u001b[0mtg\u001b[0m\u001b[0;34m.\u001b[0m\u001b[0mTigerGraphConnection\u001b[0m\u001b[0;34m(\u001b[0m\u001b[0mhost\u001b[0m\u001b[0;34m=\u001b[0m\u001b[0;34m\"https://ddmp.i.tgcloud.io\"\u001b[0m\u001b[0;34m)\u001b[0m\u001b[0;34m\u001b[0m\u001b[0;34m\u001b[0m\u001b[0m\n\u001b[0;32m----> 3\u001b[0;31m \u001b[0mauthToken\u001b[0m \u001b[0;34m=\u001b[0m \u001b[0mconn\u001b[0m\u001b[0;34m.\u001b[0m\u001b[0mgetToken\u001b[0m\u001b[0;34m(\u001b[0m\u001b[0;34m\"982l37jamamujrg5ing9cvh18mt0o9jn\"\u001b[0m\u001b[0;34m,\u001b[0m \u001b[0;34m\"100000000000000000\"\u001b[0m\u001b[0;34m)\u001b[0m\u001b[0;34m\u001b[0m\u001b[0;34m\u001b[0m\u001b[0m\n\u001b[0m\u001b[1;32m      4\u001b[0m \u001b[0mprint\u001b[0m\u001b[0;34m(\u001b[0m\u001b[0mauthToken\u001b[0m\u001b[0;34m)\u001b[0m\u001b[0;34m\u001b[0m\u001b[0;34m\u001b[0m\u001b[0m\n",
      "\u001b[0;32m~/.virtualenvs/tigergraph_drug/lib/python3.6/site-packages/pyTigerGraph/pyTigerGraph.py\u001b[0m in \u001b[0;36mgetToken\u001b[0;34m(self, secret, setToken, lifetime)\u001b[0m\n\u001b[1;32m   1400\u001b[0m                 \u001b[0mres\u001b[0m \u001b[0;34m=\u001b[0m \u001b[0mjson\u001b[0m\u001b[0;34m.\u001b[0m\u001b[0mloads\u001b[0m\u001b[0;34m(\u001b[0m\u001b[0mrequests\u001b[0m\u001b[0;34m.\u001b[0m\u001b[0mpost\u001b[0m\u001b[0;34m(\u001b[0m\u001b[0mself\u001b[0m\u001b[0;34m.\u001b[0m\u001b[0mrestppUrl\u001b[0m \u001b[0;34m+\u001b[0m \u001b[0;34m\"/requesttoken\"\u001b[0m\u001b[0;34m,\u001b[0m\u001b[0mdata\u001b[0m\u001b[0;34m=\u001b[0m\u001b[0mjson\u001b[0m\u001b[0;34m.\u001b[0m\u001b[0mdumps\u001b[0m\u001b[0;34m(\u001b[0m\u001b[0mdata\u001b[0m\u001b[0;34m)\u001b[0m\u001b[0;34m)\u001b[0m\u001b[0;34m.\u001b[0m\u001b[0mtext\u001b[0m\u001b[0;34m)\u001b[0m\u001b[0;34m\u001b[0m\u001b[0;34m\u001b[0m\u001b[0m\n\u001b[1;32m   1401\u001b[0m             \u001b[0;32melse\u001b[0m\u001b[0;34m:\u001b[0m\u001b[0;34m\u001b[0m\u001b[0;34m\u001b[0m\u001b[0m\n\u001b[0;32m-> 1402\u001b[0;31m                 \u001b[0mres\u001b[0m \u001b[0;34m=\u001b[0m \u001b[0mjson\u001b[0m\u001b[0;34m.\u001b[0m\u001b[0mloads\u001b[0m\u001b[0;34m(\u001b[0m\u001b[0mrequests\u001b[0m\u001b[0;34m.\u001b[0m\u001b[0mpost\u001b[0m\u001b[0;34m(\u001b[0m\u001b[0mself\u001b[0m\u001b[0;34m.\u001b[0m\u001b[0mrestppUrl\u001b[0m \u001b[0;34m+\u001b[0m \u001b[0;34m\"/requesttoken\"\u001b[0m\u001b[0;34m,\u001b[0m\u001b[0mdata\u001b[0m\u001b[0;34m=\u001b[0m\u001b[0mjson\u001b[0m\u001b[0;34m.\u001b[0m\u001b[0mdumps\u001b[0m\u001b[0;34m(\u001b[0m\u001b[0mdata\u001b[0m\u001b[0;34m)\u001b[0m\u001b[0;34m,\u001b[0m\u001b[0mverify\u001b[0m\u001b[0;34m=\u001b[0m\u001b[0;32mFalse\u001b[0m\u001b[0;34m)\u001b[0m\u001b[0;34m.\u001b[0m\u001b[0mtext\u001b[0m\u001b[0;34m)\u001b[0m\u001b[0;34m\u001b[0m\u001b[0;34m\u001b[0m\u001b[0m\n\u001b[0m\u001b[1;32m   1403\u001b[0m         \u001b[0;32mif\u001b[0m \u001b[0;32mnot\u001b[0m \u001b[0mres\u001b[0m\u001b[0;34m[\u001b[0m\u001b[0;34m\"error\"\u001b[0m\u001b[0;34m]\u001b[0m\u001b[0;34m:\u001b[0m\u001b[0;34m\u001b[0m\u001b[0;34m\u001b[0m\u001b[0m\n\u001b[1;32m   1404\u001b[0m             \u001b[0;32mif\u001b[0m \u001b[0msetToken\u001b[0m\u001b[0;34m:\u001b[0m\u001b[0;34m\u001b[0m\u001b[0;34m\u001b[0m\u001b[0m\n",
      "\u001b[0;32m~/.virtualenvs/tigergraph_drug/lib/python3.6/site-packages/requests/api.py\u001b[0m in \u001b[0;36mpost\u001b[0;34m(url, data, json, **kwargs)\u001b[0m\n\u001b[1;32m    115\u001b[0m     \"\"\"\n\u001b[1;32m    116\u001b[0m \u001b[0;34m\u001b[0m\u001b[0m\n\u001b[0;32m--> 117\u001b[0;31m     \u001b[0;32mreturn\u001b[0m \u001b[0mrequest\u001b[0m\u001b[0;34m(\u001b[0m\u001b[0;34m'post'\u001b[0m\u001b[0;34m,\u001b[0m \u001b[0murl\u001b[0m\u001b[0;34m,\u001b[0m \u001b[0mdata\u001b[0m\u001b[0;34m=\u001b[0m\u001b[0mdata\u001b[0m\u001b[0;34m,\u001b[0m \u001b[0mjson\u001b[0m\u001b[0;34m=\u001b[0m\u001b[0mjson\u001b[0m\u001b[0;34m,\u001b[0m \u001b[0;34m**\u001b[0m\u001b[0mkwargs\u001b[0m\u001b[0;34m)\u001b[0m\u001b[0;34m\u001b[0m\u001b[0;34m\u001b[0m\u001b[0m\n\u001b[0m\u001b[1;32m    118\u001b[0m \u001b[0;34m\u001b[0m\u001b[0m\n\u001b[1;32m    119\u001b[0m \u001b[0;34m\u001b[0m\u001b[0m\n",
      "\u001b[0;32m~/.virtualenvs/tigergraph_drug/lib/python3.6/site-packages/requests/api.py\u001b[0m in \u001b[0;36mrequest\u001b[0;34m(method, url, **kwargs)\u001b[0m\n\u001b[1;32m     59\u001b[0m     \u001b[0;31m# cases, and look like a memory leak in others.\u001b[0m\u001b[0;34m\u001b[0m\u001b[0;34m\u001b[0m\u001b[0;34m\u001b[0m\u001b[0m\n\u001b[1;32m     60\u001b[0m     \u001b[0;32mwith\u001b[0m \u001b[0msessions\u001b[0m\u001b[0;34m.\u001b[0m\u001b[0mSession\u001b[0m\u001b[0;34m(\u001b[0m\u001b[0;34m)\u001b[0m \u001b[0;32mas\u001b[0m \u001b[0msession\u001b[0m\u001b[0;34m:\u001b[0m\u001b[0;34m\u001b[0m\u001b[0;34m\u001b[0m\u001b[0m\n\u001b[0;32m---> 61\u001b[0;31m         \u001b[0;32mreturn\u001b[0m \u001b[0msession\u001b[0m\u001b[0;34m.\u001b[0m\u001b[0mrequest\u001b[0m\u001b[0;34m(\u001b[0m\u001b[0mmethod\u001b[0m\u001b[0;34m=\u001b[0m\u001b[0mmethod\u001b[0m\u001b[0;34m,\u001b[0m \u001b[0murl\u001b[0m\u001b[0;34m=\u001b[0m\u001b[0murl\u001b[0m\u001b[0;34m,\u001b[0m \u001b[0;34m**\u001b[0m\u001b[0mkwargs\u001b[0m\u001b[0;34m)\u001b[0m\u001b[0;34m\u001b[0m\u001b[0;34m\u001b[0m\u001b[0m\n\u001b[0m\u001b[1;32m     62\u001b[0m \u001b[0;34m\u001b[0m\u001b[0m\n\u001b[1;32m     63\u001b[0m \u001b[0;34m\u001b[0m\u001b[0m\n",
      "\u001b[0;32m~/.virtualenvs/tigergraph_drug/lib/python3.6/site-packages/requests/sessions.py\u001b[0m in \u001b[0;36mrequest\u001b[0;34m(self, method, url, params, data, headers, cookies, files, auth, timeout, allow_redirects, proxies, hooks, stream, verify, cert, json)\u001b[0m\n\u001b[1;32m    527\u001b[0m         }\n\u001b[1;32m    528\u001b[0m         \u001b[0msend_kwargs\u001b[0m\u001b[0;34m.\u001b[0m\u001b[0mupdate\u001b[0m\u001b[0;34m(\u001b[0m\u001b[0msettings\u001b[0m\u001b[0;34m)\u001b[0m\u001b[0;34m\u001b[0m\u001b[0;34m\u001b[0m\u001b[0m\n\u001b[0;32m--> 529\u001b[0;31m         \u001b[0mresp\u001b[0m \u001b[0;34m=\u001b[0m \u001b[0mself\u001b[0m\u001b[0;34m.\u001b[0m\u001b[0msend\u001b[0m\u001b[0;34m(\u001b[0m\u001b[0mprep\u001b[0m\u001b[0;34m,\u001b[0m \u001b[0;34m**\u001b[0m\u001b[0msend_kwargs\u001b[0m\u001b[0;34m)\u001b[0m\u001b[0;34m\u001b[0m\u001b[0;34m\u001b[0m\u001b[0m\n\u001b[0m\u001b[1;32m    530\u001b[0m \u001b[0;34m\u001b[0m\u001b[0m\n\u001b[1;32m    531\u001b[0m         \u001b[0;32mreturn\u001b[0m \u001b[0mresp\u001b[0m\u001b[0;34m\u001b[0m\u001b[0;34m\u001b[0m\u001b[0m\n",
      "\u001b[0;32m~/.virtualenvs/tigergraph_drug/lib/python3.6/site-packages/requests/sessions.py\u001b[0m in \u001b[0;36msend\u001b[0;34m(self, request, **kwargs)\u001b[0m\n\u001b[1;32m    643\u001b[0m \u001b[0;34m\u001b[0m\u001b[0m\n\u001b[1;32m    644\u001b[0m         \u001b[0;31m# Send the request\u001b[0m\u001b[0;34m\u001b[0m\u001b[0;34m\u001b[0m\u001b[0;34m\u001b[0m\u001b[0m\n\u001b[0;32m--> 645\u001b[0;31m         \u001b[0mr\u001b[0m \u001b[0;34m=\u001b[0m \u001b[0madapter\u001b[0m\u001b[0;34m.\u001b[0m\u001b[0msend\u001b[0m\u001b[0;34m(\u001b[0m\u001b[0mrequest\u001b[0m\u001b[0;34m,\u001b[0m \u001b[0;34m**\u001b[0m\u001b[0mkwargs\u001b[0m\u001b[0;34m)\u001b[0m\u001b[0;34m\u001b[0m\u001b[0;34m\u001b[0m\u001b[0m\n\u001b[0m\u001b[1;32m    646\u001b[0m \u001b[0;34m\u001b[0m\u001b[0m\n\u001b[1;32m    647\u001b[0m         \u001b[0;31m# Total elapsed time of the request (approximately)\u001b[0m\u001b[0;34m\u001b[0m\u001b[0;34m\u001b[0m\u001b[0;34m\u001b[0m\u001b[0m\n",
      "\u001b[0;32m~/.virtualenvs/tigergraph_drug/lib/python3.6/site-packages/requests/adapters.py\u001b[0m in \u001b[0;36msend\u001b[0;34m(self, request, stream, timeout, verify, cert, proxies)\u001b[0m\n\u001b[1;32m    517\u001b[0m                 \u001b[0;32mraise\u001b[0m \u001b[0mSSLError\u001b[0m\u001b[0;34m(\u001b[0m\u001b[0me\u001b[0m\u001b[0;34m,\u001b[0m \u001b[0mrequest\u001b[0m\u001b[0;34m=\u001b[0m\u001b[0mrequest\u001b[0m\u001b[0;34m)\u001b[0m\u001b[0;34m\u001b[0m\u001b[0;34m\u001b[0m\u001b[0m\n\u001b[1;32m    518\u001b[0m \u001b[0;34m\u001b[0m\u001b[0m\n\u001b[0;32m--> 519\u001b[0;31m             \u001b[0;32mraise\u001b[0m \u001b[0mConnectionError\u001b[0m\u001b[0;34m(\u001b[0m\u001b[0me\u001b[0m\u001b[0;34m,\u001b[0m \u001b[0mrequest\u001b[0m\u001b[0;34m=\u001b[0m\u001b[0mrequest\u001b[0m\u001b[0;34m)\u001b[0m\u001b[0;34m\u001b[0m\u001b[0;34m\u001b[0m\u001b[0m\n\u001b[0m\u001b[1;32m    520\u001b[0m \u001b[0;34m\u001b[0m\u001b[0m\n\u001b[1;32m    521\u001b[0m         \u001b[0;32mexcept\u001b[0m \u001b[0mClosedPoolError\u001b[0m \u001b[0;32mas\u001b[0m \u001b[0me\u001b[0m\u001b[0;34m:\u001b[0m\u001b[0;34m\u001b[0m\u001b[0;34m\u001b[0m\u001b[0m\n",
      "\u001b[0;31mConnectionError\u001b[0m: HTTPSConnectionPool(host='ddmp.i.tgcloud.io', port=9000): Max retries exceeded with url: /requesttoken (Caused by NewConnectionError('<urllib3.connection.HTTPSConnection object at 0x7f6f0d6197b8>: Failed to establish a new connection: [Errno 110] Connection timed out',))"
     ]
    }
   ],
   "source": [
    "# Cloud\n",
    "conn = tg.TigerGraphConnection(host=\"https://ddmp.i.tgcloud.io\")\n",
    "authToken = conn.getToken(\"982l37jamamujrg5ing9cvh18mt0o9jn\", \"100000000000000000\")\n",
    "print(authToken)"
   ]
  },
  {
   "cell_type": "code",
   "execution_count": null,
   "id": "59d1b269",
   "metadata": {},
   "outputs": [],
   "source": [
    "# Drop all nodes and edges\n",
    "# conn.gsql(\"use global drop all\")"
   ]
  },
  {
   "cell_type": "markdown",
   "id": "58eed930",
   "metadata": {},
   "source": [
    "# Create nodes and edges"
   ]
  },
  {
   "cell_type": "code",
   "execution_count": 8,
   "id": "f02851dd",
   "metadata": {},
   "outputs": [
    {
     "name": "stdout",
     "output_type": "stream",
     "text": [
      "Successfully created\n"
     ]
    }
   ],
   "source": [
    "# create a set of drugs\n",
    "conn.gsql(\"CREATE VERTEX DRUG (PRIMARY_ID name STRING) With primary_id_as_attribute=\\\"true\\\"\")\n",
    "# create a set of diseases\n",
    "conn.gsql(\"CREATE VERTEX DISEASES (PRIMARY_ID DiseaseName STRING) With primary_id_as_attribute=\\\"true\\\"\")\n",
    "# create a set of prescriptor\n",
    "#conn.gsql(\"CREATE VERTEX PRESCRIBER (PRIMARY_ID Prscrbr_NPI UINT, Prscrbr_Last_Org_Name STRING, Prscrbr_First_Name STRING, Prscrbr_MI STRING, Prscrbr_Crdntls STRING, Prscrbr_Gndr STRING, Prscrbr_City STRING, Prscrbr_State_Abrvtn STRING, Prscrbr_State_FIPS UINT, Prscrbr_Zip5 UINT, Prscrbr_RUCA STRING, Prscrbr_RUCA_Desc STRING, Prscrbr_Cntry STRING, Prscrbr_Type STRING) With primary_id_as_attribute=\\\"true\\\"\")\n",
    "conn.gsql(\"CREATE VERTEX PRESCRIBER (PRIMARY_ID Prscrbr_NPI UINT,Prscrbr_Last_Org_Name STRING,Prscrbr_First_Name STRING,Prscrbr_MI STRING,Prscrbr_Crdntls STRING,Prscrbr_Gndr STRING,Prscrbr_City STRING ,Prscrbr_State_Abrvtn STRING,Prscrbr_State_FIPS STRING,Prscrbr_zip5 STRING) With primary_id_as_attribute=\\\"true\\\"\")\n",
    " \n",
    "# create a set of gene\n",
    "conn.gsql(\"CREATE VERTEX GENE (PRIMARY_ID GeneID STRING, GeneSymbol STRING, GeneName STRING ,AltGeneIDs STRING,Synonyms STRING,BioGRIDIDs STRING,PharmGKBIDs STRING,UniProtIDs STRING) With primary_id_as_attribute=\\\"true\\\"\")\n",
    "\n",
    "# create a set of BEHAVIORAL\n",
    "conn.gsql(\"CREATE VERTEX BEHAVIORAL (PRIMARY_ID name STRING) With primary_id_as_attribute=\\\"true\\\"\")\n",
    "\n",
    "\n",
    "# create a set of BIOLOGICAL\n",
    "conn.gsql(\"CREATE VERTEX BIOLOGICAL (PRIMARY_ID name STRING) With primary_id_as_attribute=\\\"true\\\"\")\n",
    "\n",
    "\n",
    "# create a set of COMBINATION_PRODUCT\n",
    "conn.gsql(\"CREATE VERTEX COMBINATION_PRODUCT (PRIMARY_ID name STRING) With primary_id_as_attribute=\\\"true\\\"\")\n",
    "\n",
    "# create a set of DEVICE\n",
    "conn.gsql(\"CREATE VERTEX DEVICE (PRIMARY_ID name STRING) With primary_id_as_attribute=\\\"true\\\"\")\n",
    "\n",
    "# create a set of DIAGNOSTIC_TEST\n",
    "conn.gsql(\"CREATE VERTEX DIAGNOSTIC_TEST (PRIMARY_ID name STRING) With primary_id_as_attribute=\\\"true\\\"\")\n",
    "\n",
    "# create a set of DIETARY_SUPPLEMENT\n",
    "conn.gsql(\"CREATE VERTEX DIETARY_SUPPLEMENT (PRIMARY_ID name STRING) With primary_id_as_attribute=\\\"true\\\"\")\n",
    "\n",
    "\n",
    "# create a set of GENETIC\n",
    "conn.gsql(\"CREATE VERTEX GENETIC (PRIMARY_ID name STRING) With primary_id_as_attribute=\\\"true\\\"\")\n",
    "\n",
    "\n",
    "# create a set of OTHER\n",
    "conn.gsql(\"CREATE VERTEX OTHER (PRIMARY_ID name STRING) With primary_id_as_attribute=\\\"true\\\"\")\n",
    "\n",
    "# create a set of PROCEDURE\n",
    "conn.gsql(\"CREATE VERTEX PROCEDURE (PRIMARY_ID name STRING) With primary_id_as_attribute=\\\"true\\\"\")\n",
    "\n",
    "# create a set of RADIATION\n",
    "conn.gsql(\"CREATE VERTEX RADIATION (PRIMARY_ID name STRING) With primary_id_as_attribute=\\\"true\\\"\") \n",
    "\n",
    "\n",
    "\n",
    "# Edges \n",
    "\n",
    "# create a relation between PRESCRIBER and DRUG\n",
    "conn.gsql(\"CREATE UNDIRECTED EDGE prescript_drug (FROM PRESCRIBER, TO DRUG)\")\n",
    "# create a relation between DRUG and DISEASES prescripted by a prescriptor\n",
    "conn.gsql(\"CREATE UNDIRECTED EDGE is_prescripted_for (FROM DRUG, TO DISEASES)\")\n",
    "# create a relation between DRUG and DISEASES tested in the clinical trial\n",
    "conn.gsql(\"CREATE UNDIRECTED EDGE drug_is_tested_for (FROM DRUG, TO DISEASES, filename STRING)\")\n",
    "\n",
    "# create a relation between GENE and DISEASES\n",
    "conn.gsql(\"CREATE UNDIRECTED EDGE gene_disease_association (FROM GENE, TO DISEASES)\")\n",
    "# create a relation between DRUG and GENE\n",
    "conn.gsql(\"CREATE UNDIRECTED EDGE drug_gene_association (FROM DRUG, TO GENE)\")\n",
    "\n",
    "\n",
    "# create a relation between BEHAVIORAL and DISEASES tested in the clinical trial\n",
    "conn.gsql(\"CREATE UNDIRECTED EDGE behavioral_is_tested_for (FROM BEHAVIORAL, TO DISEASES, filename STRING)\")\n",
    "\n",
    "\n",
    "# create a relation between BIOLOGICAL and DISEASES tested in the clinical trial\n",
    "conn.gsql(\"CREATE UNDIRECTED EDGE bio_is_tested_for (FROM BIOLOGICAL, TO DISEASES, filename STRING)\")\n",
    "\n",
    "\n",
    "# create a relation between COMBINATION_PRODUCT and DISEASES tested in the clinical trial\n",
    "conn.gsql(\"CREATE UNDIRECTED EDGE combination_pro_is_tested_for (FROM COMBINATION_PRODUCT, TO DISEASES, filename STRING)\")\n",
    "\n",
    "\n",
    "# create a relation between DEVICE and DISEASES tested in the clinical trial\n",
    "conn.gsql(\"CREATE UNDIRECTED EDGE device_is_tested_for (FROM DEVICE, TO DISEASES, filename STRING)\")\n",
    "\n",
    "\n",
    "# create a relation between DIAGNOSTIC_TEST and DISEASES tested in the clinical trial\n",
    "conn.gsql(\"CREATE UNDIRECTED EDGE diagnostic_test_is_tested_for (FROM DIAGNOSTIC_TEST, TO DISEASES, filename STRING)\")\n",
    "\n",
    "# create a relation between DIETARY_SUPPLEMENT and DISEASES tested in the clinical trial\n",
    "conn.gsql(\"CREATE UNDIRECTED EDGE dietary_is_tested_for (FROM DIETARY_SUPPLEMENT, TO DISEASES, filename STRING)\")\n",
    "\n",
    "# create a relation between GENETIC and DISEASES tested in the clinical trial\n",
    "conn.gsql(\"CREATE UNDIRECTED EDGE genetic_is_tested_for (FROM GENETIC, TO DISEASES, filename STRING)\")\n",
    "\n",
    "# create a relation between OTHER and DISEASES tested in the clinical trial\n",
    "conn.gsql(\"CREATE UNDIRECTED EDGE other_is_tested_for (FROM OTHER, TO DISEASES, filename STRING)\")\n",
    "\n",
    "# create a relation between PROCEDURE and DISEASES tested in the clinical trial\n",
    "conn.gsql(\"CREATE UNDIRECTED EDGE procedure_is_tested_for (FROM PROCEDURE, TO DISEASES, filename STRING)\")\n",
    "\n",
    "# create a relation between RADIATION and DISEASES tested in the clinical trial\n",
    "conn.gsql(\"CREATE UNDIRECTED EDGE radiation_is_tested_for (FROM RADIATION, TO DISEASES, filename STRING)\")\n",
    "\n",
    "print(\"Successfully created\")"
   ]
  },
  {
   "cell_type": "code",
   "execution_count": null,
   "id": "e1234bf4",
   "metadata": {},
   "outputs": [],
   "source": [
    "# Create the graph"
   ]
  },
  {
   "cell_type": "code",
   "execution_count": 10,
   "id": "e777de7f",
   "metadata": {},
   "outputs": [
    {
     "data": {
      "text/plain": [
       "'The graph graph_drug_disease is created.'"
      ]
     },
     "execution_count": 10,
     "metadata": {},
     "output_type": "execute_result"
    }
   ],
   "source": [
    "conn.gsql(\"CREATE GRAPH graph_drug_disease (*)\")\n"
   ]
  },
  {
   "cell_type": "code",
   "execution_count": 15,
   "id": "4af2eb68",
   "metadata": {},
   "outputs": [
    {
     "data": {
      "text/plain": [
       "\"Using graph 'graph_drug_disease'\""
      ]
     },
     "execution_count": 15,
     "metadata": {},
     "output_type": "execute_result"
    }
   ],
   "source": [
    "conn.gsql(\"USE GRAPH graph_drug_disease\")"
   ]
  },
  {
   "cell_type": "code",
   "execution_count": null,
   "id": "798ca572",
   "metadata": {},
   "outputs": [],
   "source": [
    "# Load a data and map them to the graph"
   ]
  },
  {
   "cell_type": "code",
   "execution_count": null,
   "id": "3a7726a0",
   "metadata": {},
   "outputs": [],
   "source": [
    "conn.gsql('''\n",
    "create loading job load_data for graph graph_drug_disease {\n",
    "\n",
    "    define filename file_prescriber_2013=\"/home/sofiane/tigergraph_drug/data_for_graph/provider/MUP_DPR_RY21_P04_V10_DY13_NPI.csv\";\n",
    "    define filename file_prescriber_2014=\"/home/sofiane/tigergraph_drug/data_for_graph/provider/MUP_DPR_RY21_P04_V10_DY14_NPI.csv\";\n",
    "    define filename file_prescriber_2015=\"/home/sofiane/tigergraph_drug/data_for_graph/provider/MUP_DPR_RY21_P04_V10_DY15_NPI.csv\";\n",
    "    define filename file_prescriber_2016=\"/home/sofiane/tigergraph_drug/data_for_graph/provider/MUP_DPR_RY21_P04_V10_DY16_NPI.csv\";\n",
    "    define filename file_prescriber_2017=\"/home/sofiane/tigergraph_drug/data_for_graph/provider/MUP_PTD_R19_P16_V10_D17_Prov.csv\";\n",
    "    define filename file_prescriber_2018=\"/home/sofiane/tigergraph_drug/data_for_graph/provider/MUP_DPR_RY21_P04_V10_DY18_NPI.csv\";\n",
    "    define filename file_prescriber_2019=\"/home/sofiane/tigergraph_drug/data_for_graph/provider/MUP_DPR_RY21_P04_V10_DY19_NPI.csv\";\n",
    "    \n",
    "    define filename file_gene=\"/home/sofiane/tigergraph_drug/data_for_graph/genes/data\";\n",
    "    \n",
    "\n",
    "    define filename file1=\"/home/sofiane/tigergraph_drug/data_for_graph/diseases/diseases.csv\";\n",
    "    define filename file2=\"/home/sofiane/tigergraph_drug/data_for_graph/drugs/drugs.csv\";\n",
    "    define filename file3=\"/home/sofiane/tigergraph_drug/data_for_graph/drugs/BEHAVIORAL.csv\";\n",
    "    define filename file4=\"/home/sofiane/tigergraph_drug/data_for_graph/drugs/BIOLOGICAL.csv\";\n",
    "    define filename file5=\"/home/sofiane/tigergraph_drug/data_for_graph/drugs/COMBINATION_PRODUCT.csv\";\n",
    "    define filename file6=\"/home/sofiane/tigergraph_drug/data_for_graph/drugs/DEVICE.csv\";\n",
    "    define filename file7=\"/home/sofiane/tigergraph_drug/data_for_graph/drugs/DIAGNOSTIC_TEST.csv\";\n",
    "    define filename file8=\"/home/sofiane/tigergraph_drug/data_for_graph/drugs/DIETARY_SUPPLEMENT.csv\";\n",
    "    define filename file9=\"/home/sofiane/tigergraph_drug/data_for_graph/drugs/GENETIC.csv\";\n",
    "    define filename file10=\"/home/sofiane/tigergraph_drug/data_for_graph/drugs/OTHER.csv\";\n",
    "    \n",
    "    define filename file11=\"/home/sofiane/tigergraph_drug/data_for_graph/drugs/PROCEDURE.csv\";\n",
    "    define filename file12=\"/home/sofiane/tigergraph_drug/data_for_graph/drugs/RADIATION.csv\";\n",
    "    \n",
    "    define filename file13=\"/home/sofiane/tigergraph_drug/data_for_graph/clinical_trials-relations/BEHAVIORAL_disease_clinical_trials.csv\";\n",
    "    define filename file14=\"/home/sofiane/tigergraph_drug/data_for_graph/clinical_trials-relations/BIOLOGICAL_disease_clinical_trials.csv\";\n",
    "    define filename file15=\"/home/sofiane/tigergraph_drug/data_for_graph/clinical_trials-relations/COMBINATION_PRODUCT_disease_clinical_trials.csv\";\n",
    "    define filename file16=\"/home/sofiane/tigergraph_drug/data_for_graph/clinical_trials-relations/DEVICE_disease_clinical_trials.csv\";\n",
    "    define filename file17=\"/home/sofiane/tigergraph_drug/data_for_graph/clinical_trials-relations/DIAGNOSTIC_TEST_disease_clinical_trials.csv\";\n",
    "    define filename file18=\"/home/sofiane/tigergraph_drug/data_for_graph/clinical_trials-relations/DIETARY_SUPPLEMENT_disease_clinical_trials.csv\";\n",
    "    define filename file19=\"/home/sofiane/tigergraph_drug/data_for_graph/clinical_trials-relations/drug_disease_clinical_trials.csv\";\n",
    "    define filename file20=\"/home/sofiane/tigergraph_drug/data_for_graph/clinical_trials-relations/GENETIC_disease_clinical_trials.csv\";\n",
    "    define filename file21=\"/home/sofiane/tigergraph_drug/data_for_graph/clinical_trials-relations/OTHER_disease_clinical_trials.csv\";\n",
    "    define filename file22=\"/home/sofiane/tigergraph_drug/data_for_graph/clinical_trials-relations/PROCEDURE_disease_clinical_trials.csv\";\n",
    "    define filename file23=\"/home/sofiane/tigergraph_drug/data_for_graph/clinical_trials-relations/RADIATION_disease_clinical_trials.csv\";\n",
    "    \n",
    "    \n",
    "    define filename file_prescrit_drug_2013=\"/home/sofiane/tigergraph_drug/data_for_graph/prescrit_drug/MUP_DPR_RY21_P04_V10_DY13_NPIBN_4_prescrit_drug.csv\";\n",
    "    define filename file_prescrit_drug_2014=\"/home/sofiane/tigergraph_drug/data_for_graph/prescrit_drug/MUP_DPR_RY21_P04_V10_DY14_NPIBN_1_prescrit_drug.csv\";\n",
    "    define filename file_prescrit_drug_2015=\"/home/sofiane/tigergraph_drug/data_for_graph/prescrit_drug/MUP_DPR_RY21_P04_V10_DY15_NPIBN_1_prescrit_drug.csv\";\n",
    "    define filename file_prescrit_drug_2016=\"/home/sofiane/tigergraph_drug/data_for_graph/prescrit_drug/MUP_DPR_RY21_P04_V10_DY16_NPIBN_0_prescrit_drug.csv\";\n",
    "    define filename file_prescrit_drug_2017=\"/home/sofiane/tigergraph_drug/data_for_graph/prescrit_drug/MUP_DPR_RY21_P04_V10_DY17_NPIBN_1_prescrit_drug.csv\";\n",
    "    define filename file_prescrit_drug_2018=\"/home/sofiane/tigergraph_drug/data_for_graph/prescrit_drug/MUP_DPR_RY21_P04_V10_DY18_NPIBN_0_prescrit_drug.csv\";\n",
    "    define filename file_prescrit_drug_2019=\"/home/sofiane/tigergraph_drug/data_for_graph/prescrit_drug/MUP_DPR_RY21_P04_V10_DY19_NPIBN_1_prescrit_drug.csv\";\n",
    "    \n",
    "    \n",
    "    define filename file_drug_disease=\"/home/sofiane/tigergraph_drug/data_for_graph/drug-disease_associations/drug-disease.csv\";\n",
    "    define filename file_gen_disease=\"/home/sofiane/tigergraph_drug/data_for_graph/gen-disease-asso/gen-disease.csv\";\n",
    "    define filename file_drug_gen=\"/home/sofiane/tigergraph_drug/data_for_graph/chemical-gene-asso/drug_gen.csv\";\n",
    "    \n",
    "    \n",
    "    \n",
    "    \n",
    "    \n",
    "    load file_prescriber_2013 to VERTEX PRESCRIBER values ($0,$1,$2,$3,$4,$5,$9,$10,$11,$12) using header=\"true\", separator=\",\";\n",
    "    load file_prescriber_2014 to VERTEX PRESCRIBER values ($0,$1,$2,$3,$4,$5,$9,$10,$11,$12) using header=\"true\", separator=\",\";\n",
    "    load file_prescriber_2015 to VERTEX PRESCRIBER values ($0,$1,$2,$3,$4,$5,$9,$10,$11,$12) using header=\"true\", separator=\",\";\n",
    "    load file_prescriber_2016 to VERTEX PRESCRIBER values ($0,$1,$2,$3,$4,$5,$9,$10,$11,$12) using header=\"true\", separator=\",\";\n",
    "    load file_prescriber_2017 to VERTEX PRESCRIBER values ($0,$1,$2,$3,$4,$5,$9,$10,$11,$12) using header=\"true\", separator=\",\";\n",
    "    load file_prescriber_2018 to VERTEX PRESCRIBER values ($0,$1,$2,$3,$4,$5,$9,$10,$11,$12) using header=\"true\", separator=\",\";\n",
    "    load file_prescriber_2019 to VERTEX PRESCRIBER values ($0,$1,$2,$3,$4,$5,$9,$10,$11,$12) using header=\"true\", separator=\",\";\n",
    "    \n",
    "    \n",
    "    load file_gene to VERTEX GENE values ($2, $0, $1, $3, $4, $5, $6, $7) using header=\"false\", separator=\",\";\n",
    "    \n",
    "    load file1 to VERTEX DISEASES values ($0) using header=\"false\", separator=\",\";\n",
    "    load file2 to VERTEX DRUG values ($0) using header=\"false\", separator=\",\";\n",
    "    load file3 to VERTEX BEHAVIORAL values ($0) using header=\"false\", separator=\",\";\n",
    "    load file4 to VERTEX BIOLOGICAL values ($0) using header=\"false\", separator=\",\";\n",
    "    load file5 to VERTEX COMBINATION_PRODUCT values ($0) using header=\"false\", separator=\",\";\n",
    "    load file6 to VERTEX DEVICE values ($0) using header=\"false\", separator=\",\";\n",
    "    load file7 to VERTEX DIAGNOSTIC_TEST values ($0) using header=\"false\", separator=\",\";\n",
    "    load file8 to VERTEX DIETARY_SUPPLEMENT values ($0) using header=\"false\", separator=\",\";\n",
    "    load file9 to VERTEX GENETIC values ($0) using header=\"false\", separator=\",\";\n",
    "    load file10 to VERTEX OTHER values ($0) using header=\"false\", separator=\",\";\n",
    "    load file11 to VERTEX PROCEDURE values ($0) using header=\"false\", separator=\",\";\n",
    "    load file12 to VERTEX RADIATION values ($0) using header=\"false\", separator=\",\";\n",
    "    \n",
    "    \n",
    "    \n",
    "    load file13 to EDGE behavioral_is_tested_for values ($0, $1, $2) using header=\"false\", separator=\",\";\n",
    "    load file14 to EDGE bio_is_tested_for values ($0, $1, $2) using header=\"false\", separator=\",\";\n",
    "    load file15 to EDGE combination_pro_is_tested_for values ($0, $1, $2) using header=\"false\", separator=\",\";\n",
    "    load file16 to EDGE device_is_tested_for values ($0, $1, $2) using header=\"false\", separator=\",\";\n",
    "    load file17 to EDGE diagnostic_test_is_tested_for values ($0, $1, $2) using header=\"false\", separator=\",\";\n",
    "    load file18 to EDGE dietary_is_tested_for values ($0, $1, $2) using header=\"false\", separator=\",\";\n",
    "    load file19 to EDGE drug_is_tested_for values ($0, $1, $2) using header=\"false\", separator=\";\";\n",
    "    load file20 to EDGE genetic_is_tested_for values ($0, $1, $2) using header=\"false\", separator=\",\";\n",
    "    load file21 to EDGE other_is_tested_for values ($0, $1, $2) using header=\"false\", separator=\",\";\n",
    "    load file22 to EDGE procedure_is_tested_for values ($0, $1, $2) using header=\"false\", separator=\",\";\n",
    "    load file23 to EDGE radiation_is_tested_for values ($0, $1, $2) using header=\"false\", separator=\",\";\n",
    "\n",
    "    \n",
    "    load file_prescrit_drug_2013 to EDGE prescript_drug values ($0, $1) using header=\"false\", separator=\";\";\n",
    "    load file_prescrit_drug_2014 to EDGE prescript_drug values ($0, $1) using header=\"false\", separator=\";\";\n",
    "    load file_prescrit_drug_2015 to EDGE prescript_drug values ($0, $1) using header=\"false\", separator=\";\";\n",
    "    load file_prescrit_drug_2016 to EDGE prescript_drug values ($0, $1) using header=\"false\", separator=\";\";\n",
    "    load file_prescrit_drug_2017 to EDGE prescript_drug values ($0, $1) using header=\"false\", separator=\";\";\n",
    "    load file_prescrit_drug_2018 to EDGE prescript_drug values ($0, $1) using header=\"false\", separator=\";\";\n",
    "    load file_prescrit_drug_2019 to EDGE prescript_drug values ($0, $1) using header=\"false\", separator=\";\";\n",
    "    \n",
    "    \n",
    "    load file_drug_disease to EDGE is_prescripted_for values ($0, $1) using header=\"false\", separator=\";\";\n",
    "    load file_gen_disease to EDGE gene_disease_association values ($0, $1) using header=\"false\", separator=\";\";\n",
    "    load file_drug_gen to EDGE drug_gene_association values ($0, $1) using header=\"false\", separator=\";\";\n",
    "    \n",
    "    \n",
    "    \n",
    "}\n",
    "run loading job load_data\n",
    "''')\n",
    "\n"
   ]
  },
  {
   "cell_type": "code",
   "execution_count": null,
   "id": "de6757e4",
   "metadata": {},
   "outputs": [],
   "source": []
  },
  {
   "cell_type": "code",
   "execution_count": null,
   "id": "75cd6b68",
   "metadata": {},
   "outputs": [],
   "source": []
  }
 ],
 "metadata": {
  "kernelspec": {
   "display_name": "Python 3",
   "language": "python",
   "name": "python3"
  },
  "language_info": {
   "codemirror_mode": {
    "name": "ipython",
    "version": 3
   },
   "file_extension": ".py",
   "mimetype": "text/x-python",
   "name": "python",
   "nbconvert_exporter": "python",
   "pygments_lexer": "ipython3",
   "version": "3.6.9"
  }
 },
 "nbformat": 4,
 "nbformat_minor": 5
}
