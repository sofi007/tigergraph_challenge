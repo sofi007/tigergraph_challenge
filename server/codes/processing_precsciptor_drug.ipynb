{
 "cells": [
  {
   "cell_type": "code",
   "execution_count": 23,
   "id": "878809f7",
   "metadata": {},
   "outputs": [],
   "source": [
    "import pandas as pd\n",
    "import networkx as nx\n",
    "from networkx.algorithms import bipartite\n",
    "import os\n",
    "\n",
    "from bs4 import BeautifulSoup\n",
    "import json"
   ]
  },
  {
   "cell_type": "code",
   "execution_count": 14,
   "id": "591a87d5",
   "metadata": {},
   "outputs": [],
   "source": [
    "list_files = [\"MUP_DPR_RY21_P04_V10_DY13_NPIBN_4.csv\",\"MUP_DPR_RY21_P04_V10_DY14_NPIBN_1.csv\",\"MUP_DPR_RY21_P04_V10_DY15_NPIBN_1.csv\",\"MUP_DPR_RY21_P04_V10_DY16_NPIBN_0.csv\",\"MUP_DPR_RY21_P04_V10_DY17_NPIBN_1.csv\",\"MUP_DPR_RY21_P04_V10_DY18_NPIBN_0.csv\",\"MUP_DPR_RY21_P04_V10_DY19_NPIBN_1.csv\"]"
   ]
  },
  {
   "cell_type": "code",
   "execution_count": 24,
   "id": "9a2e6767",
   "metadata": {},
   "outputs": [],
   "source": [
    "pd.set_option('display.max_columns', None)"
   ]
  },
  {
   "cell_type": "code",
   "execution_count": null,
   "id": "d50e1f12",
   "metadata": {},
   "outputs": [],
   "source": [
    "li = []\n",
    "cols = [\"Prscrbr_NPI\",\"Brnd_Name\", \"Gnrc_Name\"]\n",
    "#cols = [\"Prscrbr_Last_Org_Name\", \"Prscrbr_First_Name\",\"Prscrbr_City\",\"Prscrbr_State_Abrvtn\",\"Prscrbr_State_FIPS\",\"Prscrbr_Type\",\"Prscrbr_Type_Src\",\"Brnd_Name\", \"Gnrc_Name\"]\n",
    "        \n",
    "\n",
    "\n",
    "for file in list_files:\n",
    "    print(file)\n",
    "    df_i = pd.read_csv('../data/'+file, usecols=cols)\n",
    "    li.append(df_i)\n",
    "\n",
    "df_pres_drug = pd.concat(li, axis=0, ignore_index=True)\n",
    "df_pres_drug.head(2)\n",
    "\n"
   ]
  },
  {
   "cell_type": "code",
   "execution_count": 17,
   "id": "d34d6c54",
   "metadata": {},
   "outputs": [
    {
     "data": {
      "text/plain": [
       "Index(['Prscrbr_NPI', 'Prscrbr_Last_Org_Name', 'Prscrbr_First_Name',\n",
       "       'Prscrbr_City', 'Prscrbr_State_Abrvtn', 'Prscrbr_State_FIPS',\n",
       "       'Prscrbr_Type', 'Prscrbr_Type_Src', 'Brnd_Name', 'Gnrc_Name',\n",
       "       'Tot_Clms', 'Tot_30day_Fills', 'Tot_Day_Suply', 'Tot_Drug_Cst',\n",
       "       'Tot_Benes', 'GE65_Sprsn_Flag', 'GE65_Tot_Clms', 'GE65_Tot_30day_Fills',\n",
       "       'GE65_Tot_Drug_Cst', 'GE65_Tot_Day_Suply', 'GE65_Bene_Sprsn_Flag',\n",
       "       'GE65_Tot_Benes'],\n",
       "      dtype='object')"
      ]
     },
     "execution_count": 17,
     "metadata": {},
     "output_type": "execute_result"
    }
   ],
   "source": [
    " df_pres_drug.columns"
   ]
  },
  {
   "cell_type": "code",
   "execution_count": 91,
   "id": "35c0e2f1",
   "metadata": {},
   "outputs": [
    {
     "name": "stdout",
     "output_type": "stream",
     "text": [
      "Prscrbr_NPI                 0\n",
      "Prscrbr_Last_Org_Name       0\n",
      "Prscrbr_First_Name       1969\n",
      "Brnd_Name                   0\n",
      "Gnrc_Name                   0\n",
      "dtype: int64\n"
     ]
    }
   ],
   "source": [
    "# Finding the null values.\n",
    "print(df_pres_drug.isnull().sum())\n"
   ]
  },
  {
   "cell_type": "code",
   "execution_count": 92,
   "id": "b1641dce",
   "metadata": {},
   "outputs": [],
   "source": [
    "df_pres_drug['Prscrbr_First_Name'] = df['Prscrbr_First_Name'].fillna('')"
   ]
  },
  {
   "cell_type": "code",
   "execution_count": null,
   "id": "b80ed97d",
   "metadata": {},
   "outputs": [],
   "source": [
    "set_Brnd_Name = set(df_pres_drug[\"Brnd_Name\"])\n",
    "len(set_Brnd_Name)"
   ]
  },
  {
   "cell_type": "code",
   "execution_count": null,
   "id": "658d36aa",
   "metadata": {},
   "outputs": [],
   "source": []
  },
  {
   "cell_type": "code",
   "execution_count": null,
   "id": "198ac458",
   "metadata": {},
   "outputs": [],
   "source": []
  },
  {
   "cell_type": "code",
   "execution_count": 7,
   "id": "9f545ebe",
   "metadata": {},
   "outputs": [],
   "source": []
  },
  {
   "cell_type": "code",
   "execution_count": null,
   "id": "0c7aa22f",
   "metadata": {},
   "outputs": [],
   "source": []
  },
  {
   "cell_type": "code",
   "execution_count": null,
   "id": "d372318a",
   "metadata": {},
   "outputs": [],
   "source": [
    "\n"
   ]
  },
  {
   "cell_type": "code",
   "execution_count": null,
   "id": "b10de9cd",
   "metadata": {},
   "outputs": [],
   "source": []
  },
  {
   "cell_type": "code",
   "execution_count": 93,
   "id": "98ba2f76",
   "metadata": {},
   "outputs": [],
   "source": [
    "#df[\"Last_First_name\"] = df[\"Prscrbr_Last_Org_Name\"] + \"_\" + df [\"Prscrbr_First_Name\"]\n",
    "#df[\"Last_First_name\"]\n",
    "#df.drop('Prscrbr_Last_Org_Name', inplace=True, axis=1)\n",
    "#df.drop('Prscrbr_First_Name', inplace=True, axis=1)\n",
    "#set_Last_First_name = set(df[\"Last_First_name\"])\n",
    "#len(set_Last_First_name)"
   ]
  },
  {
   "cell_type": "code",
   "execution_count": null,
   "id": "e3392d3e",
   "metadata": {},
   "outputs": [],
   "source": []
  },
  {
   "cell_type": "code",
   "execution_count": 10,
   "id": "fd8a1cf6",
   "metadata": {},
   "outputs": [],
   "source": []
  },
  {
   "cell_type": "code",
   "execution_count": null,
   "id": "2d20f198",
   "metadata": {},
   "outputs": [],
   "source": []
  },
  {
   "cell_type": "code",
   "execution_count": null,
   "id": "ff1a2b3a",
   "metadata": {},
   "outputs": [],
   "source": []
  },
  {
   "cell_type": "code",
   "execution_count": null,
   "id": "13f9cc23",
   "metadata": {},
   "outputs": [],
   "source": []
  },
  {
   "cell_type": "code",
   "execution_count": 13,
   "id": "4b1ff829",
   "metadata": {},
   "outputs": [],
   "source": []
  },
  {
   "cell_type": "code",
   "execution_count": null,
   "id": "dd7369e2",
   "metadata": {},
   "outputs": [],
   "source": []
  },
  {
   "cell_type": "code",
   "execution_count": 14,
   "id": "cb4785a9",
   "metadata": {},
   "outputs": [],
   "source": [
    "#records = df[[\"Last_First_name\", \"Brnd_Name\"]].to_records(index=False)\n",
    "#result = list(records)"
   ]
  },
  {
   "cell_type": "code",
   "execution_count": null,
   "id": "63c4294c",
   "metadata": {},
   "outputs": [],
   "source": []
  },
  {
   "cell_type": "code",
   "execution_count": null,
   "id": "3eb5f8b2",
   "metadata": {},
   "outputs": [],
   "source": []
  },
  {
   "cell_type": "code",
   "execution_count": null,
   "id": "8b074ff9",
   "metadata": {},
   "outputs": [],
   "source": []
  },
  {
   "cell_type": "code",
   "execution_count": null,
   "id": "8bb542b5",
   "metadata": {},
   "outputs": [],
   "source": []
  },
  {
   "cell_type": "code",
   "execution_count": null,
   "id": "93132184",
   "metadata": {},
   "outputs": [],
   "source": [
    "#fh = open(\"save-graph.adjlist\", \"wb\")\n",
    "#nx.write_adjlist(g, fh)"
   ]
  },
  {
   "cell_type": "code",
   "execution_count": null,
   "id": "3861bff1",
   "metadata": {},
   "outputs": [],
   "source": [
    "# Node properties for provider (doctor)"
   ]
  },
  {
   "cell_type": "code",
   "execution_count": 26,
   "id": "3ac975eb",
   "metadata": {},
   "outputs": [],
   "source": [
    "#list_files = [\"MUP_DPR_RY21_P04_V10_DY13_NPI.csv\",\"MUP_DPR_RY21_P04_V10_DY14_NPI.csv\",\"MUP_DPR_RY21_P04_V10_DY15_NPI.csv\", \"MUP_DPR_RY21_P04_V10_DY16_NPI.csv\", \"MUP_PTD_R19_P16_V10_D17_Prov.csv\", \"MUP_DPR_RY21_P04_V10_DY18_NPI.csv\", \"MUP_DPR_RY21_P04_V10_DY19_NPI.csv\"]\n",
    "list_files = [\"MUP_DPR_RY21_P04_V10_DY13_NPI.csv\"]"
   ]
  },
  {
   "cell_type": "code",
   "execution_count": 27,
   "id": "24f47e6d",
   "metadata": {},
   "outputs": [
    {
     "name": "stdout",
     "output_type": "stream",
     "text": [
      "MUP_DPR_RY21_P04_V10_DY13_NPI.csv\n"
     ]
    },
    {
     "data": {
      "text/html": [
       "<div>\n",
       "<style scoped>\n",
       "    .dataframe tbody tr th:only-of-type {\n",
       "        vertical-align: middle;\n",
       "    }\n",
       "\n",
       "    .dataframe tbody tr th {\n",
       "        vertical-align: top;\n",
       "    }\n",
       "\n",
       "    .dataframe thead th {\n",
       "        text-align: right;\n",
       "    }\n",
       "</style>\n",
       "<table border=\"1\" class=\"dataframe\">\n",
       "  <thead>\n",
       "    <tr style=\"text-align: right;\">\n",
       "      <th></th>\n",
       "      <th>PRSCRBR_NPI</th>\n",
       "      <th>Prscrbr_Last_Org_Name</th>\n",
       "      <th>Prscrbr_First_Name</th>\n",
       "      <th>Prscrbr_MI</th>\n",
       "      <th>Prscrbr_Crdntls</th>\n",
       "      <th>Prscrbr_Gndr</th>\n",
       "      <th>Prscrbr_Ent_Cd</th>\n",
       "      <th>Prscrbr_St1</th>\n",
       "      <th>Prscrbr_St2</th>\n",
       "      <th>Prscrbr_City</th>\n",
       "      <th>Prscrbr_State_Abrvtn</th>\n",
       "      <th>Prscrbr_State_FIPS</th>\n",
       "      <th>Prscrbr_zip5</th>\n",
       "      <th>Prscrbr_RUCA</th>\n",
       "      <th>Prscrbr_RUCA_Desc</th>\n",
       "      <th>Prscrbr_Cntry</th>\n",
       "      <th>Prscrbr_Type</th>\n",
       "      <th>Prscrbr_Type_src</th>\n",
       "      <th>Tot_Clms</th>\n",
       "      <th>Tot_30day_Fills</th>\n",
       "      <th>Tot_Drug_Cst</th>\n",
       "      <th>Tot_Day_Suply</th>\n",
       "      <th>Tot_Benes</th>\n",
       "      <th>GE65_Sprsn_Flag</th>\n",
       "      <th>GE65_Tot_Clms</th>\n",
       "      <th>GE65_Tot_30day_Fills</th>\n",
       "      <th>GE65_Tot_Drug_Cst</th>\n",
       "      <th>GE65_Tot_Day_Suply</th>\n",
       "      <th>GE65_Bene_Sprsn_Flag</th>\n",
       "      <th>GE65_Tot_Benes</th>\n",
       "      <th>Brnd_Sprsn_Flag</th>\n",
       "      <th>Brnd_Tot_Clms</th>\n",
       "      <th>Brnd_Tot_Drug_Cst</th>\n",
       "      <th>Gnrc_Sprsn_Flag</th>\n",
       "      <th>Gnrc_Tot_Clms</th>\n",
       "      <th>Gnrc_Tot_Drug_Cst</th>\n",
       "      <th>Othr_Sprsn_Flag</th>\n",
       "      <th>Othr_Tot_Clms</th>\n",
       "      <th>Othr_Tot_Drug_Cst</th>\n",
       "      <th>MAPD_Sprsn_Flag</th>\n",
       "      <th>MAPD_Tot_Clms</th>\n",
       "      <th>MAPD_Tot_Drug_Cst</th>\n",
       "      <th>PDP_Sprsn_Flag</th>\n",
       "      <th>PDP_Tot_Clms</th>\n",
       "      <th>PDP_Tot_Drug_Cst</th>\n",
       "      <th>LIS_Sprsn_Flag</th>\n",
       "      <th>LIS_Tot_Clms</th>\n",
       "      <th>LIS_Drug_Cst</th>\n",
       "      <th>NonLIS_Sprsn_Flag</th>\n",
       "      <th>NonLIS_Tot_Clms</th>\n",
       "      <th>NonLIS_Drug_Cst</th>\n",
       "      <th>Opioid_Tot_Clms</th>\n",
       "      <th>Opioid_Tot_Drug_Cst</th>\n",
       "      <th>Opioid_Tot_Suply</th>\n",
       "      <th>Opioid_Tot_Benes</th>\n",
       "      <th>Opioid_Prscrbr_Rate</th>\n",
       "      <th>Opioid_LA_Tot_Clms</th>\n",
       "      <th>Opioid_LA_Tot_Drug_Cst</th>\n",
       "      <th>Opioid_LA_Tot_Suply</th>\n",
       "      <th>Opioid_LA_Tot_Benes</th>\n",
       "      <th>Opioid_LA_Prscrbr_Rate</th>\n",
       "      <th>Antbtc_Tot_Clms</th>\n",
       "      <th>Antbtc_Tot_Drug_Cst</th>\n",
       "      <th>Antbtc_Tot_Benes</th>\n",
       "      <th>Antpsyct_GE65_Sprsn_Flag</th>\n",
       "      <th>Antpsyct_GE65_Tot_Clms</th>\n",
       "      <th>Antpsyct_GE65_Tot_Drug_Cst</th>\n",
       "      <th>Antpsyct_GE65_Bene_Suprsn_Flag</th>\n",
       "      <th>Antpsyct_GE65_Tot_Benes</th>\n",
       "      <th>Bene_Avg_Age</th>\n",
       "      <th>Bene_Age_LT_65_Cnt</th>\n",
       "      <th>Bene_Age_65_74_Cnt</th>\n",
       "      <th>Bene_Age_75_84_Cnt</th>\n",
       "      <th>Bene_Age_GT_84_Cnt</th>\n",
       "      <th>Bene_Feml_Cnt</th>\n",
       "      <th>Bene_Male_Cnt</th>\n",
       "      <th>Bene_Race_Wht_Cnt</th>\n",
       "      <th>Bene_Race_Black_Cnt</th>\n",
       "      <th>Bene_Race_Api_Cnt</th>\n",
       "      <th>Bene_Race_Hspnc_Cnt</th>\n",
       "      <th>Bene_Race_Natind_Cnt</th>\n",
       "      <th>Bene_Race_Othr_Cnt</th>\n",
       "      <th>Bene_Dual_Cnt</th>\n",
       "      <th>Bene_Ndual_Cnt</th>\n",
       "      <th>Bene_Avg_Risk_Scre</th>\n",
       "    </tr>\n",
       "  </thead>\n",
       "  <tbody>\n",
       "    <tr>\n",
       "      <th>0</th>\n",
       "      <td>1003000126</td>\n",
       "      <td>Enkeshafi</td>\n",
       "      <td>Ardalan</td>\n",
       "      <td>NaN</td>\n",
       "      <td>M.D.</td>\n",
       "      <td>M</td>\n",
       "      <td>I</td>\n",
       "      <td>900 Seton Dr</td>\n",
       "      <td>NaN</td>\n",
       "      <td>Cumberland</td>\n",
       "      <td>MD</td>\n",
       "      <td>24</td>\n",
       "      <td>21502</td>\n",
       "      <td>1.0</td>\n",
       "      <td>Metropolitan area core: primary flow within an...</td>\n",
       "      <td>US</td>\n",
       "      <td>Internal Medicine</td>\n",
       "      <td>S</td>\n",
       "      <td>363</td>\n",
       "      <td>370.066667</td>\n",
       "      <td>15967.65</td>\n",
       "      <td>7760</td>\n",
       "      <td>133.0</td>\n",
       "      <td>NaN</td>\n",
       "      <td>259.0</td>\n",
       "      <td>265.433333</td>\n",
       "      <td>11850.41</td>\n",
       "      <td>5795.0</td>\n",
       "      <td>NaN</td>\n",
       "      <td>100.0</td>\n",
       "      <td>#</td>\n",
       "      <td>NaN</td>\n",
       "      <td>NaN</td>\n",
       "      <td>NaN</td>\n",
       "      <td>309.0</td>\n",
       "      <td>4757.67</td>\n",
       "      <td>*</td>\n",
       "      <td>NaN</td>\n",
       "      <td>NaN</td>\n",
       "      <td>NaN</td>\n",
       "      <td>38.0</td>\n",
       "      <td>1289.96</td>\n",
       "      <td>NaN</td>\n",
       "      <td>325.0</td>\n",
       "      <td>14677.69</td>\n",
       "      <td>NaN</td>\n",
       "      <td>185.0</td>\n",
       "      <td>5642.12</td>\n",
       "      <td>NaN</td>\n",
       "      <td>178.0</td>\n",
       "      <td>10325.53</td>\n",
       "      <td>16.0</td>\n",
       "      <td>465.74</td>\n",
       "      <td>191.0</td>\n",
       "      <td>13.0</td>\n",
       "      <td>4.407713</td>\n",
       "      <td>NaN</td>\n",
       "      <td>NaN</td>\n",
       "      <td>NaN</td>\n",
       "      <td>NaN</td>\n",
       "      <td>NaN</td>\n",
       "      <td>81.0</td>\n",
       "      <td>2995.22</td>\n",
       "      <td>63.0</td>\n",
       "      <td>*</td>\n",
       "      <td>NaN</td>\n",
       "      <td>NaN</td>\n",
       "      <td>NaN</td>\n",
       "      <td>NaN</td>\n",
       "      <td>71.992481</td>\n",
       "      <td>33.0</td>\n",
       "      <td>35.0</td>\n",
       "      <td>43.0</td>\n",
       "      <td>22.0</td>\n",
       "      <td>80.0</td>\n",
       "      <td>53.0</td>\n",
       "      <td>129.0</td>\n",
       "      <td>NaN</td>\n",
       "      <td>NaN</td>\n",
       "      <td>0.0</td>\n",
       "      <td>0.0</td>\n",
       "      <td>NaN</td>\n",
       "      <td>54.0</td>\n",
       "      <td>79.0</td>\n",
       "      <td>2.340462</td>\n",
       "    </tr>\n",
       "    <tr>\n",
       "      <th>1</th>\n",
       "      <td>1003000142</td>\n",
       "      <td>Khalil</td>\n",
       "      <td>Rashid</td>\n",
       "      <td>NaN</td>\n",
       "      <td>M.D.</td>\n",
       "      <td>M</td>\n",
       "      <td>I</td>\n",
       "      <td>4126 N Holland Sylvania Rd</td>\n",
       "      <td>Suite 220</td>\n",
       "      <td>Toledo</td>\n",
       "      <td>OH</td>\n",
       "      <td>39</td>\n",
       "      <td>43623</td>\n",
       "      <td>1.0</td>\n",
       "      <td>Metropolitan area core: primary flow within an...</td>\n",
       "      <td>US</td>\n",
       "      <td>Anesthesiology</td>\n",
       "      <td>S</td>\n",
       "      <td>512</td>\n",
       "      <td>530.400000</td>\n",
       "      <td>20342.55</td>\n",
       "      <td>14795</td>\n",
       "      <td>101.0</td>\n",
       "      <td>NaN</td>\n",
       "      <td>213.0</td>\n",
       "      <td>229.400000</td>\n",
       "      <td>8914.88</td>\n",
       "      <td>6387.0</td>\n",
       "      <td>NaN</td>\n",
       "      <td>47.0</td>\n",
       "      <td>NaN</td>\n",
       "      <td>50.0</td>\n",
       "      <td>10127.85</td>\n",
       "      <td>NaN</td>\n",
       "      <td>462.0</td>\n",
       "      <td>10214.70</td>\n",
       "      <td>NaN</td>\n",
       "      <td>0.0</td>\n",
       "      <td>0.0</td>\n",
       "      <td>NaN</td>\n",
       "      <td>81.0</td>\n",
       "      <td>1701.81</td>\n",
       "      <td>NaN</td>\n",
       "      <td>431.0</td>\n",
       "      <td>18640.74</td>\n",
       "      <td>NaN</td>\n",
       "      <td>307.0</td>\n",
       "      <td>11609.21</td>\n",
       "      <td>NaN</td>\n",
       "      <td>205.0</td>\n",
       "      <td>8733.34</td>\n",
       "      <td>252.0</td>\n",
       "      <td>6255.94</td>\n",
       "      <td>6858.0</td>\n",
       "      <td>72.0</td>\n",
       "      <td>49.218750</td>\n",
       "      <td>29.0</td>\n",
       "      <td>2563.7</td>\n",
       "      <td>805.0</td>\n",
       "      <td>17.0</td>\n",
       "      <td>11.507937</td>\n",
       "      <td>0.0</td>\n",
       "      <td>0.00</td>\n",
       "      <td>0.0</td>\n",
       "      <td>NaN</td>\n",
       "      <td>0.0</td>\n",
       "      <td>0.0</td>\n",
       "      <td>NaN</td>\n",
       "      <td>0.0</td>\n",
       "      <td>61.772277</td>\n",
       "      <td>54.0</td>\n",
       "      <td>31.0</td>\n",
       "      <td>NaN</td>\n",
       "      <td>NaN</td>\n",
       "      <td>56.0</td>\n",
       "      <td>45.0</td>\n",
       "      <td>77.0</td>\n",
       "      <td>21.0</td>\n",
       "      <td>NaN</td>\n",
       "      <td>NaN</td>\n",
       "      <td>0.0</td>\n",
       "      <td>NaN</td>\n",
       "      <td>48.0</td>\n",
       "      <td>53.0</td>\n",
       "      <td>1.607022</td>\n",
       "    </tr>\n",
       "  </tbody>\n",
       "</table>\n",
       "</div>"
      ],
      "text/plain": [
       "   PRSCRBR_NPI Prscrbr_Last_Org_Name Prscrbr_First_Name Prscrbr_MI  \\\n",
       "0   1003000126             Enkeshafi            Ardalan        NaN   \n",
       "1   1003000142                Khalil             Rashid        NaN   \n",
       "\n",
       "  Prscrbr_Crdntls Prscrbr_Gndr Prscrbr_Ent_Cd                 Prscrbr_St1  \\\n",
       "0            M.D.            M              I                900 Seton Dr   \n",
       "1            M.D.            M              I  4126 N Holland Sylvania Rd   \n",
       "\n",
       "  Prscrbr_St2 Prscrbr_City Prscrbr_State_Abrvtn  Prscrbr_State_FIPS  \\\n",
       "0         NaN   Cumberland                   MD                  24   \n",
       "1   Suite 220       Toledo                   OH                  39   \n",
       "\n",
       "   Prscrbr_zip5  Prscrbr_RUCA  \\\n",
       "0         21502           1.0   \n",
       "1         43623           1.0   \n",
       "\n",
       "                                   Prscrbr_RUCA_Desc Prscrbr_Cntry  \\\n",
       "0  Metropolitan area core: primary flow within an...            US   \n",
       "1  Metropolitan area core: primary flow within an...            US   \n",
       "\n",
       "        Prscrbr_Type Prscrbr_Type_src  Tot_Clms  Tot_30day_Fills  \\\n",
       "0  Internal Medicine                S       363       370.066667   \n",
       "1     Anesthesiology                S       512       530.400000   \n",
       "\n",
       "   Tot_Drug_Cst  Tot_Day_Suply  Tot_Benes GE65_Sprsn_Flag  GE65_Tot_Clms  \\\n",
       "0      15967.65           7760      133.0             NaN          259.0   \n",
       "1      20342.55          14795      101.0             NaN          213.0   \n",
       "\n",
       "   GE65_Tot_30day_Fills  GE65_Tot_Drug_Cst  GE65_Tot_Day_Suply  \\\n",
       "0            265.433333           11850.41              5795.0   \n",
       "1            229.400000            8914.88              6387.0   \n",
       "\n",
       "  GE65_Bene_Sprsn_Flag  GE65_Tot_Benes Brnd_Sprsn_Flag  Brnd_Tot_Clms  \\\n",
       "0                  NaN           100.0               #            NaN   \n",
       "1                  NaN            47.0             NaN           50.0   \n",
       "\n",
       "   Brnd_Tot_Drug_Cst Gnrc_Sprsn_Flag  Gnrc_Tot_Clms  Gnrc_Tot_Drug_Cst  \\\n",
       "0                NaN             NaN          309.0            4757.67   \n",
       "1           10127.85             NaN          462.0           10214.70   \n",
       "\n",
       "  Othr_Sprsn_Flag  Othr_Tot_Clms  Othr_Tot_Drug_Cst MAPD_Sprsn_Flag  \\\n",
       "0               *            NaN                NaN             NaN   \n",
       "1             NaN            0.0                0.0             NaN   \n",
       "\n",
       "   MAPD_Tot_Clms  MAPD_Tot_Drug_Cst PDP_Sprsn_Flag  PDP_Tot_Clms  \\\n",
       "0           38.0            1289.96            NaN         325.0   \n",
       "1           81.0            1701.81            NaN         431.0   \n",
       "\n",
       "   PDP_Tot_Drug_Cst LIS_Sprsn_Flag  LIS_Tot_Clms  LIS_Drug_Cst  \\\n",
       "0          14677.69            NaN         185.0       5642.12   \n",
       "1          18640.74            NaN         307.0      11609.21   \n",
       "\n",
       "  NonLIS_Sprsn_Flag  NonLIS_Tot_Clms  NonLIS_Drug_Cst  Opioid_Tot_Clms  \\\n",
       "0               NaN            178.0         10325.53             16.0   \n",
       "1               NaN            205.0          8733.34            252.0   \n",
       "\n",
       "   Opioid_Tot_Drug_Cst  Opioid_Tot_Suply  Opioid_Tot_Benes  \\\n",
       "0               465.74             191.0              13.0   \n",
       "1              6255.94            6858.0              72.0   \n",
       "\n",
       "   Opioid_Prscrbr_Rate  Opioid_LA_Tot_Clms  Opioid_LA_Tot_Drug_Cst  \\\n",
       "0             4.407713                 NaN                     NaN   \n",
       "1            49.218750                29.0                  2563.7   \n",
       "\n",
       "   Opioid_LA_Tot_Suply  Opioid_LA_Tot_Benes  Opioid_LA_Prscrbr_Rate  \\\n",
       "0                  NaN                  NaN                     NaN   \n",
       "1                805.0                 17.0               11.507937   \n",
       "\n",
       "   Antbtc_Tot_Clms  Antbtc_Tot_Drug_Cst  Antbtc_Tot_Benes  \\\n",
       "0             81.0              2995.22              63.0   \n",
       "1              0.0                 0.00               0.0   \n",
       "\n",
       "  Antpsyct_GE65_Sprsn_Flag  Antpsyct_GE65_Tot_Clms  \\\n",
       "0                        *                     NaN   \n",
       "1                      NaN                     0.0   \n",
       "\n",
       "   Antpsyct_GE65_Tot_Drug_Cst  Antpsyct_GE65_Bene_Suprsn_Flag  \\\n",
       "0                         NaN                             NaN   \n",
       "1                         0.0                             NaN   \n",
       "\n",
       "   Antpsyct_GE65_Tot_Benes  Bene_Avg_Age  Bene_Age_LT_65_Cnt  \\\n",
       "0                      NaN     71.992481                33.0   \n",
       "1                      0.0     61.772277                54.0   \n",
       "\n",
       "   Bene_Age_65_74_Cnt  Bene_Age_75_84_Cnt  Bene_Age_GT_84_Cnt  Bene_Feml_Cnt  \\\n",
       "0                35.0                43.0                22.0           80.0   \n",
       "1                31.0                 NaN                 NaN           56.0   \n",
       "\n",
       "   Bene_Male_Cnt  Bene_Race_Wht_Cnt  Bene_Race_Black_Cnt  Bene_Race_Api_Cnt  \\\n",
       "0           53.0              129.0                  NaN                NaN   \n",
       "1           45.0               77.0                 21.0                NaN   \n",
       "\n",
       "   Bene_Race_Hspnc_Cnt  Bene_Race_Natind_Cnt  Bene_Race_Othr_Cnt  \\\n",
       "0                  0.0                   0.0                 NaN   \n",
       "1                  NaN                   0.0                 NaN   \n",
       "\n",
       "   Bene_Dual_Cnt  Bene_Ndual_Cnt  Bene_Avg_Risk_Scre  \n",
       "0           54.0            79.0            2.340462  \n",
       "1           48.0            53.0            1.607022  "
      ]
     },
     "execution_count": 27,
     "metadata": {},
     "output_type": "execute_result"
    }
   ],
   "source": [
    "li = []\n",
    "\n",
    "#cols = [\"Prscrbr_Last_Org_Name\", \"Prscrbr_First_Name\",\"Prscrbr_City\",\"Prscrbr_State_Abrvtn\",\"Prscrbr_State_FIPS\",\"Prscrbr_Type\",\"Prscrbr_Type_Src\",\"Brnd_Name\", \"Gnrc_Name\"]\n",
    "cols = ['Prscrbr_NPI', 'Prscrbr_Last_Org_Name', 'Prscrbr_First_Name', 'Prscrbr_MI', 'Prscrbr_Crdntls', 'Prscrbr_Gndr', 'Prscrbr_City', 'Prscrbr_State_Abrvtn', 'Prscrbr_State_FIPS', 'Prscrbr_Zip5', 'Prscrbr_RUCA', 'Prscrbr_RUCA_Desc', 'Prscrbr_Cntry', 'Prscrbr_Type']\n",
    "        \n",
    "#usecols=cols,    \n",
    "\n",
    "\n",
    "for file in list_files:\n",
    "    print(file)\n",
    "    df_i = pd.read_csv('../data_for_graph/provider/'+file, encoding='latin-1', nrows=50)\n",
    "    li.append(df_i)\n",
    "\n",
    "df = pd.concat(li, axis=0, ignore_index=True)\n",
    "df.head(2)\n",
    "\n"
   ]
  },
  {
   "cell_type": "code",
   "execution_count": 31,
   "id": "049685f6",
   "metadata": {},
   "outputs": [
    {
     "name": "stdout",
     "output_type": "stream",
     "text": [
      "0\n",
      "1\n",
      "2\n",
      "3\n",
      "4\n",
      "5\n",
      "9\n",
      "10\n",
      "11\n",
      "12\n"
     ]
    }
   ],
   "source": [
    "\n",
    "print(df.columns.get_loc(\"PRSCRBR_NPI\"))\n",
    "print(df.columns.get_loc(\"Prscrbr_Last_Org_Name\"))\n",
    "print(df.columns.get_loc(\"Prscrbr_First_Name\"))\n",
    "print(df.columns.get_loc(\"Prscrbr_MI\"))\n",
    "print(df.columns.get_loc(\"Prscrbr_Crdntls\"))\n",
    "print(df.columns.get_loc(\"Prscrbr_Gndr\"))\n",
    "print(df.columns.get_loc(\"Prscrbr_City\"))\n",
    "print(df.columns.get_loc(\"Prscrbr_State_Abrvtn\"))\n",
    "print(df.columns.get_loc(\"Prscrbr_State_FIPS\"))\n",
    "print(df.columns.get_loc(\"Prscrbr_zip5\"))\n",
    "\n",
    "#print(df.columns.get_loc(\"Prscrbr_RUCA\"))\n",
    "#print(df.columns.get_loc(\"Prscrbr_RUCA_Desc\"))\n",
    "#print(df.columns.get_loc(\"Prscrbr_Cntry\"))\n",
    "#print(df.columns.get_loc(\"Prscrbr_Type\"))\n",
    "\n"
   ]
  },
  {
   "cell_type": "code",
   "execution_count": 76,
   "id": "97626398",
   "metadata": {},
   "outputs": [],
   "source": [
    "#df.columns"
   ]
  },
  {
   "cell_type": "code",
   "execution_count": 79,
   "id": "2a60dbcd",
   "metadata": {},
   "outputs": [
    {
     "data": {
      "text/plain": [
       "Prscrbr_NPI                int64\n",
       "Prscrbr_Last_Org_Name     object\n",
       "Prscrbr_First_Name        object\n",
       "Prscrbr_MI                object\n",
       "Prscrbr_Crdntls           object\n",
       "Prscrbr_Gndr              object\n",
       "Prscrbr_City              object\n",
       "Prscrbr_State_Abrvtn      object\n",
       "Prscrbr_State_FIPS         int64\n",
       "Prscrbr_Zip5               int64\n",
       "Prscrbr_RUCA             float64\n",
       "Prscrbr_RUCA_Desc         object\n",
       "Prscrbr_Cntry             object\n",
       "Prscrbr_Type              object\n",
       "dtype: object"
      ]
     },
     "execution_count": 79,
     "metadata": {},
     "output_type": "execute_result"
    }
   ],
   "source": [
    "df.dtypes"
   ]
  },
  {
   "cell_type": "code",
   "execution_count": 87,
   "id": "313921d1",
   "metadata": {},
   "outputs": [
    {
     "data": {
      "text/plain": [
       "Metropolitan area core: Primary flow within an Urbanized Area                                  40\n",
       "Metropolitan area core: Secondary flow 30% through 49% to a larger Urbanized Area               7\n",
       "Micropolitan area core: Primary flow within an Urban Cluster of 10,000 through 49,999           1\n",
       "Metropolitan area high commuting: Secondary flow 30% through 49% to a larger Urbanized Area     1\n",
       "Small town high commuting: Primary flow 30% or more to a small Urban Cluster                    1\n",
       "Name: Prscrbr_RUCA_Desc, dtype: int64"
      ]
     },
     "execution_count": 87,
     "metadata": {},
     "output_type": "execute_result"
    }
   ],
   "source": [
    "df['Prscrbr_RUCA_Desc'].value_counts()\n"
   ]
  },
  {
   "cell_type": "code",
   "execution_count": null,
   "id": "71d317fc",
   "metadata": {},
   "outputs": [],
   "source": [
    "# Clinical trial results\n",
    "\n",
    "<Struct Name=\"ConditionsModule\">\n",
    "        <List Name=\"ConditionList\">\n",
    "          <Field Name=\"Condition\">\n",
    "\n",
    "\n",
    " <List Name=\"ArmGroupInterventionList\">\n",
    "              <Field Name=\"ArmGroupInterventionName\">Device: FFC-MRI scan</Field>\n",
    "            </List>\n",
    "\n",
    "\n",
    "\n",
    "pour plus de détails de diseaeses prendreles MeSH terms: \n",
    "\n",
    "<List Name=\"InterventionAncestorList\">\n",
    "          <Struct Name=\"InterventionAncestor\">\n",
    "            <Field Name=\"InterventionAncestorId\">D000003278</Field>\n",
    "            <Field Name=\"InterventionAncestorTerm\">"
   ]
  },
  {
   "cell_type": "code",
   "execution_count": null,
   "id": "e7ee5bb0",
   "metadata": {},
   "outputs": [],
   "source": []
  },
  {
   "cell_type": "code",
   "execution_count": 136,
   "id": "8ade6b7a",
   "metadata": {},
   "outputs": [],
   "source": [
    "#folder = \"../data/clinical_results/AllAPIXML/NCT0000xxxx/\"\n",
    "folder = \"../data/clinical_results/AllAPIXML/NCT0517xxxx/\"\n",
    "\n",
    "#filename = \"NCT00000102.xml\"\n",
    "filename = \"NCT05174195.xml\"\n",
    "\n",
    "with open(folder+filename, 'r') as f:\n",
    "    data = f.read()\n",
    "Bs_data = BeautifulSoup(data, \"xml\")\n"
   ]
  },
  {
   "cell_type": "code",
   "execution_count": null,
   "id": "202fb897",
   "metadata": {},
   "outputs": [],
   "source": []
  },
  {
   "cell_type": "code",
   "execution_count": 2,
   "id": "b3845c3f",
   "metadata": {},
   "outputs": [
    {
     "data": {
      "text/plain": [
       "404694"
      ]
     },
     "execution_count": 2,
     "metadata": {},
     "output_type": "execute_result"
    }
   ],
   "source": [
    "folder = \"../data/clinical_results/AllAPIXML/\"\n",
    "list_files = []\n",
    "\n",
    "for path, subdirs, files in os.walk(folder):\n",
    "    for name in files:\n",
    "        file = os.path.join(path, name)\n",
    "        if \".xml\" in file:\n",
    "            list_files.append(file)\n",
    "            #print(file)\n",
    "len(list_files)       "
   ]
  },
  {
   "cell_type": "code",
   "execution_count": 3,
   "id": "87c90573",
   "metadata": {},
   "outputs": [
    {
     "data": {
      "text/plain": [
       "404694"
      ]
     },
     "execution_count": 3,
     "metadata": {},
     "output_type": "execute_result"
    }
   ],
   "source": [
    "len(list_files)"
   ]
  },
  {
   "cell_type": "code",
   "execution_count": 4,
   "id": "742e6378",
   "metadata": {},
   "outputs": [],
   "source": [
    "folder = \"../data/clinical_results/\""
   ]
  },
  {
   "cell_type": "code",
   "execution_count": null,
   "id": "bf579ed1",
   "metadata": {},
   "outputs": [],
   "source": [
    "folder = \"../data/clinical_results/\"\n",
    "file1 = open(folder+'drug_disease_clinical_trial.csv', 'w')\n",
    "file1.write(\"type_drug;drug;disease;filename\\n\")\n",
    "list_drugs_diseases = []\n",
    "i=0\n",
    "for file in list_files:\n",
    "    i=i+1\n",
    "    if(i%100000 == 0):\n",
    "        print(i)\n",
    "    with open(file, 'r') as f:\n",
    "        #print(file)\n",
    "        data = f.read()\n",
    "    Bs_data = BeautifulSoup(data, \"xml\")\n",
    "    \n",
    "    list_drugs = []\n",
    "    list_diseases = []\n",
    "    status = \"\"\n",
    "    \n",
    "    \n",
    "    b_unique = Bs_data.find_all(\"Field\", {\"Name\": \"OverallStatus\"})\n",
    "    for elem in b_unique:\n",
    "        status = elem.string\n",
    "    \n",
    "    if(status == \"Completed\"):\n",
    "    #if(status == \"Terminated\" or status == \"Completed\"):\n",
    "    # drug\n",
    "        b_unique = Bs_data.find_all(\"Field\", {\"Name\": \"ArmGroupInterventionName\"})\n",
    "\n",
    "        for elem in b_unique:\n",
    "            string = elem.string\n",
    "            \n",
    "            #if (\"Drug: \" in string):\n",
    "            #    drug = string.split(\"Drug: \")[1]\n",
    "            #else:\n",
    "            #    drug = string\n",
    "            drug = string\n",
    "            if (\",\" in drug):\n",
    "                #drug = drug.replace(\", \", \" \")\n",
    "                drug = drug.split(\",\")\n",
    "                for drug_i in drug:\n",
    "                    drug_i = drug_i.replace(\"  \", \" \")\n",
    "                    if(\":\" in drug_i):\n",
    "                        drug_i_list = drug_i.split(\": \", 1)\n",
    "                        if (type(drug_i_list) is list):\n",
    "                            if(len(drug_i_list)>2):\n",
    "                                type_drug= drug_i_list[0]\n",
    "\n",
    "                                op_drug = \" \".join(str(x) for x in drug_i_list[1:])\n",
    "                                type_and_drug_i = type_drug+\",\"+op_drug\n",
    "                                list_drugs.append(type_and_drug_i)\n",
    "                            else:\n",
    "                                type_and_drug_i = \",\".join(str(x) for x in drug_i_list)\n",
    "                                list_drugs.append(type_and_drug_i)\n",
    "                            \n",
    "                    #list_drugs.append(drug_i)\n",
    "            else:          \n",
    "                if(\":\" in drug):\n",
    "                    drug_list = drug.split(\": \", 1)\n",
    "                if (type(drug_list) is list):\n",
    "                    if(len(drug_list)>2):\n",
    "                        type_drug= drug_list[0]\n",
    "\n",
    "                        op_drug = \" \".join(str(x) for x in drug_list[1:])\n",
    "                        type_and_drug = type_drug+\",\"+op_drug\n",
    "                        list_drugs.append(type_and_drug)\n",
    "                        #print(drug)\n",
    "                    else:\n",
    "                        type_and_drug = \",\".join(str(x) for x in drug_list)\n",
    "                        list_drugs.append(type_and_drug)\n",
    "                    \n",
    "                #list_drugs.append(drug)\n",
    "            \n",
    "            \n",
    "            \n",
    "            #list_drugs.append(drug)\n",
    "            #print(drug)\n",
    "        #list_drugs\n",
    "        # disease = Mesh terms\n",
    "\n",
    "        #b_unique = Bs_data.find_all(\"Field\", {\"Name\": \"Condition\"})\n",
    "        #b_unique = Bs_data.find_all(\"Field\", {\"Name\": \"InterventionMeshTerm\"})\n",
    "        b_unique = Bs_data.find_all(\"Field\", {\"Name\": \"ConditionAncestorTerm\"})\n",
    "        \n",
    "        for elem in b_unique:\n",
    "            disease  = elem.string\n",
    "            if (\",\" in disease):\n",
    "                #disease = disease.replace(\", \", \" \")\n",
    "                disease = disease.split(\",\")\n",
    "                for disease_i in disease:\n",
    "                    #print(disease_i)\n",
    "                    disease_i = disease_i.replace(\"  \", \" \")\n",
    "                    if (\"Diseases\" in disease_i):\n",
    "                        disease_i = disease_i.replace(' Diseases','')\n",
    "                    list_diseases.append(disease_i)\n",
    "            else:            \n",
    "                if (\"Diseases\" in disease):\n",
    "                    disease = disease.replace(' Diseases','')\n",
    "                list_diseases.append(disease)\n",
    "            #print(disease)\n",
    "        #list_diseases\n",
    "        if((len(list_drugs)!=0) & (len(list_diseases)!=0)):\n",
    "            #print(list_drugs)\n",
    "            #print(list_diseases)\n",
    "            splited_file = file.split(\"/\")\n",
    "            size = len(splited_file)\n",
    "            filename = splited_file[size-1]\n",
    "            for drug in list_drugs:\n",
    "                for disease in list_diseases:\n",
    "                    #list_drugs_diseases.append((drug,disease, filename))\n",
    "                    string_drug_disease_filename = drug + \",\" + disease + \",\"+ filename +\"\\n\"\n",
    "                    #drug_and_type = \",\".join(str(x) for x in drug)\n",
    "                    #string_drug_disease_filename = drug_and_type + \",\" + disease + \",\"+ filename +\"\\n\"\n",
    "                    file1.write(string_drug_disease_filename)\n",
    "                    \n",
    "file1.close()\n",
    "                    \n",
    "            \n",
    "            #list_drugs_diseases.append((list_drugs,list_diseases, filename))\n"
   ]
  },
  {
   "cell_type": "code",
   "execution_count": 66,
   "id": "b7e0194c",
   "metadata": {},
   "outputs": [
    {
     "name": "stdout",
     "output_type": "stream",
     "text": [
      "100000\n",
      "200000\n",
      "300000\n",
      "400000\n"
     ]
    }
   ],
   "source": [
    "folder = \"../data/clinical_results/\"\n",
    "file1 = open(folder+'drug_disease_clinical_trial.csv', 'w')\n",
    "sep = \";;\"\n",
    "file1.write(\"type_drug\"+sep+\"drug\"+sep+\"disease\"+sep + \"filename\\n\")\n",
    "\n",
    "list_drugs_diseases = []\n",
    "i=0\n",
    "for file in list_files:\n",
    "    i=i+1\n",
    "    if(i%100000 == 0):\n",
    "        print(i)\n",
    "    with open(file, 'r') as f:\n",
    "        #print(file)\n",
    "        data = f.read()\n",
    "    Bs_data = BeautifulSoup(data, \"xml\")\n",
    "    \n",
    "    list_drugs = []\n",
    "    list_diseases = []\n",
    "    status = \"\"\n",
    "    \n",
    "    \n",
    "    b_unique = Bs_data.find_all(\"Field\", {\"Name\": \"OverallStatus\"})\n",
    "    for elem in b_unique:\n",
    "        status = elem.string\n",
    "    \n",
    "    if(status == \"Completed\"):\n",
    "    #if(status == \"Terminated\" or status == \"Completed\"):\n",
    "    # drug\n",
    "        b_unique = Bs_data.find_all(\"Field\", {\"Name\": \"ArmGroupInterventionName\"})\n",
    "\n",
    "        for elem in b_unique:\n",
    "            string = elem.string\n",
    "            \n",
    "            #if (\"Drug: \" in string):\n",
    "            #    drug = string.split(\"Drug: \")[1]\n",
    "            #else:\n",
    "            #    drug = string\n",
    "            drug = string\n",
    "             \n",
    "\n",
    "            drug_i_list = drug.split(\": \", 1)\n",
    "            type_drug = drug_i_list[0]\n",
    "            op_drug = drug_i_list[1]\n",
    "            type_and_drug_i = type_drug+sep+op_drug\n",
    "            list_drugs.append(type_and_drug_i)\n",
    "\n",
    "            \n",
    "           \n",
    "        \n",
    "        # disease = Mesh terms\n",
    "\n",
    "        #b_unique = Bs_data.find_all(\"Field\", {\"Name\": \"Condition\"})\n",
    "        #b_unique = Bs_data.find_all(\"Field\", {\"Name\": \"InterventionMeshTerm\"})\n",
    "        b_unique = Bs_data.find_all(\"Field\", {\"Name\": \"ConditionAncestorTerm\"})\n",
    "        \n",
    "        for elem in b_unique:\n",
    "            disease  = elem.string\n",
    "            if (\",\" in disease):\n",
    "                #disease = disease.replace(\", \", \" \")\n",
    "                disease = disease.split(\",\")\n",
    "                for disease_i in disease:\n",
    "                    #print(disease_i)\n",
    "                    disease_i = disease_i.replace(\"  \", \" \")\n",
    "                    if (\"Diseases\" in disease_i):\n",
    "                        disease_i = disease_i.replace(' Diseases','')\n",
    "                    list_diseases.append(disease_i)\n",
    "            else:            \n",
    "                if (\"Diseases\" in disease):\n",
    "                    disease = disease.replace(' Diseases','')\n",
    "                list_diseases.append(disease)\n",
    "            #print(disease)\n",
    "        #list_diseases\n",
    "        if((len(list_drugs)!=0) & (len(list_diseases)!=0)):\n",
    "            #print(list_drugs)\n",
    "            #print(list_diseases)\n",
    "            splited_file = file.split(\"/\")\n",
    "            size = len(splited_file)\n",
    "            filename = splited_file[size-1]\n",
    "            for drug in list_drugs:\n",
    "                for disease in list_diseases:\n",
    "                    #list_drugs_diseases.append((drug,disease, filename))\n",
    "                    string_drug_disease_filename = drug + sep + disease + sep + filename +\"\\n\"\n",
    "                    #drug_and_type = \",\".join(str(x) for x in drug)\n",
    "                    #string_drug_disease_filename = drug_and_type + \",\" + disease + \",\"+ filename +\"\\n\"\n",
    "                    file1.write(string_drug_disease_filename)\n",
    "                    \n",
    "file1.close()\n",
    "                    \n",
    "            \n",
    "            #list_drugs_diseases.append((list_drugs,list_diseases, filename))\n"
   ]
  },
  {
   "cell_type": "code",
   "execution_count": 3,
   "id": "39a14ed3",
   "metadata": {},
   "outputs": [],
   "source": [
    "folder = \"../data/clinical_results/\"\n",
    "sep = \";;\"\n",
    "file = 'drug_disease_clinical_trial.csv'\n",
    "df_drug_disease_clinical_trial = pd.read_csv(folder+file, sep=\";;\")\n",
    "df_drug_disease_clinical_trial.head(2)\n",
    "\n",
    "df_drug_disease_clinical_trial['type_drug'].value_counts()"
   ]
  },
  {
   "cell_type": "code",
   "execution_count": 4,
   "id": "9c7ad6a2",
   "metadata": {},
   "outputs": [
    {
     "name": "stderr",
     "output_type": "stream",
     "text": [
      "/home/sofiane/.virtualenvs/tigergraph_drug/lib/python3.6/site-packages/ipykernel_launcher.py:2: ParserWarning: Falling back to the 'python' engine because the 'c' engine does not support regex separators (separators > 1 char and different from '\\s+' are interpreted as regex); you can avoid this warning by specifying engine='python'.\n",
      "  \n"
     ]
    },
    {
     "data": {
      "text/html": [
       "<div>\n",
       "<style scoped>\n",
       "    .dataframe tbody tr th:only-of-type {\n",
       "        vertical-align: middle;\n",
       "    }\n",
       "\n",
       "    .dataframe tbody tr th {\n",
       "        vertical-align: top;\n",
       "    }\n",
       "\n",
       "    .dataframe thead th {\n",
       "        text-align: right;\n",
       "    }\n",
       "</style>\n",
       "<table border=\"1\" class=\"dataframe\">\n",
       "  <thead>\n",
       "    <tr style=\"text-align: right;\">\n",
       "      <th></th>\n",
       "      <th>type_drug</th>\n",
       "      <th>drug</th>\n",
       "      <th>disease</th>\n",
       "      <th>filename</th>\n",
       "    </tr>\n",
       "  </thead>\n",
       "  <tbody>\n",
       "    <tr>\n",
       "      <th>0</th>\n",
       "      <td>Drug</td>\n",
       "      <td>Tolterodine</td>\n",
       "      <td>Urinary Bladder</td>\n",
       "      <td>NCT00481728.xml</td>\n",
       "    </tr>\n",
       "    <tr>\n",
       "      <th>1</th>\n",
       "      <td>Drug</td>\n",
       "      <td>Tolterodine</td>\n",
       "      <td>Urologic</td>\n",
       "      <td>NCT00481728.xml</td>\n",
       "    </tr>\n",
       "  </tbody>\n",
       "</table>\n",
       "</div>"
      ],
      "text/plain": [
       "  type_drug         drug          disease         filename\n",
       "0      Drug  Tolterodine  Urinary Bladder  NCT00481728.xml\n",
       "1      Drug  Tolterodine         Urologic  NCT00481728.xml"
      ]
     },
     "execution_count": 4,
     "metadata": {},
     "output_type": "execute_result"
    }
   ],
   "source": [
    "file = 'drug_disease_clinical_trial.csv'\n",
    "df_drug_disease_clinical_trial = pd.read_csv(folder+file, sep=\";;\")\n",
    "df_drug_disease_clinical_trial.head(2)\n",
    "\n"
   ]
  },
  {
   "cell_type": "code",
   "execution_count": 5,
   "id": "3d66e895",
   "metadata": {},
   "outputs": [
    {
     "data": {
      "text/plain": [
       "Drug                   1176087\n",
       "Other                   309706\n",
       "Biological              199451\n",
       "Device                  152614\n",
       "Procedure               147906\n",
       "Behavioral              145420\n",
       "Dietary Supplement       50589\n",
       "Diagnostic Test          33025\n",
       "Radiation                28315\n",
       "Genetic                   8958\n",
       "Combination Product       4182\n",
       "Name: type_drug, dtype: int64"
      ]
     },
     "execution_count": 5,
     "metadata": {},
     "output_type": "execute_result"
    }
   ],
   "source": [
    "df_drug_disease_clinical_trial['type_drug'].value_counts()"
   ]
  },
  {
   "cell_type": "code",
   "execution_count": 42,
   "id": "9b31cacc",
   "metadata": {},
   "outputs": [],
   "source": [
    "#df_drug_disease_clinical_trial[~df_drug_disease_clinical_trial['disease'].str.contains('DISEASES')]"
   ]
  },
  {
   "cell_type": "code",
   "execution_count": null,
   "id": "4fb0a731",
   "metadata": {},
   "outputs": [],
   "source": []
  },
  {
   "cell_type": "code",
   "execution_count": 6,
   "id": "1abc6a08",
   "metadata": {},
   "outputs": [],
   "source": [
    "df_drug_disease_clinical_trial['drug'] = df_drug_disease_clinical_trial['drug'].str.upper()\n",
    "df_drug_disease_clinical_trial['disease'] = df_drug_disease_clinical_trial['disease'].str.upper()\n",
    "df_drug_disease_clinical_trial['type_drug'] = df_drug_disease_clinical_trial['type_drug'].str.upper()"
   ]
  },
  {
   "cell_type": "code",
   "execution_count": 7,
   "id": "8dc25d88",
   "metadata": {},
   "outputs": [
    {
     "data": {
      "text/html": [
       "<div>\n",
       "<style scoped>\n",
       "    .dataframe tbody tr th:only-of-type {\n",
       "        vertical-align: middle;\n",
       "    }\n",
       "\n",
       "    .dataframe tbody tr th {\n",
       "        vertical-align: top;\n",
       "    }\n",
       "\n",
       "    .dataframe thead th {\n",
       "        text-align: right;\n",
       "    }\n",
       "</style>\n",
       "<table border=\"1\" class=\"dataframe\">\n",
       "  <thead>\n",
       "    <tr style=\"text-align: right;\">\n",
       "      <th></th>\n",
       "      <th>type_drug</th>\n",
       "      <th>drug</th>\n",
       "      <th>disease</th>\n",
       "      <th>filename</th>\n",
       "    </tr>\n",
       "  </thead>\n",
       "  <tbody>\n",
       "    <tr>\n",
       "      <th>0</th>\n",
       "      <td>DRUG</td>\n",
       "      <td>TOLTERODINE</td>\n",
       "      <td>URINARY BLADDER</td>\n",
       "      <td>NCT00481728.xml</td>\n",
       "    </tr>\n",
       "    <tr>\n",
       "      <th>1</th>\n",
       "      <td>DRUG</td>\n",
       "      <td>TOLTERODINE</td>\n",
       "      <td>UROLOGIC</td>\n",
       "      <td>NCT00481728.xml</td>\n",
       "    </tr>\n",
       "  </tbody>\n",
       "</table>\n",
       "</div>"
      ],
      "text/plain": [
       "  type_drug         drug          disease         filename\n",
       "0      DRUG  TOLTERODINE  URINARY BLADDER  NCT00481728.xml\n",
       "1      DRUG  TOLTERODINE         UROLOGIC  NCT00481728.xml"
      ]
     },
     "execution_count": 7,
     "metadata": {},
     "output_type": "execute_result"
    }
   ],
   "source": [
    "df_drug_disease_clinical_trial.head(2)"
   ]
  },
  {
   "cell_type": "code",
   "execution_count": 8,
   "id": "64021b81",
   "metadata": {},
   "outputs": [
    {
     "data": {
      "text/plain": [
       "DRUG                   1176087\n",
       "OTHER                   309706\n",
       "BIOLOGICAL              199451\n",
       "DEVICE                  152614\n",
       "PROCEDURE               147906\n",
       "BEHAVIORAL              145420\n",
       "DIETARY SUPPLEMENT       50589\n",
       "DIAGNOSTIC TEST          33025\n",
       "RADIATION                28315\n",
       "GENETIC                   8958\n",
       "COMBINATION PRODUCT       4182\n",
       "Name: type_drug, dtype: int64"
      ]
     },
     "execution_count": 8,
     "metadata": {},
     "output_type": "execute_result"
    }
   ],
   "source": [
    "df_drug_disease_clinical_trial['type_drug'].value_counts()"
   ]
  },
  {
   "cell_type": "code",
   "execution_count": null,
   "id": "2f0c59df",
   "metadata": {},
   "outputs": [],
   "source": [
    "lire le fichier drug_disease_clinical_trial.csv\n",
    "ecrire les mots en upper\n",
    "split and count in drug column Drug: ... mots et Diseases dans la colum Diseases\n",
    "pour chaque disease croiser avec les drug cliniques et l'existant"
   ]
  },
  {
   "cell_type": "code",
   "execution_count": 14,
   "id": "583d9c90",
   "metadata": {},
   "outputs": [
    {
     "data": {
      "text/plain": [
       "12"
      ]
     },
     "execution_count": 14,
     "metadata": {},
     "output_type": "execute_result"
    }
   ],
   "source": [
    "len(list_drugs_diseases)"
   ]
  },
  {
   "cell_type": "code",
   "execution_count": 5,
   "id": "230730d6",
   "metadata": {},
   "outputs": [
    {
     "data": {
      "text/plain": [
       "113"
      ]
     },
     "execution_count": 5,
     "metadata": {},
     "output_type": "execute_result"
    }
   ],
   "source": [
    "len(list_drugs_diseases)"
   ]
  },
  {
   "cell_type": "code",
   "execution_count": null,
   "id": "86436fa7",
   "metadata": {},
   "outputs": [],
   "source": []
  },
  {
   "cell_type": "code",
   "execution_count": null,
   "id": "9a30be3b",
   "metadata": {},
   "outputs": [],
   "source": []
  },
  {
   "cell_type": "code",
   "execution_count": null,
   "id": "8ffc631a",
   "metadata": {},
   "outputs": [],
   "source": []
  },
  {
   "cell_type": "code",
   "execution_count": null,
   "id": "4346b83d",
   "metadata": {},
   "outputs": [],
   "source": []
  },
  {
   "cell_type": "code",
   "execution_count": null,
   "id": "25b700f5",
   "metadata": {},
   "outputs": [],
   "source": []
  },
  {
   "cell_type": "code",
   "execution_count": null,
   "id": "1f0d9bc9",
   "metadata": {},
   "outputs": [],
   "source": []
  },
  {
   "cell_type": "code",
   "execution_count": null,
   "id": "dbcdd8f4",
   "metadata": {},
   "outputs": [],
   "source": []
  },
  {
   "cell_type": "code",
   "execution_count": null,
   "id": "ec2b357c",
   "metadata": {},
   "outputs": [],
   "source": []
  },
  {
   "cell_type": "code",
   "execution_count": null,
   "id": "3b1e2897",
   "metadata": {},
   "outputs": [],
   "source": []
  }
 ],
 "metadata": {
  "kernelspec": {
   "display_name": "Python 3",
   "language": "python",
   "name": "python3"
  },
  "language_info": {
   "codemirror_mode": {
    "name": "ipython",
    "version": 3
   },
   "file_extension": ".py",
   "mimetype": "text/x-python",
   "name": "python",
   "nbconvert_exporter": "python",
   "pygments_lexer": "ipython3",
   "version": "3.6.9"
  }
 },
 "nbformat": 4,
 "nbformat_minor": 5
}
